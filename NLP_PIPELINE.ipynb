{
  "nbformat": 4,
  "nbformat_minor": 0,
  "metadata": {
    "colab": {
      "provenance": [],
      "include_colab_link": true
    },
    "kernelspec": {
      "name": "python3",
      "display_name": "Python 3"
    },
    "language_info": {
      "name": "python"
    }
  },
  "cells": [
    {
      "cell_type": "markdown",
      "metadata": {
        "id": "view-in-github",
        "colab_type": "text"
      },
      "source": [
        "<a href=\"https://colab.research.google.com/github/SarkisyanSergey/NLP_Pipiline/blob/main/NLP_PIPELINE.ipynb\" target=\"_parent\"><img src=\"https://colab.research.google.com/assets/colab-badge.svg\" alt=\"Open In Colab\"/></a>"
      ]
    },
    {
      "cell_type": "code",
      "execution_count": null,
      "metadata": {
        "id": "MtS057fXx4x6"
      },
      "outputs": [],
      "source": [
        "%%capture\n",
        "# установим  пакеты\n",
        "!pip install pysrt\n",
        "!pip install spacy\n",
        "!pip install tabula-py\n",
        "!pip install catboost #для оценки признаков"
      ]
    },
    {
      "cell_type": "code",
      "source": [
        "# импортируем библиотеки\n",
        "import os\n",
        "import re\n",
        "\n",
        "import numpy as np\n",
        "import pandas as pd\n",
        "import matplotlib.pyplot as plt\n",
        "from sklearn.model_selection import (train_test_split,\n",
        "                                     StratifiedShuffleSplit,\n",
        "                                     GridSearchCV\n",
        "                                     )\n",
        "from sklearn.pipeline import (Pipeline,\n",
        "                              FeatureUnion\n",
        "                              )\n",
        "\n",
        "from sklearn.metrics import (classification_report,\n",
        "                             f1_score,\n",
        "                             confusion_matrix,\n",
        "                             ConfusionMatrixDisplay\n",
        "                             )\n",
        "from sklearn.compose import ColumnTransformer\n",
        "from sklearn.preprocessing import MinMaxScaler\n",
        "from sklearn.naive_bayes import MultinomialNB\n",
        "from sklearn.linear_model import SGDClassifier\n",
        "from sklearn.feature_extraction.text import (TfidfVectorizer,\n",
        "                                             CountVectorizer\n",
        "                                             )\n",
        "from sklearn.base import (BaseEstimator,\n",
        "                          TransformerMixin\n",
        "                          )\n",
        "import pysrt\n",
        "import spacy\n",
        "import nltk\n",
        "from nltk.corpus import stopwords\n",
        "\n",
        "import requests\n",
        "import urllib\n",
        "import json\n",
        "import zipfile\n",
        "from zipfile import ZipFile\n",
        "import tabula\n",
        "from tabula import read_pdf\n",
        "from catboost import Pool, CatBoostClassifier"
      ],
      "metadata": {
        "id": "w82swcw6x8ga"
      },
      "execution_count": null,
      "outputs": []
    },
    {
      "cell_type": "code",
      "source": [
        "class TextSelector(BaseEstimator, TransformerMixin):\n",
        "    \"\"\"\n",
        "    Трансформер для выбора одного столбца для выполнения\n",
        "    дополнительных преобразований.\n",
        "    Использование в текстовых столбцах\n",
        "    \"\"\"\n",
        "    def __init__(self, key):\n",
        "        self.key = key\n",
        "\n",
        "    def fit(self, X, y=None):\n",
        "        return self\n",
        "\n",
        "    def transform(self, X):\n",
        "        return X[self.key]\n",
        "\n",
        "\n",
        "class NumberSelector(BaseEstimator, TransformerMixin):\n",
        "    \"\"\"\n",
        "    Трансформер для выбора одного столбца для выполнения\n",
        "    дополнительных преобразований.\n",
        "    Использование в числовых столбцах\n",
        "    \"\"\"\n",
        "    def __init__(self, key):\n",
        "        self.key = key\n",
        "\n",
        "    def fit(self, X, y=None):\n",
        "        return self\n",
        "\n",
        "    def transform(self, X):\n",
        "        return X[[self.key]]"
      ],
      "metadata": {
        "id": "37Ob2h78IN9_"
      },
      "execution_count": null,
      "outputs": []
    },
    {
      "cell_type": "markdown",
      "source": [
        "##Загрузка данных"
      ],
      "metadata": {
        "id": "AiHI0EbwIGz6"
      }
    },
    {
      "cell_type": "markdown",
      "source": [
        "###Загружаем данные по фильмам"
      ],
      "metadata": {
        "id": "Ekgb6imsL3UA"
      }
    },
    {
      "cell_type": "code",
      "source": [
        "#Импортируем файлы с Google Диска в Colab\n",
        "from google.colab import drive\n",
        "drive.mount('/content/drive')"
      ],
      "metadata": {
        "colab": {
          "base_uri": "https://localhost:8080/"
        },
        "id": "zkbXe0uwywjz",
        "outputId": "990ef36b-f467-41e5-86ae-b50766d0c718"
      },
      "execution_count": null,
      "outputs": [
        {
          "output_type": "stream",
          "name": "stdout",
          "text": [
            "Mounted at /content/drive\n"
          ]
        }
      ]
    },
    {
      "cell_type": "code",
      "source": [
        "PATH = '/content/drive/My Drive/Colab Notebooks/datasets'\n",
        "path_to_zip_file = f'{PATH}/English_scores.zip'\n",
        "path_to_zip_file"
      ],
      "metadata": {
        "colab": {
          "base_uri": "https://localhost:8080/",
          "height": 36
        },
        "id": "0OzYY61-zPnX",
        "outputId": "28c7721f-d0da-43c0-fb74-a3ef9d421aa6"
      },
      "execution_count": null,
      "outputs": [
        {
          "output_type": "execute_result",
          "data": {
            "text/plain": [
              "'/content/drive/My Drive/Colab Notebooks/datasets/English_scores.zip'"
            ],
            "application/vnd.google.colaboratory.intrinsic+json": {
              "type": "string"
            }
          },
          "metadata": {},
          "execution_count": 5
        }
      ]
    },
    {
      "cell_type": "code",
      "source": [
        "with ZipFile(path_to_zip_file, 'r') as zObject:\n",
        "  znm = zObject.namelist()"
      ],
      "metadata": {
        "id": "e-lGYMV7zmxk"
      },
      "execution_count": null,
      "outputs": []
    },
    {
      "cell_type": "code",
      "source": [
        "with ZipFile(path_to_zip_file, 'r') as zObject:\n",
        "  movies_labels = zObject.extract('movies_labels.xlsx')"
      ],
      "metadata": {
        "id": "kW15nSoUzfoZ"
      },
      "execution_count": null,
      "outputs": []
    },
    {
      "cell_type": "code",
      "source": [
        "#загружаем данные по фильмам\n",
        "df = pd.read_excel(movies_labels, index_col='id')\n",
        "df.head(3)"
      ],
      "metadata": {
        "id": "ixrEVKaeICdT",
        "colab": {
          "base_uri": "https://localhost:8080/",
          "height": 175
        },
        "outputId": "b22f3029-b752-4e33-f8f9-55ae1fad88a1"
      },
      "execution_count": null,
      "outputs": [
        {
          "output_type": "execute_result",
          "data": {
            "text/plain": [
              "                               Movie Level\n",
              "id                                        \n",
              "0          10_Cloverfield_lane(2016)    B1\n",
              "1   10_things_I_hate_about_you(1999)    B1\n",
              "2               A_knights_tale(2001)    B2"
            ],
            "text/html": [
              "\n",
              "\n",
              "  <div id=\"df-756c0275-0692-42da-9175-86ae246f8823\">\n",
              "    <div class=\"colab-df-container\">\n",
              "      <div>\n",
              "<style scoped>\n",
              "    .dataframe tbody tr th:only-of-type {\n",
              "        vertical-align: middle;\n",
              "    }\n",
              "\n",
              "    .dataframe tbody tr th {\n",
              "        vertical-align: top;\n",
              "    }\n",
              "\n",
              "    .dataframe thead th {\n",
              "        text-align: right;\n",
              "    }\n",
              "</style>\n",
              "<table border=\"1\" class=\"dataframe\">\n",
              "  <thead>\n",
              "    <tr style=\"text-align: right;\">\n",
              "      <th></th>\n",
              "      <th>Movie</th>\n",
              "      <th>Level</th>\n",
              "    </tr>\n",
              "    <tr>\n",
              "      <th>id</th>\n",
              "      <th></th>\n",
              "      <th></th>\n",
              "    </tr>\n",
              "  </thead>\n",
              "  <tbody>\n",
              "    <tr>\n",
              "      <th>0</th>\n",
              "      <td>10_Cloverfield_lane(2016)</td>\n",
              "      <td>B1</td>\n",
              "    </tr>\n",
              "    <tr>\n",
              "      <th>1</th>\n",
              "      <td>10_things_I_hate_about_you(1999)</td>\n",
              "      <td>B1</td>\n",
              "    </tr>\n",
              "    <tr>\n",
              "      <th>2</th>\n",
              "      <td>A_knights_tale(2001)</td>\n",
              "      <td>B2</td>\n",
              "    </tr>\n",
              "  </tbody>\n",
              "</table>\n",
              "</div>\n",
              "      <button class=\"colab-df-convert\" onclick=\"convertToInteractive('df-756c0275-0692-42da-9175-86ae246f8823')\"\n",
              "              title=\"Convert this dataframe to an interactive table.\"\n",
              "              style=\"display:none;\">\n",
              "\n",
              "  <svg xmlns=\"http://www.w3.org/2000/svg\" height=\"24px\"viewBox=\"0 0 24 24\"\n",
              "       width=\"24px\">\n",
              "    <path d=\"M0 0h24v24H0V0z\" fill=\"none\"/>\n",
              "    <path d=\"M18.56 5.44l.94 2.06.94-2.06 2.06-.94-2.06-.94-.94-2.06-.94 2.06-2.06.94zm-11 1L8.5 8.5l.94-2.06 2.06-.94-2.06-.94L8.5 2.5l-.94 2.06-2.06.94zm10 10l.94 2.06.94-2.06 2.06-.94-2.06-.94-.94-2.06-.94 2.06-2.06.94z\"/><path d=\"M17.41 7.96l-1.37-1.37c-.4-.4-.92-.59-1.43-.59-.52 0-1.04.2-1.43.59L10.3 9.45l-7.72 7.72c-.78.78-.78 2.05 0 2.83L4 21.41c.39.39.9.59 1.41.59.51 0 1.02-.2 1.41-.59l7.78-7.78 2.81-2.81c.8-.78.8-2.07 0-2.86zM5.41 20L4 18.59l7.72-7.72 1.47 1.35L5.41 20z\"/>\n",
              "  </svg>\n",
              "      </button>\n",
              "\n",
              "\n",
              "\n",
              "    <div id=\"df-94ec8c36-165f-49ec-8eb0-820d28bee120\">\n",
              "      <button class=\"colab-df-quickchart\" onclick=\"quickchart('df-94ec8c36-165f-49ec-8eb0-820d28bee120')\"\n",
              "              title=\"Suggest charts.\"\n",
              "              style=\"display:none;\">\n",
              "\n",
              "<svg xmlns=\"http://www.w3.org/2000/svg\" height=\"24px\"viewBox=\"0 0 24 24\"\n",
              "     width=\"24px\">\n",
              "    <g>\n",
              "        <path d=\"M19 3H5c-1.1 0-2 .9-2 2v14c0 1.1.9 2 2 2h14c1.1 0 2-.9 2-2V5c0-1.1-.9-2-2-2zM9 17H7v-7h2v7zm4 0h-2V7h2v10zm4 0h-2v-4h2v4z\"/>\n",
              "    </g>\n",
              "</svg>\n",
              "      </button>\n",
              "    </div>\n",
              "\n",
              "<style>\n",
              "  .colab-df-quickchart {\n",
              "    background-color: #E8F0FE;\n",
              "    border: none;\n",
              "    border-radius: 50%;\n",
              "    cursor: pointer;\n",
              "    display: none;\n",
              "    fill: #1967D2;\n",
              "    height: 32px;\n",
              "    padding: 0 0 0 0;\n",
              "    width: 32px;\n",
              "  }\n",
              "\n",
              "  .colab-df-quickchart:hover {\n",
              "    background-color: #E2EBFA;\n",
              "    box-shadow: 0px 1px 2px rgba(60, 64, 67, 0.3), 0px 1px 3px 1px rgba(60, 64, 67, 0.15);\n",
              "    fill: #174EA6;\n",
              "  }\n",
              "\n",
              "  [theme=dark] .colab-df-quickchart {\n",
              "    background-color: #3B4455;\n",
              "    fill: #D2E3FC;\n",
              "  }\n",
              "\n",
              "  [theme=dark] .colab-df-quickchart:hover {\n",
              "    background-color: #434B5C;\n",
              "    box-shadow: 0px 1px 3px 1px rgba(0, 0, 0, 0.15);\n",
              "    filter: drop-shadow(0px 1px 2px rgba(0, 0, 0, 0.3));\n",
              "    fill: #FFFFFF;\n",
              "  }\n",
              "</style>\n",
              "\n",
              "    <script>\n",
              "      async function quickchart(key) {\n",
              "        const containerElement = document.querySelector('#' + key);\n",
              "        const charts = await google.colab.kernel.invokeFunction(\n",
              "            'suggestCharts', [key], {});\n",
              "      }\n",
              "    </script>\n",
              "\n",
              "      <script>\n",
              "\n",
              "function displayQuickchartButton(domScope) {\n",
              "  let quickchartButtonEl =\n",
              "    domScope.querySelector('#df-94ec8c36-165f-49ec-8eb0-820d28bee120 button.colab-df-quickchart');\n",
              "  quickchartButtonEl.style.display =\n",
              "    google.colab.kernel.accessAllowed ? 'block' : 'none';\n",
              "}\n",
              "\n",
              "        displayQuickchartButton(document);\n",
              "      </script>\n",
              "      <style>\n",
              "    .colab-df-container {\n",
              "      display:flex;\n",
              "      flex-wrap:wrap;\n",
              "      gap: 12px;\n",
              "    }\n",
              "\n",
              "    .colab-df-convert {\n",
              "      background-color: #E8F0FE;\n",
              "      border: none;\n",
              "      border-radius: 50%;\n",
              "      cursor: pointer;\n",
              "      display: none;\n",
              "      fill: #1967D2;\n",
              "      height: 32px;\n",
              "      padding: 0 0 0 0;\n",
              "      width: 32px;\n",
              "    }\n",
              "\n",
              "    .colab-df-convert:hover {\n",
              "      background-color: #E2EBFA;\n",
              "      box-shadow: 0px 1px 2px rgba(60, 64, 67, 0.3), 0px 1px 3px 1px rgba(60, 64, 67, 0.15);\n",
              "      fill: #174EA6;\n",
              "    }\n",
              "\n",
              "    [theme=dark] .colab-df-convert {\n",
              "      background-color: #3B4455;\n",
              "      fill: #D2E3FC;\n",
              "    }\n",
              "\n",
              "    [theme=dark] .colab-df-convert:hover {\n",
              "      background-color: #434B5C;\n",
              "      box-shadow: 0px 1px 3px 1px rgba(0, 0, 0, 0.15);\n",
              "      filter: drop-shadow(0px 1px 2px rgba(0, 0, 0, 0.3));\n",
              "      fill: #FFFFFF;\n",
              "    }\n",
              "  </style>\n",
              "\n",
              "      <script>\n",
              "        const buttonEl =\n",
              "          document.querySelector('#df-756c0275-0692-42da-9175-86ae246f8823 button.colab-df-convert');\n",
              "        buttonEl.style.display =\n",
              "          google.colab.kernel.accessAllowed ? 'block' : 'none';\n",
              "\n",
              "        async function convertToInteractive(key) {\n",
              "          const element = document.querySelector('#df-756c0275-0692-42da-9175-86ae246f8823');\n",
              "          const dataTable =\n",
              "            await google.colab.kernel.invokeFunction('convertToInteractive',\n",
              "                                                     [key], {});\n",
              "          if (!dataTable) return;\n",
              "\n",
              "          const docLinkHtml = 'Like what you see? Visit the ' +\n",
              "            '<a target=\"_blank\" href=https://colab.research.google.com/notebooks/data_table.ipynb>data table notebook</a>'\n",
              "            + ' to learn more about interactive tables.';\n",
              "          element.innerHTML = '';\n",
              "          dataTable['output_type'] = 'display_data';\n",
              "          await google.colab.output.renderOutput(dataTable, element);\n",
              "          const docLink = document.createElement('div');\n",
              "          docLink.innerHTML = docLinkHtml;\n",
              "          element.appendChild(docLink);\n",
              "        }\n",
              "      </script>\n",
              "    </div>\n",
              "  </div>\n"
            ]
          },
          "metadata": {},
          "execution_count": 8
        }
      ]
    },
    {
      "cell_type": "code",
      "source": [
        "# определим какие целевые метки содержат данные\n",
        "df['Level'].unique()"
      ],
      "metadata": {
        "id": "KKLdf10GyLSx",
        "colab": {
          "base_uri": "https://localhost:8080/"
        },
        "outputId": "d7b2c165-360f-4ddd-ded6-5ed44ded8dbe"
      },
      "execution_count": null,
      "outputs": [
        {
          "output_type": "execute_result",
          "data": {
            "text/plain": [
              "array(['B1', 'B2', 'A2/A2+', 'C1', 'B1, B2', 'A2/A2+, B1', 'A2'],\n",
              "      dtype=object)"
            ]
          },
          "metadata": {},
          "execution_count": 9
        }
      ]
    },
    {
      "cell_type": "code",
      "source": [
        "# определим словарь меток с кодированием значений\n",
        "label_dict = {'A2': 1,\n",
        "              'A2/A2+': 1,\n",
        "              'B1': 2,\n",
        "              'A2/A2+, B1': 2,\n",
        "              'B2': 3,\n",
        "              'B1, B2': 3,\n",
        "              'C1': 4}\n",
        "# заменим метки числовыми значениями\n",
        "df['Level'] = df['Level'].replace(label_dict)"
      ],
      "metadata": {
        "id": "OcBS-bUdId7H"
      },
      "execution_count": null,
      "outputs": []
    },
    {
      "cell_type": "code",
      "source": [
        "# удалим дубликаты\n",
        "df = df.drop_duplicates()\n",
        "df.shape"
      ],
      "metadata": {
        "id": "XCL8yqqrIguv",
        "colab": {
          "base_uri": "https://localhost:8080/"
        },
        "outputId": "13606416-d52b-4ec6-b938-3c4f7277d0ef"
      },
      "execution_count": null,
      "outputs": [
        {
          "output_type": "execute_result",
          "data": {
            "text/plain": [
              "(238, 2)"
            ]
          },
          "metadata": {},
          "execution_count": 11
        }
      ]
    },
    {
      "cell_type": "markdown",
      "source": [
        "###Загрузка субтитров"
      ],
      "metadata": {
        "id": "2dZzlkUDL-qo"
      }
    },
    {
      "cell_type": "code",
      "source": [
        "films_name = {}\n",
        "for srt in znm:\n",
        "  if srt.find('.srt') != -1 and srt.find('__MACOSX') == -1:\n",
        "    films_name[srt.split('/')[-1]] = srt\n",
        "print(len(films_name))"
      ],
      "metadata": {
        "id": "utNQY7MNIjVn",
        "colab": {
          "base_uri": "https://localhost:8080/"
        },
        "outputId": "ae48de5e-db7a-4d8c-eb90-eb6d14b17e2d"
      },
      "execution_count": null,
      "outputs": [
        {
          "output_type": "stream",
          "name": "stdout",
          "text": [
            "278\n"
          ]
        }
      ]
    },
    {
      "cell_type": "code",
      "source": [
        "# проверим для скольких фильмов, имеющих метку из таблицы, предоставлены субтитры\n",
        "films_filtr = set(films_name.keys()) & set(df['Movie'] + '.srt')\n",
        "len(films_filtr)"
      ],
      "metadata": {
        "id": "9pisUGAmMB3w",
        "colab": {
          "base_uri": "https://localhost:8080/"
        },
        "outputId": "74164545-91c4-4f92-965c-d6879a43037c"
      },
      "execution_count": null,
      "outputs": [
        {
          "output_type": "execute_result",
          "data": {
            "text/plain": [
              "229"
            ]
          },
          "metadata": {},
          "execution_count": 13
        }
      ]
    },
    {
      "cell_type": "code",
      "source": [
        "def load_subs(film):\n",
        "  \"\"\"загружет субтитры\"\"\"\n",
        "  fsrt = f'{film}.srt'\n",
        "  if fsrt not in set(films_name.keys()):\n",
        "    return None\n",
        "  with ZipFile(path_to_zip_file, 'r') as zObject:\n",
        "    f = zObject.extract(films_name[fsrt])\n",
        "    try:\n",
        "      subs = pysrt.open(f)\n",
        "    except:\n",
        "      subs = pysrt.open(f,encoding='iso-8859-1')\n",
        "  return subs"
      ],
      "metadata": {
        "id": "r_uC_be_MebK"
      },
      "execution_count": null,
      "outputs": []
    },
    {
      "cell_type": "code",
      "source": [
        "%%time\n",
        "#загружаем субтитры\n",
        "df['subs'] = df['Movie'].apply(load_subs)"
      ],
      "metadata": {
        "id": "itG8oMQlMFog",
        "colab": {
          "base_uri": "https://localhost:8080/"
        },
        "outputId": "ea8860e3-7771-44d3-ff9c-8149b0c05c04"
      },
      "execution_count": null,
      "outputs": [
        {
          "output_type": "stream",
          "name": "stdout",
          "text": [
            "CPU times: user 12.6 s, sys: 384 ms, total: 13 s\n",
            "Wall time: 37.3 s\n"
          ]
        }
      ]
    },
    {
      "cell_type": "code",
      "source": [
        "df['subs']"
      ],
      "metadata": {
        "id": "EshUSy2yMUDn",
        "colab": {
          "base_uri": "https://localhost:8080/"
        },
        "outputId": "58779455-9bb7-464e-c28b-a4a90afbe8b5"
      },
      "execution_count": null,
      "outputs": [
        {
          "output_type": "execute_result",
          "data": {
            "text/plain": [
              "id\n",
              "0      [1\\n00:00:55,279 --> 00:01:07,279\\n<font color...\n",
              "1      [1\\n00:01:54,281 --> 00:01:55,698\\nHey!\\n, 2\\n...\n",
              "2      [1\\n00:00:15,089 --> 00:00:21,229\\nResync: Xen...\n",
              "3      [1\\n00:00:17,610 --> 00:00:22,610\\n- <i><font ...\n",
              "4      [1\\n00:00:27,240 --> 00:00:30,879\\n<i>Oh, I co...\n",
              "                             ...                        \n",
              "236                                                 None\n",
              "237                                                 None\n",
              "238                                                 None\n",
              "239                                                 None\n",
              "240                                                 None\n",
              "Name: subs, Length: 238, dtype: object"
            ]
          },
          "metadata": {},
          "execution_count": 16
        }
      ]
    },
    {
      "cell_type": "code",
      "source": [
        "#удаляем пропуски\n",
        "df = df.dropna().reset_index(drop=True)"
      ],
      "metadata": {
        "id": "R7URjKeJNDoN"
      },
      "execution_count": null,
      "outputs": []
    },
    {
      "cell_type": "code",
      "source": [
        "df"
      ],
      "metadata": {
        "id": "eN9D-Ek2HoCu",
        "colab": {
          "base_uri": "https://localhost:8080/",
          "height": 423
        },
        "outputId": "1332db87-5e76-4f2d-ef8e-792901114a62"
      },
      "execution_count": null,
      "outputs": [
        {
          "output_type": "execute_result",
          "data": {
            "text/plain": [
              "                                Movie  Level  \\\n",
              "0           10_Cloverfield_lane(2016)      2   \n",
              "1    10_things_I_hate_about_you(1999)      2   \n",
              "2                A_knights_tale(2001)      3   \n",
              "3                A_star_is_born(2018)      3   \n",
              "4                       Aladdin(1992)      1   \n",
              "..                                ...    ...   \n",
              "225   Suits.S03E06.720p.HDTV.x264-mSD      4   \n",
              "226        Suits.S03E07.HDTV.x264-mSD      4   \n",
              "227   Suits.S03E08.480p.HDTV.x264-mSD      4   \n",
              "228   Suits.S03E09.480p.HDTV.x264-mSD      4   \n",
              "229        Suits.S03E10.HDTV.x264-mSD      4   \n",
              "\n",
              "                                                  subs  \n",
              "0    [1\\n00:00:55,279 --> 00:01:07,279\\n<font color...  \n",
              "1    [1\\n00:01:54,281 --> 00:01:55,698\\nHey!\\n, 2\\n...  \n",
              "2    [1\\n00:00:15,089 --> 00:00:21,229\\nResync: Xen...  \n",
              "3    [1\\n00:00:17,610 --> 00:00:22,610\\n- <i><font ...  \n",
              "4    [1\\n00:00:27,240 --> 00:00:30,879\\n<i>Oh, I co...  \n",
              "..                                                 ...  \n",
              "225  [1\\n00:00:01,383 --> 00:00:02,751\\nI lost Ava ...  \n",
              "226  [1\\n00:00:00,052 --> 00:00:01,352\\nPreviously ...  \n",
              "227  [1\\n00:00:01,436 --> 00:00:03,028\\nI get Ava H...  \n",
              "228  [1\\n00:00:00,024 --> 00:00:01,478\\nPreviously ...  \n",
              "229  [1\\n00:00:00,015 --> 00:00:01,196\\nPreviously ...  \n",
              "\n",
              "[230 rows x 3 columns]"
            ],
            "text/html": [
              "\n",
              "\n",
              "  <div id=\"df-4d158015-7c97-4e9a-93bf-4edd8e5759f3\">\n",
              "    <div class=\"colab-df-container\">\n",
              "      <div>\n",
              "<style scoped>\n",
              "    .dataframe tbody tr th:only-of-type {\n",
              "        vertical-align: middle;\n",
              "    }\n",
              "\n",
              "    .dataframe tbody tr th {\n",
              "        vertical-align: top;\n",
              "    }\n",
              "\n",
              "    .dataframe thead th {\n",
              "        text-align: right;\n",
              "    }\n",
              "</style>\n",
              "<table border=\"1\" class=\"dataframe\">\n",
              "  <thead>\n",
              "    <tr style=\"text-align: right;\">\n",
              "      <th></th>\n",
              "      <th>Movie</th>\n",
              "      <th>Level</th>\n",
              "      <th>subs</th>\n",
              "    </tr>\n",
              "  </thead>\n",
              "  <tbody>\n",
              "    <tr>\n",
              "      <th>0</th>\n",
              "      <td>10_Cloverfield_lane(2016)</td>\n",
              "      <td>2</td>\n",
              "      <td>[1\\n00:00:55,279 --&gt; 00:01:07,279\\n&lt;font color...</td>\n",
              "    </tr>\n",
              "    <tr>\n",
              "      <th>1</th>\n",
              "      <td>10_things_I_hate_about_you(1999)</td>\n",
              "      <td>2</td>\n",
              "      <td>[1\\n00:01:54,281 --&gt; 00:01:55,698\\nHey!\\n, 2\\n...</td>\n",
              "    </tr>\n",
              "    <tr>\n",
              "      <th>2</th>\n",
              "      <td>A_knights_tale(2001)</td>\n",
              "      <td>3</td>\n",
              "      <td>[1\\n00:00:15,089 --&gt; 00:00:21,229\\nResync: Xen...</td>\n",
              "    </tr>\n",
              "    <tr>\n",
              "      <th>3</th>\n",
              "      <td>A_star_is_born(2018)</td>\n",
              "      <td>3</td>\n",
              "      <td>[1\\n00:00:17,610 --&gt; 00:00:22,610\\n- &lt;i&gt;&lt;font ...</td>\n",
              "    </tr>\n",
              "    <tr>\n",
              "      <th>4</th>\n",
              "      <td>Aladdin(1992)</td>\n",
              "      <td>1</td>\n",
              "      <td>[1\\n00:00:27,240 --&gt; 00:00:30,879\\n&lt;i&gt;Oh, I co...</td>\n",
              "    </tr>\n",
              "    <tr>\n",
              "      <th>...</th>\n",
              "      <td>...</td>\n",
              "      <td>...</td>\n",
              "      <td>...</td>\n",
              "    </tr>\n",
              "    <tr>\n",
              "      <th>225</th>\n",
              "      <td>Suits.S03E06.720p.HDTV.x264-mSD</td>\n",
              "      <td>4</td>\n",
              "      <td>[1\\n00:00:01,383 --&gt; 00:00:02,751\\nI lost Ava ...</td>\n",
              "    </tr>\n",
              "    <tr>\n",
              "      <th>226</th>\n",
              "      <td>Suits.S03E07.HDTV.x264-mSD</td>\n",
              "      <td>4</td>\n",
              "      <td>[1\\n00:00:00,052 --&gt; 00:00:01,352\\nPreviously ...</td>\n",
              "    </tr>\n",
              "    <tr>\n",
              "      <th>227</th>\n",
              "      <td>Suits.S03E08.480p.HDTV.x264-mSD</td>\n",
              "      <td>4</td>\n",
              "      <td>[1\\n00:00:01,436 --&gt; 00:00:03,028\\nI get Ava H...</td>\n",
              "    </tr>\n",
              "    <tr>\n",
              "      <th>228</th>\n",
              "      <td>Suits.S03E09.480p.HDTV.x264-mSD</td>\n",
              "      <td>4</td>\n",
              "      <td>[1\\n00:00:00,024 --&gt; 00:00:01,478\\nPreviously ...</td>\n",
              "    </tr>\n",
              "    <tr>\n",
              "      <th>229</th>\n",
              "      <td>Suits.S03E10.HDTV.x264-mSD</td>\n",
              "      <td>4</td>\n",
              "      <td>[1\\n00:00:00,015 --&gt; 00:00:01,196\\nPreviously ...</td>\n",
              "    </tr>\n",
              "  </tbody>\n",
              "</table>\n",
              "<p>230 rows × 3 columns</p>\n",
              "</div>\n",
              "      <button class=\"colab-df-convert\" onclick=\"convertToInteractive('df-4d158015-7c97-4e9a-93bf-4edd8e5759f3')\"\n",
              "              title=\"Convert this dataframe to an interactive table.\"\n",
              "              style=\"display:none;\">\n",
              "\n",
              "  <svg xmlns=\"http://www.w3.org/2000/svg\" height=\"24px\"viewBox=\"0 0 24 24\"\n",
              "       width=\"24px\">\n",
              "    <path d=\"M0 0h24v24H0V0z\" fill=\"none\"/>\n",
              "    <path d=\"M18.56 5.44l.94 2.06.94-2.06 2.06-.94-2.06-.94-.94-2.06-.94 2.06-2.06.94zm-11 1L8.5 8.5l.94-2.06 2.06-.94-2.06-.94L8.5 2.5l-.94 2.06-2.06.94zm10 10l.94 2.06.94-2.06 2.06-.94-2.06-.94-.94-2.06-.94 2.06-2.06.94z\"/><path d=\"M17.41 7.96l-1.37-1.37c-.4-.4-.92-.59-1.43-.59-.52 0-1.04.2-1.43.59L10.3 9.45l-7.72 7.72c-.78.78-.78 2.05 0 2.83L4 21.41c.39.39.9.59 1.41.59.51 0 1.02-.2 1.41-.59l7.78-7.78 2.81-2.81c.8-.78.8-2.07 0-2.86zM5.41 20L4 18.59l7.72-7.72 1.47 1.35L5.41 20z\"/>\n",
              "  </svg>\n",
              "      </button>\n",
              "\n",
              "\n",
              "\n",
              "    <div id=\"df-eb883059-60ba-455c-9577-0cd70253addd\">\n",
              "      <button class=\"colab-df-quickchart\" onclick=\"quickchart('df-eb883059-60ba-455c-9577-0cd70253addd')\"\n",
              "              title=\"Suggest charts.\"\n",
              "              style=\"display:none;\">\n",
              "\n",
              "<svg xmlns=\"http://www.w3.org/2000/svg\" height=\"24px\"viewBox=\"0 0 24 24\"\n",
              "     width=\"24px\">\n",
              "    <g>\n",
              "        <path d=\"M19 3H5c-1.1 0-2 .9-2 2v14c0 1.1.9 2 2 2h14c1.1 0 2-.9 2-2V5c0-1.1-.9-2-2-2zM9 17H7v-7h2v7zm4 0h-2V7h2v10zm4 0h-2v-4h2v4z\"/>\n",
              "    </g>\n",
              "</svg>\n",
              "      </button>\n",
              "    </div>\n",
              "\n",
              "<style>\n",
              "  .colab-df-quickchart {\n",
              "    background-color: #E8F0FE;\n",
              "    border: none;\n",
              "    border-radius: 50%;\n",
              "    cursor: pointer;\n",
              "    display: none;\n",
              "    fill: #1967D2;\n",
              "    height: 32px;\n",
              "    padding: 0 0 0 0;\n",
              "    width: 32px;\n",
              "  }\n",
              "\n",
              "  .colab-df-quickchart:hover {\n",
              "    background-color: #E2EBFA;\n",
              "    box-shadow: 0px 1px 2px rgba(60, 64, 67, 0.3), 0px 1px 3px 1px rgba(60, 64, 67, 0.15);\n",
              "    fill: #174EA6;\n",
              "  }\n",
              "\n",
              "  [theme=dark] .colab-df-quickchart {\n",
              "    background-color: #3B4455;\n",
              "    fill: #D2E3FC;\n",
              "  }\n",
              "\n",
              "  [theme=dark] .colab-df-quickchart:hover {\n",
              "    background-color: #434B5C;\n",
              "    box-shadow: 0px 1px 3px 1px rgba(0, 0, 0, 0.15);\n",
              "    filter: drop-shadow(0px 1px 2px rgba(0, 0, 0, 0.3));\n",
              "    fill: #FFFFFF;\n",
              "  }\n",
              "</style>\n",
              "\n",
              "    <script>\n",
              "      async function quickchart(key) {\n",
              "        const containerElement = document.querySelector('#' + key);\n",
              "        const charts = await google.colab.kernel.invokeFunction(\n",
              "            'suggestCharts', [key], {});\n",
              "      }\n",
              "    </script>\n",
              "\n",
              "      <script>\n",
              "\n",
              "function displayQuickchartButton(domScope) {\n",
              "  let quickchartButtonEl =\n",
              "    domScope.querySelector('#df-eb883059-60ba-455c-9577-0cd70253addd button.colab-df-quickchart');\n",
              "  quickchartButtonEl.style.display =\n",
              "    google.colab.kernel.accessAllowed ? 'block' : 'none';\n",
              "}\n",
              "\n",
              "        displayQuickchartButton(document);\n",
              "      </script>\n",
              "      <style>\n",
              "    .colab-df-container {\n",
              "      display:flex;\n",
              "      flex-wrap:wrap;\n",
              "      gap: 12px;\n",
              "    }\n",
              "\n",
              "    .colab-df-convert {\n",
              "      background-color: #E8F0FE;\n",
              "      border: none;\n",
              "      border-radius: 50%;\n",
              "      cursor: pointer;\n",
              "      display: none;\n",
              "      fill: #1967D2;\n",
              "      height: 32px;\n",
              "      padding: 0 0 0 0;\n",
              "      width: 32px;\n",
              "    }\n",
              "\n",
              "    .colab-df-convert:hover {\n",
              "      background-color: #E2EBFA;\n",
              "      box-shadow: 0px 1px 2px rgba(60, 64, 67, 0.3), 0px 1px 3px 1px rgba(60, 64, 67, 0.15);\n",
              "      fill: #174EA6;\n",
              "    }\n",
              "\n",
              "    [theme=dark] .colab-df-convert {\n",
              "      background-color: #3B4455;\n",
              "      fill: #D2E3FC;\n",
              "    }\n",
              "\n",
              "    [theme=dark] .colab-df-convert:hover {\n",
              "      background-color: #434B5C;\n",
              "      box-shadow: 0px 1px 3px 1px rgba(0, 0, 0, 0.15);\n",
              "      filter: drop-shadow(0px 1px 2px rgba(0, 0, 0, 0.3));\n",
              "      fill: #FFFFFF;\n",
              "    }\n",
              "  </style>\n",
              "\n",
              "      <script>\n",
              "        const buttonEl =\n",
              "          document.querySelector('#df-4d158015-7c97-4e9a-93bf-4edd8e5759f3 button.colab-df-convert');\n",
              "        buttonEl.style.display =\n",
              "          google.colab.kernel.accessAllowed ? 'block' : 'none';\n",
              "\n",
              "        async function convertToInteractive(key) {\n",
              "          const element = document.querySelector('#df-4d158015-7c97-4e9a-93bf-4edd8e5759f3');\n",
              "          const dataTable =\n",
              "            await google.colab.kernel.invokeFunction('convertToInteractive',\n",
              "                                                     [key], {});\n",
              "          if (!dataTable) return;\n",
              "\n",
              "          const docLinkHtml = 'Like what you see? Visit the ' +\n",
              "            '<a target=\"_blank\" href=https://colab.research.google.com/notebooks/data_table.ipynb>data table notebook</a>'\n",
              "            + ' to learn more about interactive tables.';\n",
              "          element.innerHTML = '';\n",
              "          dataTable['output_type'] = 'display_data';\n",
              "          await google.colab.output.renderOutput(dataTable, element);\n",
              "          const docLink = document.createElement('div');\n",
              "          docLink.innerHTML = docLinkHtml;\n",
              "          element.appendChild(docLink);\n",
              "        }\n",
              "      </script>\n",
              "    </div>\n",
              "  </div>\n"
            ]
          },
          "metadata": {},
          "execution_count": 18
        }
      ]
    },
    {
      "cell_type": "markdown",
      "source": [
        "###Оценка дисбаланса классов уровней"
      ],
      "metadata": {
        "id": "1Jpj9-fA4h1K"
      }
    },
    {
      "cell_type": "code",
      "source": [
        "df['Level'].value_counts()"
      ],
      "metadata": {
        "colab": {
          "base_uri": "https://localhost:8080/"
        },
        "id": "cgkQRkDc3d0w",
        "outputId": "b9b8c19d-1b21-4ac0-fc46-16f977448fa6"
      },
      "execution_count": null,
      "outputs": [
        {
          "output_type": "execute_result",
          "data": {
            "text/plain": [
              "3    105\n",
              "2     55\n",
              "4     39\n",
              "1     31\n",
              "Name: Level, dtype: int64"
            ]
          },
          "metadata": {},
          "execution_count": 19
        }
      ]
    },
    {
      "cell_type": "markdown",
      "source": [
        "###Разделение данных на обучающую и тестовую выборки"
      ],
      "metadata": {
        "id": "NJy8-kV-1ZDt"
      }
    },
    {
      "cell_type": "code",
      "source": [
        "STATE = 0\n",
        "df_train, df_test = train_test_split(df, random_state=STATE,\n",
        "                                    test_size=0.25,\n",
        "                                    stratify=df['Level'])\n",
        "X = df_train.drop(['Level','Movie'], axis=1)\n",
        "y = df_train['Level']\n",
        "X_test = df_test.drop(['Level','Movie'], axis=1)\n",
        "y_test = df_test['Level']\n",
        "print(f'Размер обучающей выборки: {X.shape, y.shape}')\n",
        "print(f'Размер тестовой выборки: {X_test.shape, y_test.shape}')"
      ],
      "metadata": {
        "colab": {
          "base_uri": "https://localhost:8080/"
        },
        "id": "nIaAqXTqjcZ4",
        "outputId": "6a498bee-9830-4fa9-e529-1f9858db1f69"
      },
      "execution_count": null,
      "outputs": [
        {
          "output_type": "stream",
          "name": "stdout",
          "text": [
            "Размер обучающей выборки: ((172, 1), (172,))\n",
            "Размер тестовой выборки: ((58, 1), (58,))\n"
          ]
        }
      ]
    },
    {
      "cell_type": "markdown",
      "source": [
        "###Очищаем субтитры"
      ],
      "metadata": {
        "id": "F1bs_FYK1NWK"
      }
    },
    {
      "cell_type": "code",
      "source": [
        "# зададим регулярные выражения для очистки текста\n",
        "HTML = r'<.*?>' # html тэги меняем на пробел\n",
        "TAG = r'{.*?}' # тэги меняем на пробел\n",
        "COMMENTS = r'[\\(\\[][A-Za-z ]+[\\)\\]]' # комменты в скобках меняем на пробел\n",
        "LETTERS = r'[^\\w\\s]' # все что не буквы меняем на пробел\n",
        "SPACES = r'([ ])\\1+' # повторяющиеся пробелы меняем на один пробел\n",
        "DOTS = r'[\\.]+' # многоточие меняем на точку\n",
        "SYMB = r\"[^\\w\\d'\\s]\" # знаки препинания кроме апострофа\n",
        "def clean_subs(subs):\n",
        "  \"\"\"очистки субтитров\"\"\"\n",
        "  subs = subs[1:] # удаляем первый рекламный субтитр\n",
        "  txt = re.sub(HTML, ' ', subs.text) # html тэги меняем на пробел\n",
        "  txt = re.sub(COMMENTS, ' ', txt) # комменты в скобках меняем на пробел\n",
        "  txt = re.sub(LETTERS, ' ', txt) # все что не буквы меняем на пробел\n",
        "  txt = re.sub(DOTS, r'.', txt) # многоточие меняем на точку\n",
        "  txt = re.sub(SPACES, r'\\1', txt) # повторяющиеся пробелы меняем на один пробел\n",
        "  txt = re.sub(SYMB, '', txt) # знаки препинания кроме апострофа на пустую строку\n",
        "  txt = re.sub('www', '', txt) # кое-где остаётся www, то же меняем на пустую строку\n",
        "  txt = txt.lstrip().rstrip().replace(\"\\n\",\"\") # обрезка пробелов слева\n",
        "  txt = txt.encode('ascii', 'ignore').decode() # удаляем все что не ascii символы\n",
        "  txt = txt.lower() # текст в нижний регистр\n",
        "  txt = ' '.join(txt.split())\n",
        "  return txt"
      ],
      "metadata": {
        "id": "9cPutFs0MnsF"
      },
      "execution_count": null,
      "outputs": []
    },
    {
      "cell_type": "code",
      "source": [
        "%%time\n",
        "X['subs'] = X['subs'].apply(clean_subs)\n",
        "X['subs']"
      ],
      "metadata": {
        "id": "lt-po1-2M32x",
        "colab": {
          "base_uri": "https://localhost:8080/"
        },
        "outputId": "4d7e8dcb-12b6-4d39-decd-699022eb11df"
      },
      "execution_count": null,
      "outputs": [
        {
          "output_type": "stream",
          "name": "stdout",
          "text": [
            "CPU times: user 1.23 s, sys: 12.5 ms, total: 1.24 s\n",
            "Wall time: 1.26 s\n"
          ]
        },
        {
          "output_type": "execute_result",
          "data": {
            "text/plain": [
              "20     our first guest he s made a career outof being...\n",
              "163    i ever brought into the firm i have stacked my...\n",
              "28     rhythmic thumping musicplaying my planetarraki...\n",
              "35     my name s forrest forrest gump do you want a c...\n",
              "166    i am placing harvey specteron immediate unpaid...\n",
              "                             ...                        \n",
              "226    it s going upon the wall tomorrow and this is ...\n",
              "26     what gives you that idea you want to know the ...\n",
              "57     thank you so how does it feelbeing back after ...\n",
              "220    you win you get what you want you lose you sta...\n",
              "119    our planet looked very differentfrom what it d...\n",
              "Name: subs, Length: 172, dtype: object"
            ]
          },
          "metadata": {},
          "execution_count": 22
        }
      ]
    },
    {
      "cell_type": "markdown",
      "source": [
        "###Загрузка словарей"
      ],
      "metadata": {
        "id": "Yw3BdvXDiKBS"
      }
    },
    {
      "cell_type": "code",
      "source": [
        "path_to_zip_file = f'{PATH}/Oxford_CEFR_level.zip'\n",
        "with ZipFile(path_to_zip_file, 'r') as zObject:\n",
        "  Oxf3 = zObject.extract('The_Oxford_3000_by_CEFR_level.pdf')\n",
        "  Oxf5 = zObject.extract('The_Oxford_5000_by_CEFR_level.pdf')"
      ],
      "metadata": {
        "id": "fgeVmzUzbhwp"
      },
      "execution_count": null,
      "outputs": []
    },
    {
      "cell_type": "code",
      "source": [
        "pdf3000 = tabula.read_pdf(Oxf3,\n",
        "                      pages='all',\n",
        "                      stream=True,\n",
        "                      guess=False,\n",
        "                      pandas_options={'header': None})\n",
        "print(f'количество страниц The_Oxford_3000_by_CEFR_level: {len(pdf3000)}')"
      ],
      "metadata": {
        "colab": {
          "base_uri": "https://localhost:8080/"
        },
        "id": "ypPU-OD1cqRX",
        "outputId": "809b4504-de75-458b-ed2d-63be142a811f"
      },
      "execution_count": null,
      "outputs": [
        {
          "output_type": "stream",
          "name": "stdout",
          "text": [
            "количество страниц The_Oxford_3000_by_CEFR_level: 12\n"
          ]
        }
      ]
    },
    {
      "cell_type": "code",
      "source": [
        "pdf5000 = tabula.read_pdf(Oxf5,\n",
        "                      pages='all',\n",
        "                      stream=True,\n",
        "                      guess=False,\n",
        "                      pandas_options={'header': None})\n",
        "print(f'количество страниц The_Oxford_5000_by_CEFR_level в tabula: {len(pdf5000)}')"
      ],
      "metadata": {
        "colab": {
          "base_uri": "https://localhost:8080/"
        },
        "id": "5gpIK2_Yc8hu",
        "outputId": "18b5a8aa-773b-4019-ed7a-f48cda642e1e"
      },
      "execution_count": null,
      "outputs": [
        {
          "output_type": "stream",
          "name": "stdout",
          "text": [
            "количество страниц The_Oxford_5000_by_CEFR_level в tabula: 8\n"
          ]
        }
      ]
    },
    {
      "cell_type": "code",
      "source": [
        "spisokslov = []\n",
        "\n",
        "def df_to_list(df,spisokslov):\n",
        "  \"\"\"выбирает все слва из словаря и помещает их в список\"\"\"\n",
        "  for col in df.columns:\n",
        "    #разделяем ячейки так как tabula в одну ячейку может поместить несколько строк\n",
        "    tmpdf = df[col].astype('string').str.split(' ', expand= True)\n",
        "    for col in tmpdf.columns:\n",
        "      rcol = tmpdf[tmpdf[col].notna()][col].str.lower()\n",
        "      #оставляем только слова\n",
        "      rcol = rcol[rcol.str.isalpha()]\n",
        "      spisokslov = spisokslov + list(rcol.unique())\n",
        "  return  spisokslov\n",
        "\n",
        "for i in range(0,len(pdf3000)):\n",
        "  spisokslov = df_to_list(pdf3000[i], spisokslov)\n",
        "\n",
        "for i in range(0,len(pdf5000)):\n",
        "  spisokslov = df_to_list(pdf5000[i], spisokslov)"
      ],
      "metadata": {
        "id": "EG-rGROoc-cz"
      },
      "execution_count": null,
      "outputs": []
    },
    {
      "cell_type": "code",
      "source": [
        "a2 = spisokslov.index('ability') #индекс первого слова уровня a2\n",
        "b1 = spisokslov.index('absolutely')#индекс первого слова b1\n",
        "b2 = spisokslov.index('abandon')#индекс первого слова b2\n",
        "c1 = spisokslov.index('abolish')#индекс первого слова с1\n",
        "levels = ['A2','B1','B2','C1']\n",
        "vlev = {levels[0] : set(spisokslov[a2:b1]),\n",
        "        levels[1]: set(spisokslov[b1:b2]),\n",
        "        levels[2]: set(spisokslov[b2:c1]),\n",
        "        levels[3]: set(spisokslov[c1:]),\n",
        "        }"
      ],
      "metadata": {
        "id": "U0ztz_hndR5r"
      },
      "execution_count": null,
      "outputs": []
    },
    {
      "cell_type": "markdown",
      "source": [
        "###Оценка дисбаланса классов словарей"
      ],
      "metadata": {
        "id": "C5CtGwQf18eo"
      }
    },
    {
      "cell_type": "code",
      "source": [
        "for level in levels:\n",
        "  print(level,'=',len(vlev[level]))"
      ],
      "metadata": {
        "colab": {
          "base_uri": "https://localhost:8080/"
        },
        "id": "EayWq6O_h2Mq",
        "outputId": "83cdb18b-9523-4de1-c782-ae11d1dc1618"
      },
      "execution_count": null,
      "outputs": [
        {
          "output_type": "stream",
          "name": "stdout",
          "text": [
            "A2 = 866\n",
            "B1 = 807\n",
            "B2 = 1433\n",
            "C1 = 1308\n"
          ]
        }
      ]
    },
    {
      "cell_type": "markdown",
      "source": [
        "###Добавление признаков"
      ],
      "metadata": {
        "id": "qjpkWK-H2Cew"
      }
    },
    {
      "cell_type": "code",
      "source": [
        "def count_percent_words_dictionar(sub):\n",
        "  \"\"\"считает процент лем в словарях\"\"\"\n",
        "  nlp = spacy.load('en_core_web_sm' )\n",
        "  doc = nlp(sub)\n",
        "  lms = set([token.lemma_ for token in doc])\n",
        "  lem_per = [(len(lms&vlev[level])/len(lms))*100 for level in levels]\n",
        "  return lem_per"
      ],
      "metadata": {
        "id": "NPBh4488i0eY"
      },
      "execution_count": null,
      "outputs": []
    },
    {
      "cell_type": "code",
      "source": [
        "%%time\n",
        "levpercent = [f'{_}+percent' for _ in levels]\n",
        "X.loc[:,levpercent] = X['subs'].apply(count_percent_words_dictionar).to_list()\n",
        "X"
      ],
      "metadata": {
        "colab": {
          "base_uri": "https://localhost:8080/",
          "height": 460
        },
        "id": "4YeE3MUzjz50",
        "outputId": "6b3a67e3-fe29-433e-c737-1bf5e60714bb"
      },
      "execution_count": null,
      "outputs": [
        {
          "output_type": "stream",
          "name": "stdout",
          "text": [
            "CPU times: user 6min 19s, sys: 6.52 s, total: 6min 25s\n",
            "Wall time: 6min 30s\n"
          ]
        },
        {
          "output_type": "execute_result",
          "data": {
            "text/plain": [
              "                                                  subs  A2+percent  \\\n",
              "20   our first guest he s made a career outof being...   15.127701   \n",
              "163  i ever brought into the firm i have stacked my...   12.868440   \n",
              "28   rhythmic thumping musicplaying my planetarraki...   14.320242   \n",
              "35   my name s forrest forrest gump do you want a c...   15.354108   \n",
              "166  i am placing harvey specteron immediate unpaid...   11.118737   \n",
              "..                                                 ...         ...   \n",
              "226  it s going upon the wall tomorrow and this is ...   11.973244   \n",
              "26   what gives you that idea you want to know the ...   14.508929   \n",
              "57   thank you so how does it feelbeing back after ...   16.900093   \n",
              "220  you win you get what you want you lose you sta...   11.980939   \n",
              "119  our planet looked very differentfrom what it d...   16.438356   \n",
              "\n",
              "     B1+percent  B2+percent  C1+percent  \n",
              "20     9.282908    8.398821    3.732809  \n",
              "163    7.979871    7.692308    2.300503  \n",
              "28     8.640483    9.788520    4.048338  \n",
              "35     9.008499    7.308782    2.719547  \n",
              "166    7.343857    7.824296    3.225806  \n",
              "..          ...         ...         ...  \n",
              "226    7.959866    7.491639    3.478261  \n",
              "26     9.263393    9.207589    3.962054  \n",
              "57    10.457516   12.418301    4.761905  \n",
              "220    7.488087    8.100749    3.131382  \n",
              "119   10.834371   12.951432    4.483188  \n",
              "\n",
              "[172 rows x 5 columns]"
            ],
            "text/html": [
              "\n",
              "\n",
              "  <div id=\"df-a06364dc-186e-4280-9ec8-433fca96a522\">\n",
              "    <div class=\"colab-df-container\">\n",
              "      <div>\n",
              "<style scoped>\n",
              "    .dataframe tbody tr th:only-of-type {\n",
              "        vertical-align: middle;\n",
              "    }\n",
              "\n",
              "    .dataframe tbody tr th {\n",
              "        vertical-align: top;\n",
              "    }\n",
              "\n",
              "    .dataframe thead th {\n",
              "        text-align: right;\n",
              "    }\n",
              "</style>\n",
              "<table border=\"1\" class=\"dataframe\">\n",
              "  <thead>\n",
              "    <tr style=\"text-align: right;\">\n",
              "      <th></th>\n",
              "      <th>subs</th>\n",
              "      <th>A2+percent</th>\n",
              "      <th>B1+percent</th>\n",
              "      <th>B2+percent</th>\n",
              "      <th>C1+percent</th>\n",
              "    </tr>\n",
              "  </thead>\n",
              "  <tbody>\n",
              "    <tr>\n",
              "      <th>20</th>\n",
              "      <td>our first guest he s made a career outof being...</td>\n",
              "      <td>15.127701</td>\n",
              "      <td>9.282908</td>\n",
              "      <td>8.398821</td>\n",
              "      <td>3.732809</td>\n",
              "    </tr>\n",
              "    <tr>\n",
              "      <th>163</th>\n",
              "      <td>i ever brought into the firm i have stacked my...</td>\n",
              "      <td>12.868440</td>\n",
              "      <td>7.979871</td>\n",
              "      <td>7.692308</td>\n",
              "      <td>2.300503</td>\n",
              "    </tr>\n",
              "    <tr>\n",
              "      <th>28</th>\n",
              "      <td>rhythmic thumping musicplaying my planetarraki...</td>\n",
              "      <td>14.320242</td>\n",
              "      <td>8.640483</td>\n",
              "      <td>9.788520</td>\n",
              "      <td>4.048338</td>\n",
              "    </tr>\n",
              "    <tr>\n",
              "      <th>35</th>\n",
              "      <td>my name s forrest forrest gump do you want a c...</td>\n",
              "      <td>15.354108</td>\n",
              "      <td>9.008499</td>\n",
              "      <td>7.308782</td>\n",
              "      <td>2.719547</td>\n",
              "    </tr>\n",
              "    <tr>\n",
              "      <th>166</th>\n",
              "      <td>i am placing harvey specteron immediate unpaid...</td>\n",
              "      <td>11.118737</td>\n",
              "      <td>7.343857</td>\n",
              "      <td>7.824296</td>\n",
              "      <td>3.225806</td>\n",
              "    </tr>\n",
              "    <tr>\n",
              "      <th>...</th>\n",
              "      <td>...</td>\n",
              "      <td>...</td>\n",
              "      <td>...</td>\n",
              "      <td>...</td>\n",
              "      <td>...</td>\n",
              "    </tr>\n",
              "    <tr>\n",
              "      <th>226</th>\n",
              "      <td>it s going upon the wall tomorrow and this is ...</td>\n",
              "      <td>11.973244</td>\n",
              "      <td>7.959866</td>\n",
              "      <td>7.491639</td>\n",
              "      <td>3.478261</td>\n",
              "    </tr>\n",
              "    <tr>\n",
              "      <th>26</th>\n",
              "      <td>what gives you that idea you want to know the ...</td>\n",
              "      <td>14.508929</td>\n",
              "      <td>9.263393</td>\n",
              "      <td>9.207589</td>\n",
              "      <td>3.962054</td>\n",
              "    </tr>\n",
              "    <tr>\n",
              "      <th>57</th>\n",
              "      <td>thank you so how does it feelbeing back after ...</td>\n",
              "      <td>16.900093</td>\n",
              "      <td>10.457516</td>\n",
              "      <td>12.418301</td>\n",
              "      <td>4.761905</td>\n",
              "    </tr>\n",
              "    <tr>\n",
              "      <th>220</th>\n",
              "      <td>you win you get what you want you lose you sta...</td>\n",
              "      <td>11.980939</td>\n",
              "      <td>7.488087</td>\n",
              "      <td>8.100749</td>\n",
              "      <td>3.131382</td>\n",
              "    </tr>\n",
              "    <tr>\n",
              "      <th>119</th>\n",
              "      <td>our planet looked very differentfrom what it d...</td>\n",
              "      <td>16.438356</td>\n",
              "      <td>10.834371</td>\n",
              "      <td>12.951432</td>\n",
              "      <td>4.483188</td>\n",
              "    </tr>\n",
              "  </tbody>\n",
              "</table>\n",
              "<p>172 rows × 5 columns</p>\n",
              "</div>\n",
              "      <button class=\"colab-df-convert\" onclick=\"convertToInteractive('df-a06364dc-186e-4280-9ec8-433fca96a522')\"\n",
              "              title=\"Convert this dataframe to an interactive table.\"\n",
              "              style=\"display:none;\">\n",
              "\n",
              "  <svg xmlns=\"http://www.w3.org/2000/svg\" height=\"24px\"viewBox=\"0 0 24 24\"\n",
              "       width=\"24px\">\n",
              "    <path d=\"M0 0h24v24H0V0z\" fill=\"none\"/>\n",
              "    <path d=\"M18.56 5.44l.94 2.06.94-2.06 2.06-.94-2.06-.94-.94-2.06-.94 2.06-2.06.94zm-11 1L8.5 8.5l.94-2.06 2.06-.94-2.06-.94L8.5 2.5l-.94 2.06-2.06.94zm10 10l.94 2.06.94-2.06 2.06-.94-2.06-.94-.94-2.06-.94 2.06-2.06.94z\"/><path d=\"M17.41 7.96l-1.37-1.37c-.4-.4-.92-.59-1.43-.59-.52 0-1.04.2-1.43.59L10.3 9.45l-7.72 7.72c-.78.78-.78 2.05 0 2.83L4 21.41c.39.39.9.59 1.41.59.51 0 1.02-.2 1.41-.59l7.78-7.78 2.81-2.81c.8-.78.8-2.07 0-2.86zM5.41 20L4 18.59l7.72-7.72 1.47 1.35L5.41 20z\"/>\n",
              "  </svg>\n",
              "      </button>\n",
              "\n",
              "\n",
              "\n",
              "    <div id=\"df-f40b98fa-58f3-4570-99d5-a82a45c68682\">\n",
              "      <button class=\"colab-df-quickchart\" onclick=\"quickchart('df-f40b98fa-58f3-4570-99d5-a82a45c68682')\"\n",
              "              title=\"Suggest charts.\"\n",
              "              style=\"display:none;\">\n",
              "\n",
              "<svg xmlns=\"http://www.w3.org/2000/svg\" height=\"24px\"viewBox=\"0 0 24 24\"\n",
              "     width=\"24px\">\n",
              "    <g>\n",
              "        <path d=\"M19 3H5c-1.1 0-2 .9-2 2v14c0 1.1.9 2 2 2h14c1.1 0 2-.9 2-2V5c0-1.1-.9-2-2-2zM9 17H7v-7h2v7zm4 0h-2V7h2v10zm4 0h-2v-4h2v4z\"/>\n",
              "    </g>\n",
              "</svg>\n",
              "      </button>\n",
              "    </div>\n",
              "\n",
              "<style>\n",
              "  .colab-df-quickchart {\n",
              "    background-color: #E8F0FE;\n",
              "    border: none;\n",
              "    border-radius: 50%;\n",
              "    cursor: pointer;\n",
              "    display: none;\n",
              "    fill: #1967D2;\n",
              "    height: 32px;\n",
              "    padding: 0 0 0 0;\n",
              "    width: 32px;\n",
              "  }\n",
              "\n",
              "  .colab-df-quickchart:hover {\n",
              "    background-color: #E2EBFA;\n",
              "    box-shadow: 0px 1px 2px rgba(60, 64, 67, 0.3), 0px 1px 3px 1px rgba(60, 64, 67, 0.15);\n",
              "    fill: #174EA6;\n",
              "  }\n",
              "\n",
              "  [theme=dark] .colab-df-quickchart {\n",
              "    background-color: #3B4455;\n",
              "    fill: #D2E3FC;\n",
              "  }\n",
              "\n",
              "  [theme=dark] .colab-df-quickchart:hover {\n",
              "    background-color: #434B5C;\n",
              "    box-shadow: 0px 1px 3px 1px rgba(0, 0, 0, 0.15);\n",
              "    filter: drop-shadow(0px 1px 2px rgba(0, 0, 0, 0.3));\n",
              "    fill: #FFFFFF;\n",
              "  }\n",
              "</style>\n",
              "\n",
              "    <script>\n",
              "      async function quickchart(key) {\n",
              "        const containerElement = document.querySelector('#' + key);\n",
              "        const charts = await google.colab.kernel.invokeFunction(\n",
              "            'suggestCharts', [key], {});\n",
              "      }\n",
              "    </script>\n",
              "\n",
              "      <script>\n",
              "\n",
              "function displayQuickchartButton(domScope) {\n",
              "  let quickchartButtonEl =\n",
              "    domScope.querySelector('#df-f40b98fa-58f3-4570-99d5-a82a45c68682 button.colab-df-quickchart');\n",
              "  quickchartButtonEl.style.display =\n",
              "    google.colab.kernel.accessAllowed ? 'block' : 'none';\n",
              "}\n",
              "\n",
              "        displayQuickchartButton(document);\n",
              "      </script>\n",
              "      <style>\n",
              "    .colab-df-container {\n",
              "      display:flex;\n",
              "      flex-wrap:wrap;\n",
              "      gap: 12px;\n",
              "    }\n",
              "\n",
              "    .colab-df-convert {\n",
              "      background-color: #E8F0FE;\n",
              "      border: none;\n",
              "      border-radius: 50%;\n",
              "      cursor: pointer;\n",
              "      display: none;\n",
              "      fill: #1967D2;\n",
              "      height: 32px;\n",
              "      padding: 0 0 0 0;\n",
              "      width: 32px;\n",
              "    }\n",
              "\n",
              "    .colab-df-convert:hover {\n",
              "      background-color: #E2EBFA;\n",
              "      box-shadow: 0px 1px 2px rgba(60, 64, 67, 0.3), 0px 1px 3px 1px rgba(60, 64, 67, 0.15);\n",
              "      fill: #174EA6;\n",
              "    }\n",
              "\n",
              "    [theme=dark] .colab-df-convert {\n",
              "      background-color: #3B4455;\n",
              "      fill: #D2E3FC;\n",
              "    }\n",
              "\n",
              "    [theme=dark] .colab-df-convert:hover {\n",
              "      background-color: #434B5C;\n",
              "      box-shadow: 0px 1px 3px 1px rgba(0, 0, 0, 0.15);\n",
              "      filter: drop-shadow(0px 1px 2px rgba(0, 0, 0, 0.3));\n",
              "      fill: #FFFFFF;\n",
              "    }\n",
              "  </style>\n",
              "\n",
              "      <script>\n",
              "        const buttonEl =\n",
              "          document.querySelector('#df-a06364dc-186e-4280-9ec8-433fca96a522 button.colab-df-convert');\n",
              "        buttonEl.style.display =\n",
              "          google.colab.kernel.accessAllowed ? 'block' : 'none';\n",
              "\n",
              "        async function convertToInteractive(key) {\n",
              "          const element = document.querySelector('#df-a06364dc-186e-4280-9ec8-433fca96a522');\n",
              "          const dataTable =\n",
              "            await google.colab.kernel.invokeFunction('convertToInteractive',\n",
              "                                                     [key], {});\n",
              "          if (!dataTable) return;\n",
              "\n",
              "          const docLinkHtml = 'Like what you see? Visit the ' +\n",
              "            '<a target=\"_blank\" href=https://colab.research.google.com/notebooks/data_table.ipynb>data table notebook</a>'\n",
              "            + ' to learn more about interactive tables.';\n",
              "          element.innerHTML = '';\n",
              "          dataTable['output_type'] = 'display_data';\n",
              "          await google.colab.output.renderOutput(dataTable, element);\n",
              "          const docLink = document.createElement('div');\n",
              "          docLink.innerHTML = docLinkHtml;\n",
              "          element.appendChild(docLink);\n",
              "        }\n",
              "      </script>\n",
              "    </div>\n",
              "  </div>\n"
            ]
          },
          "metadata": {},
          "execution_count": 30
        }
      ]
    },
    {
      "cell_type": "markdown",
      "source": [
        "###Анализ признаков"
      ],
      "metadata": {
        "id": "vETZtH0W2Lmj"
      }
    },
    {
      "cell_type": "code",
      "source": [
        "for lev in range(1,5):\n",
        "  print(f'Level-{lev}')\n",
        "  print(X[y==lev][levpercent].describe().round(2))\n",
        "  print()"
      ],
      "metadata": {
        "colab": {
          "base_uri": "https://localhost:8080/"
        },
        "id": "uPskJSW5p2Z1",
        "outputId": "81907543-f6bd-4cc6-e1e6-4934c3d1f1ac"
      },
      "execution_count": null,
      "outputs": [
        {
          "output_type": "stream",
          "name": "stdout",
          "text": [
            "Level-1\n",
            "       A2+percent  B1+percent  B2+percent  C1+percent\n",
            "count       23.00       23.00       23.00       23.00\n",
            "mean        15.89        9.43        9.30        3.64\n",
            "std          2.27        1.44        1.71        1.05\n",
            "min         11.61        6.83        6.67        2.22\n",
            "25%         14.74        8.36        8.15        2.81\n",
            "50%         16.36        9.61        9.23        3.60\n",
            "75%         17.06       10.30       10.63        4.15\n",
            "max         19.79       12.66       13.28        6.55\n",
            "\n",
            "Level-2\n",
            "       A2+percent  B1+percent  B2+percent  C1+percent\n",
            "count       41.00       41.00       41.00       41.00\n",
            "mean        15.72        9.63        9.63        3.55\n",
            "std          1.78        1.20        1.65        0.73\n",
            "min         12.33        7.00        6.95        1.41\n",
            "25%         14.60        8.80        8.51        3.14\n",
            "50%         15.42        9.46        9.21        3.71\n",
            "75%         16.90       10.61       10.36        3.98\n",
            "max         19.05       12.48       12.95        4.81\n",
            "\n",
            "Level-3\n",
            "       A2+percent  B1+percent  B2+percent  C1+percent\n",
            "count       79.00       79.00       79.00       79.00\n",
            "mean        13.92        8.71        8.73        3.33\n",
            "std          2.24        1.56        1.58        1.01\n",
            "min          9.71        6.35        5.76        1.67\n",
            "25%         12.20        7.56        7.64        2.65\n",
            "50%         13.66        8.42        8.53        3.19\n",
            "75%         15.19        9.28        9.64        3.82\n",
            "max         20.08       13.86       13.18        6.75\n",
            "\n",
            "Level-4\n",
            "       A2+percent  B1+percent  B2+percent  C1+percent\n",
            "count       29.00       29.00       29.00       29.00\n",
            "mean        13.54        8.54        8.32        3.03\n",
            "std          2.26        1.55        1.03        0.53\n",
            "min          8.61        5.76        6.79        2.31\n",
            "25%         12.28        7.71        7.62        2.69\n",
            "50%         12.67        8.01        8.20        2.85\n",
            "75%         13.81        8.92        8.65        3.37\n",
            "max         18.81       12.18       10.73        4.07\n",
            "\n"
          ]
        }
      ]
    },
    {
      "cell_type": "code",
      "source": [
        "title='Распределение %слов в зависимости от уровня сложности'\n",
        "ax = X.groupby(y).boxplot(subplots=False,\n",
        "                     fontsize=8,\n",
        "                     vert=False,\n",
        "                     grid =True,\n",
        "                     )\n",
        "ax.set_title(title)\n",
        "plt.show()"
      ],
      "metadata": {
        "id": "Ue5DzyJNVa9h",
        "outputId": "f969fd18-8d59-47c8-a0df-ec69f2af3e69",
        "colab": {
          "base_uri": "https://localhost:8080/",
          "height": 448
        }
      },
      "execution_count": null,
      "outputs": [
        {
          "output_type": "display_data",
          "data": {
            "text/plain": [
              "<Figure size 640x480 with 1 Axes>"
            ],
            "image/png": "[encoded data removed]"
          },
          "metadata": {}
        }
      ]
    },
    {
      "cell_type": "markdown",
      "source": [
        "Устанавим важность признаков с помощью CatBoost"
      ],
      "metadata": {
        "id": "vfiEb2ILrvKE"
      }
    },
    {
      "cell_type": "code",
      "source": [
        "X_train, X_valid, y_train, y_valid = train_test_split(X, y, random_state=STATE,\n",
        "                                    test_size=0.25,\n",
        "                                    stratify=y)\n",
        "train_pool = Pool(X_train, y_train, text_features=['subs'])\n",
        "test_pool = Pool(X_valid, y_valid, text_features=['subs'])\n",
        "params = {\n",
        "    'objective': 'MultiClass',\n",
        "    'random_state': STATE,\n",
        "    'verbose': 1,\n",
        "    \"eval_metric\" : 'TotalF1',\n",
        "    \"early_stopping_rounds\" : 10\n",
        "    }\n",
        "model2 = CatBoostClassifier(**params)\n",
        "model2.fit(train_pool, eval_set=test_pool, plot=False)"
      ],
      "metadata": {
        "colab": {
          "base_uri": "https://localhost:8080/"
        },
        "id": "hZWP9geAjUsj",
        "outputId": "7dc552b1-af51-4d3e-a5e6-224be113e574"
      },
      "execution_count": null,
      "outputs": [
        {
          "output_type": "stream",
          "name": "stdout",
          "text": [
            "Learning rate set to 0.103643\n",
            "0:\tlearn: 0.7166757\ttest: 0.3385013\tbest: 0.3385013 (0)\ttotal: 2.01s\tremaining: 33m 24s\n",
            "1:\tlearn: 0.7915310\ttest: 0.4031008\tbest: 0.4031008 (1)\ttotal: 3.53s\tremaining: 29m 21s\n",
            "2:\tlearn: 0.7761250\ttest: 0.4703929\tbest: 0.4703929 (2)\ttotal: 5.01s\tremaining: 27m 46s\n",
            "3:\tlearn: 0.7739940\ttest: 0.4824289\tbest: 0.4824289 (3)\ttotal: 5.92s\tremaining: 24m 33s\n",
            "4:\tlearn: 0.8031245\ttest: 0.4885039\tbest: 0.4885039 (4)\ttotal: 6.8s\tremaining: 22m 34s\n",
            "5:\tlearn: 0.7974855\ttest: 0.5017889\tbest: 0.5017889 (5)\ttotal: 7.69s\tremaining: 21m 14s\n",
            "6:\tlearn: 0.8077177\ttest: 0.4763918\tbest: 0.5017889 (5)\ttotal: 8.6s\tremaining: 20m 19s\n",
            "7:\tlearn: 0.7990283\ttest: 0.4743807\tbest: 0.5017889 (5)\ttotal: 9.53s\tremaining: 19m 41s\n",
            "8:\tlearn: 0.7674066\ttest: 0.5023485\tbest: 0.5023485 (8)\ttotal: 10.4s\tremaining: 19m 8s\n",
            "9:\tlearn: 0.8229981\ttest: 0.4906082\tbest: 0.5023485 (8)\ttotal: 11.3s\tremaining: 18m 41s\n",
            "10:\tlearn: 0.8224808\ttest: 0.4904834\tbest: 0.5023485 (8)\ttotal: 12.2s\tremaining: 18m 19s\n",
            "11:\tlearn: 0.8222754\ttest: 0.4161068\tbest: 0.5023485 (8)\ttotal: 13.1s\tremaining: 18m\n",
            "12:\tlearn: 0.8486807\ttest: 0.4976006\tbest: 0.5023485 (8)\ttotal: 14s\tremaining: 17m 45s\n",
            "13:\tlearn: 0.8675003\ttest: 0.4794926\tbest: 0.5023485 (8)\ttotal: 14.9s\tremaining: 17m 30s\n",
            "14:\tlearn: 0.9102208\ttest: 0.5600477\tbest: 0.5600477 (14)\ttotal: 16.4s\tremaining: 17m 58s\n",
            "15:\tlearn: 0.9357421\ttest: 0.5600477\tbest: 0.5600477 (14)\ttotal: 18.1s\tremaining: 18m 32s\n",
            "16:\tlearn: 0.9187196\ttest: 0.5784213\tbest: 0.5784213 (16)\ttotal: 19.5s\tremaining: 18m 45s\n",
            "17:\tlearn: 0.9270682\ttest: 0.5784213\tbest: 0.5784213 (16)\ttotal: 20.4s\tremaining: 18m 30s\n",
            "18:\tlearn: 0.9274082\ttest: 0.5536809\tbest: 0.5784213 (16)\ttotal: 21.3s\tremaining: 18m 17s\n",
            "19:\tlearn: 0.9358149\ttest: 0.5536809\tbest: 0.5784213 (16)\ttotal: 22.3s\tremaining: 18m 12s\n",
            "20:\tlearn: 0.9441058\ttest: 0.5157630\tbest: 0.5784213 (16)\ttotal: 23.3s\tremaining: 18m 6s\n",
            "21:\tlearn: 0.9357421\ttest: 0.5157630\tbest: 0.5784213 (16)\ttotal: 24.2s\tremaining: 17m 57s\n",
            "22:\tlearn: 0.9440908\ttest: 0.5157630\tbest: 0.5784213 (16)\ttotal: 25.1s\tremaining: 17m 47s\n",
            "23:\tlearn: 0.9440908\ttest: 0.5002787\tbest: 0.5784213 (16)\ttotal: 26s\tremaining: 17m 38s\n",
            "24:\tlearn: 0.9522628\ttest: 0.5144272\tbest: 0.5784213 (16)\ttotal: 26.9s\tremaining: 17m 29s\n",
            "25:\tlearn: 0.9522628\ttest: 0.5525815\tbest: 0.5784213 (16)\ttotal: 27.9s\tremaining: 17m 24s\n",
            "26:\tlearn: 0.9522628\ttest: 0.5268969\tbest: 0.5784213 (16)\ttotal: 28.8s\tremaining: 17m 19s\n",
            "Stopped by overfitting detector  (10 iterations wait)\n",
            "\n",
            "bestTest = 0.5784213349\n",
            "bestIteration = 16\n",
            "\n",
            "Shrink model to first 17 iterations.\n"
          ]
        },
        {
          "output_type": "execute_result",
          "data": {
            "text/plain": [
              "<catboost.core.CatBoostClassifier at 0x7eca0b7204f0>"
            ]
          },
          "metadata": {},
          "execution_count": 33
        }
      ]
    },
    {
      "cell_type": "code",
      "source": [
        "feature_importance = model2.feature_importances_\n",
        "sorted_idx = np.argsort(feature_importance)\n",
        "fig = plt.figure(figsize=(6, 6))\n",
        "plt.barh(range(len(sorted_idx)), feature_importance[sorted_idx], align='center')\n",
        "plt.yticks(range(len(sorted_idx)), np.array(X.columns)[sorted_idx])\n",
        "plt.title('Feature Importance')"
      ],
      "metadata": {
        "colab": {
          "base_uri": "https://localhost:8080/",
          "height": 563
        },
        "id": "aVF_yFHyloJ_",
        "outputId": "13d86d7d-2498-438e-c029-180e81d5dd09"
      },
      "execution_count": null,
      "outputs": [
        {
          "output_type": "execute_result",
          "data": {
            "text/plain": [
              "Text(0.5, 1.0, 'Feature Importance')"
            ]
          },
          "metadata": {},
          "execution_count": 34
        },
        {
          "output_type": "display_data",
          "data": {
            "text/plain": [
              "<Figure size 600x600 with 1 Axes>"
            ],
            "image/png": "[encoded data removed]"
          },
          "metadata": {}
        }
      ]
    },
    {
      "cell_type": "markdown",
      "source": [
        "Добавление новых признаков практически не влияет на качество моделей  "
      ],
      "metadata": {
        "id": "RKvVng797_UK"
      }
    },
    {
      "cell_type": "markdown",
      "source": [
        "###Выбор метрики качества\n",
        "В связи с тем, что:в данных обнаружен дисбаланс классов;\n",
        "в текущей задаче является важным как точность ('precision') так и полнота ('recall') предсказания модели;\n",
        "лучшей метрикой для подгонки и оценки модели принимается средне-гармоническое точности и полноты - F1-мера. Для мультиклассификации будет использована взвешенная F1-мера (F1_weighted)."
      ],
      "metadata": {
        "id": "HTPWn1o49bLB"
      }
    },
    {
      "cell_type": "markdown",
      "source": [
        "### Создание пайплана"
      ],
      "metadata": {
        "id": "NwHcxZBw2dN4"
      }
    },
    {
      "cell_type": "code",
      "source": [
        "report = pd.DataFrame(columns = ['model',\n",
        "                                 'classificator',\n",
        "                                 'vectorizer',\n",
        "                                 'hparams',\n",
        "                                 'F1 score'\n",
        "                                 ])"
      ],
      "metadata": {
        "id": "fdnUSb1XRpsi"
      },
      "execution_count": null,
      "outputs": []
    },
    {
      "cell_type": "code",
      "source": [
        "a2 =  Pipeline([\n",
        "                ('selector', NumberSelector(key='A2+percent')),\n",
        "                ('standard', MinMaxScaler())\n",
        "            ])\n",
        "b1 =  Pipeline([\n",
        "                ('selector', NumberSelector(key='B1+percent')),\n",
        "                ('standard', MinMaxScaler())\n",
        "            ])\n",
        "b2 =  Pipeline([\n",
        "                ('selector', NumberSelector(key='B2+percent')),\n",
        "                ('standard', MinMaxScaler())\n",
        "            ])\n",
        "c1 =  Pipeline([\n",
        "                ('selector', NumberSelector(key='C1+percent')),\n",
        "                ('standard', MinMaxScaler())\n",
        "            ])"
      ],
      "metadata": {
        "id": "AcOFG_8TpCz9"
      },
      "execution_count": null,
      "outputs": []
    },
    {
      "cell_type": "code",
      "source": [
        "vects = [[('vec', CountVectorizer(stop_words='english')),\n",
        "          {\n",
        "           'features__text__vec__ngram_range': [(1,2),(2,2),(1,3)],\n",
        "           'features__text__vec__min_df': [2,3,4]\n",
        "           }\n",
        "          ],\n",
        "         [('vec', TfidfVectorizer(stop_words='english')),\n",
        "{\n",
        "           'features__text__vec__ngram_range': [(1,2),(2,2),(1,3)],\n",
        "           'features__text__vec__min_df': [2,3,4]\n",
        "           }\n",
        "          ]]\n",
        "\n",
        "clfs = [[SGDClassifier(random_state=STATE),\n",
        "         {'classifier__alpha': [0.001, 0.01, 0.1]}\n",
        "         ],\n",
        "          [MultinomialNB(),\n",
        "           {'classifier__alpha': [0.5, 1]}\n",
        "         ]]"
      ],
      "metadata": {
        "id": "5awwOEYOI4fF"
      },
      "execution_count": null,
      "outputs": []
    },
    {
      "cell_type": "markdown",
      "source": [
        "###Обучение моделей"
      ],
      "metadata": {
        "id": "3-_GGdSy2yHr"
      }
    },
    {
      "cell_type": "code",
      "source": [
        "%%time\n",
        "stratified_shuffle_split = StratifiedShuffleSplit(n_splits=6,\n",
        "                                                  test_size=0.25,\n",
        "                                                  random_state=STATE)\n",
        "for vec in vects:\n",
        "  vecpipe = Pipeline([('selector', TextSelector(key='subs')),\n",
        "                      vec[0]\n",
        "                      ])\n",
        "  vecpipe.fit_transform(X)\n",
        "  featscountvector = FeatureUnion([('text', vecpipe),\n",
        "                      ('A2+percent', a2),\n",
        "                      ('B1+percent', b1),\n",
        "                      ('B2+percent', b2),\n",
        "                      ('C1+percent', c1),\n",
        "                        ])\n",
        "\n",
        "  feature_processing = Pipeline([('feats', featscountvector)])\n",
        "  feature_processing.fit_transform(X)\n",
        "\n",
        "  for clf in clfs:\n",
        "    clfpipeline = Pipeline([\n",
        "        ('features', featscountvector),\n",
        "        ('classifier', clf[0]),\n",
        "    ])\n",
        "    hyperparameters = vec[1]|clf[1]\n",
        "    clfpipegridcv = GridSearchCV(clfpipeline,\n",
        "                                hyperparameters,\n",
        "                                cv=stratified_shuffle_split,\n",
        "                                scoring='f1_weighted'\n",
        "                                )\n",
        "    clfpipegridcv.fit(X, y)\n",
        "    report.loc[len(report)]=[clfpipegridcv.best_estimator_,\n",
        "                             str(clf[0]),\n",
        "                             str(vec[0]),\n",
        "                             str(clfpipegridcv.best_params_),\n",
        "                             clfpipegridcv.best_score_\n",
        "                             ]\n",
        "report = report.sort_values(by='F1 score',ascending=False)\n",
        "report.reset_index(drop= True , inplace= True )\n",
        "report"
      ],
      "metadata": {
        "colab": {
          "base_uri": "https://localhost:8080/",
          "height": 212
        },
        "id": "o_EVmf3HeOWQ",
        "outputId": "03c71f73-be94-4c34-f2eb-19f2966dd1cd"
      },
      "execution_count": null,
      "outputs": [
        {
          "output_type": "stream",
          "name": "stdout",
          "text": [
            "CPU times: user 26min 26s, sys: 42.4 s, total: 27min 9s\n",
            "Wall time: 26min 58s\n"
          ]
        },
        {
          "output_type": "execute_result",
          "data": {
            "text/plain": [
              "                                               model  \\\n",
              "0  (FeatureUnion(transformer_list=[('text',\\n    ...   \n",
              "1  (FeatureUnion(transformer_list=[('text',\\n    ...   \n",
              "2  (FeatureUnion(transformer_list=[('text',\\n    ...   \n",
              "3  (FeatureUnion(transformer_list=[('text',\\n    ...   \n",
              "\n",
              "                   classificator  \\\n",
              "0                MultinomialNB()   \n",
              "1  SGDClassifier(random_state=0)   \n",
              "2  SGDClassifier(random_state=0)   \n",
              "3                MultinomialNB()   \n",
              "\n",
              "                                       vectorizer  \\\n",
              "0  ('vec', CountVectorizer(stop_words='english'))   \n",
              "1  ('vec', TfidfVectorizer(stop_words='english'))   \n",
              "2  ('vec', CountVectorizer(stop_words='english'))   \n",
              "3  ('vec', TfidfVectorizer(stop_words='english'))   \n",
              "\n",
              "                                             hparams  F1 score  \n",
              "0  {'classifier__alpha': 1, 'features__text__vec_...  0.698449  \n",
              "1  {'classifier__alpha': 0.001, 'features__text__...  0.671088  \n",
              "2  {'classifier__alpha': 0.1, 'features__text__ve...  0.631287  \n",
              "3  {'classifier__alpha': 0.5, 'features__text__ve...  0.333369  "
            ],
            "text/html": [
              "\n",
              "\n",
              "  <div id=\"df-91ce5ea8-04c7-441f-8189-07ecf1c079cf\">\n",
              "    <div class=\"colab-df-container\">\n",
              "      <div>\n",
              "<style scoped>\n",
              "    .dataframe tbody tr th:only-of-type {\n",
              "        vertical-align: middle;\n",
              "    }\n",
              "\n",
              "    .dataframe tbody tr th {\n",
              "        vertical-align: top;\n",
              "    }\n",
              "\n",
              "    .dataframe thead th {\n",
              "        text-align: right;\n",
              "    }\n",
              "</style>\n",
              "<table border=\"1\" class=\"dataframe\">\n",
              "  <thead>\n",
              "    <tr style=\"text-align: right;\">\n",
              "      <th></th>\n",
              "      <th>model</th>\n",
              "      <th>classificator</th>\n",
              "      <th>vectorizer</th>\n",
              "      <th>hparams</th>\n",
              "      <th>F1 score</th>\n",
              "    </tr>\n",
              "  </thead>\n",
              "  <tbody>\n",
              "    <tr>\n",
              "      <th>0</th>\n",
              "      <td>(FeatureUnion(transformer_list=[('text',\\n    ...</td>\n",
              "      <td>MultinomialNB()</td>\n",
              "      <td>('vec', CountVectorizer(stop_words='english'))</td>\n",
              "      <td>{'classifier__alpha': 1, 'features__text__vec_...</td>\n",
              "      <td>0.698449</td>\n",
              "    </tr>\n",
              "    <tr>\n",
              "      <th>1</th>\n",
              "      <td>(FeatureUnion(transformer_list=[('text',\\n    ...</td>\n",
              "      <td>SGDClassifier(random_state=0)</td>\n",
              "      <td>('vec', TfidfVectorizer(stop_words='english'))</td>\n",
              "      <td>{'classifier__alpha': 0.001, 'features__text__...</td>\n",
              "      <td>0.671088</td>\n",
              "    </tr>\n",
              "    <tr>\n",
              "      <th>2</th>\n",
              "      <td>(FeatureUnion(transformer_list=[('text',\\n    ...</td>\n",
              "      <td>SGDClassifier(random_state=0)</td>\n",
              "      <td>('vec', CountVectorizer(stop_words='english'))</td>\n",
              "      <td>{'classifier__alpha': 0.1, 'features__text__ve...</td>\n",
              "      <td>0.631287</td>\n",
              "    </tr>\n",
              "    <tr>\n",
              "      <th>3</th>\n",
              "      <td>(FeatureUnion(transformer_list=[('text',\\n    ...</td>\n",
              "      <td>MultinomialNB()</td>\n",
              "      <td>('vec', TfidfVectorizer(stop_words='english'))</td>\n",
              "      <td>{'classifier__alpha': 0.5, 'features__text__ve...</td>\n",
              "      <td>0.333369</td>\n",
              "    </tr>\n",
              "  </tbody>\n",
              "</table>\n",
              "</div>\n",
              "      <button class=\"colab-df-convert\" onclick=\"convertToInteractive('df-91ce5ea8-04c7-441f-8189-07ecf1c079cf')\"\n",
              "              title=\"Convert this dataframe to an interactive table.\"\n",
              "              style=\"display:none;\">\n",
              "\n",
              "  <svg xmlns=\"http://www.w3.org/2000/svg\" height=\"24px\"viewBox=\"0 0 24 24\"\n",
              "       width=\"24px\">\n",
              "    <path d=\"M0 0h24v24H0V0z\" fill=\"none\"/>\n",
              "    <path d=\"M18.56 5.44l.94 2.06.94-2.06 2.06-.94-2.06-.94-.94-2.06-.94 2.06-2.06.94zm-11 1L8.5 8.5l.94-2.06 2.06-.94-2.06-.94L8.5 2.5l-.94 2.06-2.06.94zm10 10l.94 2.06.94-2.06 2.06-.94-2.06-.94-.94-2.06-.94 2.06-2.06.94z\"/><path d=\"M17.41 7.96l-1.37-1.37c-.4-.4-.92-.59-1.43-.59-.52 0-1.04.2-1.43.59L10.3 9.45l-7.72 7.72c-.78.78-.78 2.05 0 2.83L4 21.41c.39.39.9.59 1.41.59.51 0 1.02-.2 1.41-.59l7.78-7.78 2.81-2.81c.8-.78.8-2.07 0-2.86zM5.41 20L4 18.59l7.72-7.72 1.47 1.35L5.41 20z\"/>\n",
              "  </svg>\n",
              "      </button>\n",
              "\n",
              "\n",
              "\n",
              "    <div id=\"df-a72c9383-a7ea-483f-a06b-58935478eb74\">\n",
              "      <button class=\"colab-df-quickchart\" onclick=\"quickchart('df-a72c9383-a7ea-483f-a06b-58935478eb74')\"\n",
              "              title=\"Suggest charts.\"\n",
              "              style=\"display:none;\">\n",
              "\n",
              "<svg xmlns=\"http://www.w3.org/2000/svg\" height=\"24px\"viewBox=\"0 0 24 24\"\n",
              "     width=\"24px\">\n",
              "    <g>\n",
              "        <path d=\"M19 3H5c-1.1 0-2 .9-2 2v14c0 1.1.9 2 2 2h14c1.1 0 2-.9 2-2V5c0-1.1-.9-2-2-2zM9 17H7v-7h2v7zm4 0h-2V7h2v10zm4 0h-2v-4h2v4z\"/>\n",
              "    </g>\n",
              "</svg>\n",
              "      </button>\n",
              "    </div>\n",
              "\n",
              "<style>\n",
              "  .colab-df-quickchart {\n",
              "    background-color: #E8F0FE;\n",
              "    border: none;\n",
              "    border-radius: 50%;\n",
              "    cursor: pointer;\n",
              "    display: none;\n",
              "    fill: #1967D2;\n",
              "    height: 32px;\n",
              "    padding: 0 0 0 0;\n",
              "    width: 32px;\n",
              "  }\n",
              "\n",
              "  .colab-df-quickchart:hover {\n",
              "    background-color: #E2EBFA;\n",
              "    box-shadow: 0px 1px 2px rgba(60, 64, 67, 0.3), 0px 1px 3px 1px rgba(60, 64, 67, 0.15);\n",
              "    fill: #174EA6;\n",
              "  }\n",
              "\n",
              "  [theme=dark] .colab-df-quickchart {\n",
              "    background-color: #3B4455;\n",
              "    fill: #D2E3FC;\n",
              "  }\n",
              "\n",
              "  [theme=dark] .colab-df-quickchart:hover {\n",
              "    background-color: #434B5C;\n",
              "    box-shadow: 0px 1px 3px 1px rgba(0, 0, 0, 0.15);\n",
              "    filter: drop-shadow(0px 1px 2px rgba(0, 0, 0, 0.3));\n",
              "    fill: #FFFFFF;\n",
              "  }\n",
              "</style>\n",
              "\n",
              "    <script>\n",
              "      async function quickchart(key) {\n",
              "        const containerElement = document.querySelector('#' + key);\n",
              "        const charts = await google.colab.kernel.invokeFunction(\n",
              "            'suggestCharts', [key], {});\n",
              "      }\n",
              "    </script>\n",
              "\n",
              "      <script>\n",
              "\n",
              "function displayQuickchartButton(domScope) {\n",
              "  let quickchartButtonEl =\n",
              "    domScope.querySelector('#df-a72c9383-a7ea-483f-a06b-58935478eb74 button.colab-df-quickchart');\n",
              "  quickchartButtonEl.style.display =\n",
              "    google.colab.kernel.accessAllowed ? 'block' : 'none';\n",
              "}\n",
              "\n",
              "        displayQuickchartButton(document);\n",
              "      </script>\n",
              "      <style>\n",
              "    .colab-df-container {\n",
              "      display:flex;\n",
              "      flex-wrap:wrap;\n",
              "      gap: 12px;\n",
              "    }\n",
              "\n",
              "    .colab-df-convert {\n",
              "      background-color: #E8F0FE;\n",
              "      border: none;\n",
              "      border-radius: 50%;\n",
              "      cursor: pointer;\n",
              "      display: none;\n",
              "      fill: #1967D2;\n",
              "      height: 32px;\n",
              "      padding: 0 0 0 0;\n",
              "      width: 32px;\n",
              "    }\n",
              "\n",
              "    .colab-df-convert:hover {\n",
              "      background-color: #E2EBFA;\n",
              "      box-shadow: 0px 1px 2px rgba(60, 64, 67, 0.3), 0px 1px 3px 1px rgba(60, 64, 67, 0.15);\n",
              "      fill: #174EA6;\n",
              "    }\n",
              "\n",
              "    [theme=dark] .colab-df-convert {\n",
              "      background-color: #3B4455;\n",
              "      fill: #D2E3FC;\n",
              "    }\n",
              "\n",
              "    [theme=dark] .colab-df-convert:hover {\n",
              "      background-color: #434B5C;\n",
              "      box-shadow: 0px 1px 3px 1px rgba(0, 0, 0, 0.15);\n",
              "      filter: drop-shadow(0px 1px 2px rgba(0, 0, 0, 0.3));\n",
              "      fill: #FFFFFF;\n",
              "    }\n",
              "  </style>\n",
              "\n",
              "      <script>\n",
              "        const buttonEl =\n",
              "          document.querySelector('#df-91ce5ea8-04c7-441f-8189-07ecf1c079cf button.colab-df-convert');\n",
              "        buttonEl.style.display =\n",
              "          google.colab.kernel.accessAllowed ? 'block' : 'none';\n",
              "\n",
              "        async function convertToInteractive(key) {\n",
              "          const element = document.querySelector('#df-91ce5ea8-04c7-441f-8189-07ecf1c079cf');\n",
              "          const dataTable =\n",
              "            await google.colab.kernel.invokeFunction('convertToInteractive',\n",
              "                                                     [key], {});\n",
              "          if (!dataTable) return;\n",
              "\n",
              "          const docLinkHtml = 'Like what you see? Visit the ' +\n",
              "            '<a target=\"_blank\" href=https://colab.research.google.com/notebooks/data_table.ipynb>data table notebook</a>'\n",
              "            + ' to learn more about interactive tables.';\n",
              "          element.innerHTML = '';\n",
              "          dataTable['output_type'] = 'display_data';\n",
              "          await google.colab.output.renderOutput(dataTable, element);\n",
              "          const docLink = document.createElement('div');\n",
              "          docLink.innerHTML = docLinkHtml;\n",
              "          element.appendChild(docLink);\n",
              "        }\n",
              "      </script>\n",
              "    </div>\n",
              "  </div>\n"
            ]
          },
          "metadata": {},
          "execution_count": 38
        }
      ]
    },
    {
      "cell_type": "code",
      "source": [
        "#выбираем и обучаем лучшую модель на всем наборе данных\n",
        "clf = report['model'].loc[0]\n",
        "clf.fit(X, y)"
      ],
      "metadata": {
        "colab": {
          "base_uri": "https://localhost:8080/",
          "height": 221
        },
        "id": "xp17x2CIo1C0",
        "outputId": "27e2844f-90d5-40ae-c1d4-830882d0340d"
      },
      "execution_count": null,
      "outputs": [
        {
          "output_type": "execute_result",
          "data": {
            "text/plain": [
              "Pipeline(steps=[('features',\n",
              "                 FeatureUnion(transformer_list=[('text',\n",
              "                                                 Pipeline(steps=[('selector',\n",
              "                                                                  TextSelector(key='subs')),\n",
              "                                                                 ('vec',\n",
              "                                                                  CountVectorizer(min_df=3,\n",
              "                                                                                  ngram_range=(1,\n",
              "                                                                                               3),\n",
              "                                                                                  stop_words='english'))])),\n",
              "                                                ('A2+percent',\n",
              "                                                 Pipeline(steps=[('selector',\n",
              "                                                                  NumberSelector(key='A2+percent')),\n",
              "                                                                 ('standard',\n",
              "                                                                  MinMaxScaler())])),\n",
              "                                                ('B1+percent',\n",
              "                                                 Pipeline(steps=[('selector',\n",
              "                                                                  NumberSelector(key='B1+percent')),\n",
              "                                                                 ('standard',\n",
              "                                                                  MinMaxScaler())])),\n",
              "                                                ('B2+percent',\n",
              "                                                 Pipeline(steps=[('selector',\n",
              "                                                                  NumberSelector(key='B2+percent')),\n",
              "                                                                 ('standard',\n",
              "                                                                  MinMaxScaler())])),\n",
              "                                                ('C1+percent',\n",
              "                                                 Pipeline(steps=[('selector',\n",
              "                                                                  NumberSelector(key='C1+percent')),\n",
              "                                                                 ('standard',\n",
              "                                                                  MinMaxScaler())]))])),\n",
              "                ('classifier', MultinomialNB(alpha=1))])"
            ],
            "text/html": [
              "<style>#sk-container-id-1 {color: black;background-color: white;}#sk-container-id-1 pre{padding: 0;}#sk-container-id-1 div.sk-toggleable {background-color: white;}#sk-container-id-1 label.sk-toggleable__label {cursor: pointer;display: block;width: 100%;margin-bottom: 0;padding: 0.3em;box-sizing: border-box;text-align: center;}#sk-container-id-1 label.sk-toggleable__label-arrow:before {content: \"▸\";float: left;margin-right: 0.25em;color: #696969;}#sk-container-id-1 label.sk-toggleable__label-arrow:hover:before {color: black;}#sk-container-id-1 div.sk-estimator:hover label.sk-toggleable__label-arrow:before {color: black;}#sk-container-id-1 div.sk-toggleable__content {max-height: 0;max-width: 0;overflow: hidden;text-align: left;background-color: #f0f8ff;}#sk-container-id-1 div.sk-toggleable__content pre {margin: 0.2em;color: black;border-radius: 0.25em;background-color: #f0f8ff;}#sk-container-id-1 input.sk-toggleable__control:checked~div.sk-toggleable__content {max-height: 200px;max-width: 100%;overflow: auto;}#sk-container-id-1 input.sk-toggleable__control:checked~label.sk-toggleable__label-arrow:before {content: \"▾\";}#sk-container-id-1 div.sk-estimator input.sk-toggleable__control:checked~label.sk-toggleable__label {background-color: #d4ebff;}#sk-container-id-1 div.sk-label input.sk-toggleable__control:checked~label.sk-toggleable__label {background-color: #d4ebff;}#sk-container-id-1 input.sk-hidden--visually {border: 0;clip: rect(1px 1px 1px 1px);clip: rect(1px, 1px, 1px, 1px);height: 1px;margin: -1px;overflow: hidden;padding: 0;position: absolute;width: 1px;}#sk-container-id-1 div.sk-estimator {font-family: monospace;background-color: #f0f8ff;border: 1px dotted black;border-radius: 0.25em;box-sizing: border-box;margin-bottom: 0.5em;}#sk-container-id-1 div.sk-estimator:hover {background-color: #d4ebff;}#sk-container-id-1 div.sk-parallel-item::after {content: \"\";width: 100%;border-bottom: 1px solid gray;flex-grow: 1;}#sk-container-id-1 div.sk-label:hover label.sk-toggleable__label {background-color: #d4ebff;}#sk-container-id-1 div.sk-serial::before {content: \"\";position: absolute;border-left: 1px solid gray;box-sizing: border-box;top: 0;bottom: 0;left: 50%;z-index: 0;}#sk-container-id-1 div.sk-serial {display: flex;flex-direction: column;align-items: center;background-color: white;padding-right: 0.2em;padding-left: 0.2em;position: relative;}#sk-container-id-1 div.sk-item {position: relative;z-index: 1;}#sk-container-id-1 div.sk-parallel {display: flex;align-items: stretch;justify-content: center;background-color: white;position: relative;}#sk-container-id-1 div.sk-item::before, #sk-container-id-1 div.sk-parallel-item::before {content: \"\";position: absolute;border-left: 1px solid gray;box-sizing: border-box;top: 0;bottom: 0;left: 50%;z-index: -1;}#sk-container-id-1 div.sk-parallel-item {display: flex;flex-direction: column;z-index: 1;position: relative;background-color: white;}#sk-container-id-1 div.sk-parallel-item:first-child::after {align-self: flex-end;width: 50%;}#sk-container-id-1 div.sk-parallel-item:last-child::after {align-self: flex-start;width: 50%;}#sk-container-id-1 div.sk-parallel-item:only-child::after {width: 0;}#sk-container-id-1 div.sk-dashed-wrapped {border: 1px dashed gray;margin: 0 0.4em 0.5em 0.4em;box-sizing: border-box;padding-bottom: 0.4em;background-color: white;}#sk-container-id-1 div.sk-label label {font-family: monospace;font-weight: bold;display: inline-block;line-height: 1.2em;}#sk-container-id-1 div.sk-label-container {text-align: center;}#sk-container-id-1 div.sk-container {/* jupyter's `normalize.less` sets `[hidden] { display: none; }` but bootstrap.min.css set `[hidden] { display: none !important; }` so we also need the `!important` here to be able to override the default hidden behavior on the sphinx rendered scikit-learn.org. See: https://github.com/scikit-learn/scikit-learn/issues/21755 */display: inline-block !important;position: relative;}#sk-container-id-1 div.sk-text-repr-fallback {display: none;}</style><div id=\"sk-container-id-1\" class=\"sk-top-container\"><div class=\"sk-text-repr-fallback\"><pre>Pipeline(steps=[(&#x27;features&#x27;,\n",
              "                 FeatureUnion(transformer_list=[(&#x27;text&#x27;,\n",
              "                                                 Pipeline(steps=[(&#x27;selector&#x27;,\n",
              "                                                                  TextSelector(key=&#x27;subs&#x27;)),\n",
              "                                                                 (&#x27;vec&#x27;,\n",
              "                                                                  CountVectorizer(min_df=3,\n",
              "                                                                                  ngram_range=(1,\n",
              "                                                                                               3),\n",
              "                                                                                  stop_words=&#x27;english&#x27;))])),\n",
              "                                                (&#x27;A2+percent&#x27;,\n",
              "                                                 Pipeline(steps=[(&#x27;selector&#x27;,\n",
              "                                                                  NumberSelector(key=&#x27;A2+percent&#x27;)),\n",
              "                                                                 (&#x27;standard&#x27;,\n",
              "                                                                  MinMaxScaler())])),\n",
              "                                                (&#x27;B1+percent&#x27;,\n",
              "                                                 Pipeline(steps=[(&#x27;selector&#x27;,\n",
              "                                                                  NumberSelector(key=&#x27;B1+percent&#x27;)),\n",
              "                                                                 (&#x27;standard&#x27;,\n",
              "                                                                  MinMaxScaler())])),\n",
              "                                                (&#x27;B2+percent&#x27;,\n",
              "                                                 Pipeline(steps=[(&#x27;selector&#x27;,\n",
              "                                                                  NumberSelector(key=&#x27;B2+percent&#x27;)),\n",
              "                                                                 (&#x27;standard&#x27;,\n",
              "                                                                  MinMaxScaler())])),\n",
              "                                                (&#x27;C1+percent&#x27;,\n",
              "                                                 Pipeline(steps=[(&#x27;selector&#x27;,\n",
              "                                                                  NumberSelector(key=&#x27;C1+percent&#x27;)),\n",
              "                                                                 (&#x27;standard&#x27;,\n",
              "                                                                  MinMaxScaler())]))])),\n",
              "                (&#x27;classifier&#x27;, MultinomialNB(alpha=1))])</pre><b>In a Jupyter environment, please rerun this cell to show the HTML representation or trust the notebook. <br />On GitHub, the HTML representation is unable to render, please try loading this page with nbviewer.org.</b></div><div class=\"sk-container\" hidden><div class=\"sk-item sk-dashed-wrapped\"><div class=\"sk-label-container\"><div class=\"sk-label sk-toggleable\"><input class=\"sk-toggleable__control sk-hidden--visually\" id=\"sk-estimator-id-1\" type=\"checkbox\" ><label for=\"sk-estimator-id-1\" class=\"sk-toggleable__label sk-toggleable__label-arrow\">Pipeline</label><div class=\"sk-toggleable__content\"><pre>Pipeline(steps=[(&#x27;features&#x27;,\n",
              "                 FeatureUnion(transformer_list=[(&#x27;text&#x27;,\n",
              "                                                 Pipeline(steps=[(&#x27;selector&#x27;,\n",
              "                                                                  TextSelector(key=&#x27;subs&#x27;)),\n",
              "                                                                 (&#x27;vec&#x27;,\n",
              "                                                                  CountVectorizer(min_df=3,\n",
              "                                                                                  ngram_range=(1,\n",
              "                                                                                               3),\n",
              "                                                                                  stop_words=&#x27;english&#x27;))])),\n",
              "                                                (&#x27;A2+percent&#x27;,\n",
              "                                                 Pipeline(steps=[(&#x27;selector&#x27;,\n",
              "                                                                  NumberSelector(key=&#x27;A2+percent&#x27;)),\n",
              "                                                                 (&#x27;standard&#x27;,\n",
              "                                                                  MinMaxScaler())])),\n",
              "                                                (&#x27;B1+percent&#x27;,\n",
              "                                                 Pipeline(steps=[(&#x27;selector&#x27;,\n",
              "                                                                  NumberSelector(key=&#x27;B1+percent&#x27;)),\n",
              "                                                                 (&#x27;standard&#x27;,\n",
              "                                                                  MinMaxScaler())])),\n",
              "                                                (&#x27;B2+percent&#x27;,\n",
              "                                                 Pipeline(steps=[(&#x27;selector&#x27;,\n",
              "                                                                  NumberSelector(key=&#x27;B2+percent&#x27;)),\n",
              "                                                                 (&#x27;standard&#x27;,\n",
              "                                                                  MinMaxScaler())])),\n",
              "                                                (&#x27;C1+percent&#x27;,\n",
              "                                                 Pipeline(steps=[(&#x27;selector&#x27;,\n",
              "                                                                  NumberSelector(key=&#x27;C1+percent&#x27;)),\n",
              "                                                                 (&#x27;standard&#x27;,\n",
              "                                                                  MinMaxScaler())]))])),\n",
              "                (&#x27;classifier&#x27;, MultinomialNB(alpha=1))])</pre></div></div></div><div class=\"sk-serial\"><div class=\"sk-item sk-dashed-wrapped\"><div class=\"sk-label-container\"><div class=\"sk-label sk-toggleable\"><input class=\"sk-toggleable__control sk-hidden--visually\" id=\"sk-estimator-id-2\" type=\"checkbox\" ><label for=\"sk-estimator-id-2\" class=\"sk-toggleable__label sk-toggleable__label-arrow\">features: FeatureUnion</label><div class=\"sk-toggleable__content\"><pre>FeatureUnion(transformer_list=[(&#x27;text&#x27;,\n",
              "                                Pipeline(steps=[(&#x27;selector&#x27;,\n",
              "                                                 TextSelector(key=&#x27;subs&#x27;)),\n",
              "                                                (&#x27;vec&#x27;,\n",
              "                                                 CountVectorizer(min_df=3,\n",
              "                                                                 ngram_range=(1,\n",
              "                                                                              3),\n",
              "                                                                 stop_words=&#x27;english&#x27;))])),\n",
              "                               (&#x27;A2+percent&#x27;,\n",
              "                                Pipeline(steps=[(&#x27;selector&#x27;,\n",
              "                                                 NumberSelector(key=&#x27;A2+percent&#x27;)),\n",
              "                                                (&#x27;standard&#x27;, MinMaxScaler())])),\n",
              "                               (&#x27;B1+percent&#x27;,\n",
              "                                Pipeline(steps=[(&#x27;selector&#x27;,\n",
              "                                                 NumberSelector(key=&#x27;B1+percent&#x27;)),\n",
              "                                                (&#x27;standard&#x27;, MinMaxScaler())])),\n",
              "                               (&#x27;B2+percent&#x27;,\n",
              "                                Pipeline(steps=[(&#x27;selector&#x27;,\n",
              "                                                 NumberSelector(key=&#x27;B2+percent&#x27;)),\n",
              "                                                (&#x27;standard&#x27;, MinMaxScaler())])),\n",
              "                               (&#x27;C1+percent&#x27;,\n",
              "                                Pipeline(steps=[(&#x27;selector&#x27;,\n",
              "                                                 NumberSelector(key=&#x27;C1+percent&#x27;)),\n",
              "                                                (&#x27;standard&#x27;,\n",
              "                                                 MinMaxScaler())]))])</pre></div></div></div><div class=\"sk-parallel\"><div class=\"sk-parallel-item\"><div class=\"sk-item\"><div class=\"sk-label-container\"><div class=\"sk-label sk-toggleable\"><label>text</label></div></div><div class=\"sk-serial\"><div class=\"sk-item\"><div class=\"sk-serial\"><div class=\"sk-item\"><div class=\"sk-estimator sk-toggleable\"><input class=\"sk-toggleable__control sk-hidden--visually\" id=\"sk-estimator-id-3\" type=\"checkbox\" ><label for=\"sk-estimator-id-3\" class=\"sk-toggleable__label sk-toggleable__label-arrow\">TextSelector</label><div class=\"sk-toggleable__content\"><pre>TextSelector(key=&#x27;subs&#x27;)</pre></div></div></div><div class=\"sk-item\"><div class=\"sk-estimator sk-toggleable\"><input class=\"sk-toggleable__control sk-hidden--visually\" id=\"sk-estimator-id-4\" type=\"checkbox\" ><label for=\"sk-estimator-id-4\" class=\"sk-toggleable__label sk-toggleable__label-arrow\">CountVectorizer</label><div class=\"sk-toggleable__content\"><pre>CountVectorizer(min_df=3, ngram_range=(1, 3), stop_words=&#x27;english&#x27;)</pre></div></div></div></div></div></div></div></div><div class=\"sk-parallel-item\"><div class=\"sk-item\"><div class=\"sk-label-container\"><div class=\"sk-label sk-toggleable\"><label>A2+percent</label></div></div><div class=\"sk-serial\"><div class=\"sk-item\"><div class=\"sk-serial\"><div class=\"sk-item\"><div class=\"sk-estimator sk-toggleable\"><input class=\"sk-toggleable__control sk-hidden--visually\" id=\"sk-estimator-id-5\" type=\"checkbox\" ><label for=\"sk-estimator-id-5\" class=\"sk-toggleable__label sk-toggleable__label-arrow\">NumberSelector</label><div class=\"sk-toggleable__content\"><pre>NumberSelector(key=&#x27;A2+percent&#x27;)</pre></div></div></div><div class=\"sk-item\"><div class=\"sk-estimator sk-toggleable\"><input class=\"sk-toggleable__control sk-hidden--visually\" id=\"sk-estimator-id-6\" type=\"checkbox\" ><label for=\"sk-estimator-id-6\" class=\"sk-toggleable__label sk-toggleable__label-arrow\">MinMaxScaler</label><div class=\"sk-toggleable__content\"><pre>MinMaxScaler()</pre></div></div></div></div></div></div></div></div><div class=\"sk-parallel-item\"><div class=\"sk-item\"><div class=\"sk-label-container\"><div class=\"sk-label sk-toggleable\"><label>B1+percent</label></div></div><div class=\"sk-serial\"><div class=\"sk-item\"><div class=\"sk-serial\"><div class=\"sk-item\"><div class=\"sk-estimator sk-toggleable\"><input class=\"sk-toggleable__control sk-hidden--visually\" id=\"sk-estimator-id-7\" type=\"checkbox\" ><label for=\"sk-estimator-id-7\" class=\"sk-toggleable__label sk-toggleable__label-arrow\">NumberSelector</label><div class=\"sk-toggleable__content\"><pre>NumberSelector(key=&#x27;B1+percent&#x27;)</pre></div></div></div><div class=\"sk-item\"><div class=\"sk-estimator sk-toggleable\"><input class=\"sk-toggleable__control sk-hidden--visually\" id=\"sk-estimator-id-8\" type=\"checkbox\" ><label for=\"sk-estimator-id-8\" class=\"sk-toggleable__label sk-toggleable__label-arrow\">MinMaxScaler</label><div class=\"sk-toggleable__content\"><pre>MinMaxScaler()</pre></div></div></div></div></div></div></div></div><div class=\"sk-parallel-item\"><div class=\"sk-item\"><div class=\"sk-label-container\"><div class=\"sk-label sk-toggleable\"><label>B2+percent</label></div></div><div class=\"sk-serial\"><div class=\"sk-item\"><div class=\"sk-serial\"><div class=\"sk-item\"><div class=\"sk-estimator sk-toggleable\"><input class=\"sk-toggleable__control sk-hidden--visually\" id=\"sk-estimator-id-9\" type=\"checkbox\" ><label for=\"sk-estimator-id-9\" class=\"sk-toggleable__label sk-toggleable__label-arrow\">NumberSelector</label><div class=\"sk-toggleable__content\"><pre>NumberSelector(key=&#x27;B2+percent&#x27;)</pre></div></div></div><div class=\"sk-item\"><div class=\"sk-estimator sk-toggleable\"><input class=\"sk-toggleable__control sk-hidden--visually\" id=\"sk-estimator-id-10\" type=\"checkbox\" ><label for=\"sk-estimator-id-10\" class=\"sk-toggleable__label sk-toggleable__label-arrow\">MinMaxScaler</label><div class=\"sk-toggleable__content\"><pre>MinMaxScaler()</pre></div></div></div></div></div></div></div></div><div class=\"sk-parallel-item\"><div class=\"sk-item\"><div class=\"sk-label-container\"><div class=\"sk-label sk-toggleable\"><label>C1+percent</label></div></div><div class=\"sk-serial\"><div class=\"sk-item\"><div class=\"sk-serial\"><div class=\"sk-item\"><div class=\"sk-estimator sk-toggleable\"><input class=\"sk-toggleable__control sk-hidden--visually\" id=\"sk-estimator-id-11\" type=\"checkbox\" ><label for=\"sk-estimator-id-11\" class=\"sk-toggleable__label sk-toggleable__label-arrow\">NumberSelector</label><div class=\"sk-toggleable__content\"><pre>NumberSelector(key=&#x27;C1+percent&#x27;)</pre></div></div></div><div class=\"sk-item\"><div class=\"sk-estimator sk-toggleable\"><input class=\"sk-toggleable__control sk-hidden--visually\" id=\"sk-estimator-id-12\" type=\"checkbox\" ><label for=\"sk-estimator-id-12\" class=\"sk-toggleable__label sk-toggleable__label-arrow\">MinMaxScaler</label><div class=\"sk-toggleable__content\"><pre>MinMaxScaler()</pre></div></div></div></div></div></div></div></div></div></div><div class=\"sk-item\"><div class=\"sk-estimator sk-toggleable\"><input class=\"sk-toggleable__control sk-hidden--visually\" id=\"sk-estimator-id-13\" type=\"checkbox\" ><label for=\"sk-estimator-id-13\" class=\"sk-toggleable__label sk-toggleable__label-arrow\">MultinomialNB</label><div class=\"sk-toggleable__content\"><pre>MultinomialNB(alpha=1)</pre></div></div></div></div></div></div></div>"
            ]
          },
          "metadata": {},
          "execution_count": 39
        }
      ]
    },
    {
      "cell_type": "markdown",
      "source": [
        "##Оценка модели на тестовой  выборке"
      ],
      "metadata": {
        "id": "OA8KZZI-3I8S"
      }
    },
    {
      "cell_type": "code",
      "source": [
        "X_test['subs'] = X_test['subs'].apply(clean_subs)\n",
        "X_test.loc[:,levpercent] = X_test['subs'].apply(count_percent_words_dictionar).to_list()"
      ],
      "metadata": {
        "id": "uRGtEjyugCyj"
      },
      "execution_count": null,
      "outputs": []
    },
    {
      "cell_type": "code",
      "source": [
        "def plot_confusion_matrix(y_test, y_preds, model):\n",
        "  \"\"\"строит матрицу ошибок\"\"\"\n",
        "  fig, ax = plt.subplots(figsize=(10,10))\n",
        "  cm = confusion_matrix(y_test, y_preds)\n",
        "  cmp = ConfusionMatrixDisplay(cm, display_labels = model.classes_ )\n",
        "  cmp.plot(ax=ax)\n",
        "  plt.suptitle('Матрица ошибок', y=0.92)\n",
        "  plt.show()\n",
        "predictions =clf.predict(X_test)\n",
        "# выведем классификационную таблицу и матрицу ошибок\n",
        "print(classification_report(y_test, predictions))\n",
        "plot_confusion_matrix(y_test, predictions, clf)"
      ],
      "metadata": {
        "colab": {
          "base_uri": "https://localhost:8080/",
          "height": 1000
        },
        "id": "R7wB9eMznIu-",
        "outputId": "ef9f72d8-b6de-49a9-c758-5d350aaaa78e"
      },
      "execution_count": null,
      "outputs": [
        {
          "output_type": "stream",
          "name": "stdout",
          "text": [
            "              precision    recall  f1-score   support\n",
            "\n",
            "           1       1.00      0.12      0.22         8\n",
            "           2       0.46      0.79      0.58        14\n",
            "           3       0.87      0.77      0.82        26\n",
            "           4       1.00      1.00      1.00        10\n",
            "\n",
            "    accuracy                           0.72        58\n",
            "   macro avg       0.83      0.67      0.65        58\n",
            "weighted avg       0.81      0.72      0.71        58\n",
            "\n"
          ]
        },
        {
          "output_type": "display_data",
          "data": {
            "text/plain": [
              "<Figure size 1000x1000 with 2 Axes>"
            ],
            "image/png": "[encoded data removed]"
          },
          "metadata": {}
        }
      ]
    },
    {
      "cell_type": "markdown",
      "source": [
        "###Выводы по результатам работы модели\n",
        "Из оценки классификатора на тестовой выборке можно сделать следующие выводы:\n",
        "\n",
        "Модель MultinomialNB() чаще всего ошибается на граничных метках.\n",
        "Взвешенная метрика F1-weighted на тестовой выборке составила 0.71."
      ],
      "metadata": {
        "id": "zYkZG8V86img"
      }
    },
    {
      "cell_type": "markdown",
      "source": [
        "##Выводы\n",
        "В ходе работы было выполнено:\n",
        "\n",
        "Загрузка необходимых библиотек;\n",
        "загрузка и ознакомление с данными (загружены субтитры, фильмы с метками уровня сложности, классический словарь Oxford с 5000 словами);\n",
        "предобработка данных (очистка от дубликатов, проверка наличия разметки для обучающих данных, определение исходного количества представленных данных, очитска текста субтитров, разбивка на обучающую и тестовую выборки);\n",
        "Выбора метода препроцессинг данных, а именно преобразование текство субтитров с компактную разреженную матрицу с помощью CountVectorizer,  TfidfVectorizer.\n",
        "Добавление дополнительных признаков- количество уникальных лемм (слов основной формы), содержащихся в каждом тексте субтитров согласно уровню сложности по классичесокму словарю Oxford;\n",
        "обоснование использования метрики качества F1-weighted;\n",
        "Выбор модели-классификатора MultinomialNB, SGDClassifier с побором гиперпараметров. Оценка модели на тестовой выборке."
      ],
      "metadata": {
        "id": "XZvMmfJh64JI"
      }
    }
  ]
}