{
  "nbformat": 4,
  "nbformat_minor": 0,
  "metadata": {
    "colab": {
      "provenance": [],
      "include_colab_link": true
    },
    "kernelspec": {
      "name": "python3",
      "display_name": "Python 3"
    },
    "language_info": {
      "name": "python"
    }
  },
  "cells": [
    {
      "cell_type": "markdown",
      "metadata": {
        "id": "view-in-github",
        "colab_type": "text"
      },
      "source": [
        "<a href=\"https://colab.research.google.com/github/SarkisyanSergey/NLP_Pipiline/blob/main/NLP_PIPELINE.ipynb\" target=\"_parent\"><img src=\"https://colab.research.google.com/assets/colab-badge.svg\" alt=\"Open In Colab\"/></a>"
      ]
    },
    {
      "cell_type": "code",
      "execution_count": null,
      "metadata": {
        "id": "MtS057fXx4x6"
      },
      "outputs": [],
      "source": [
        "%%capture\n",
        "# установим  пакеты\n",
        "!pip install pysrt\n",
        "!pip install spacy"
      ]
    },
    {
      "cell_type": "code",
      "source": [
        "# импортируем библиотеки\n",
        "import os\n",
        "import re\n",
        "\n",
        "import numpy as np\n",
        "import pandas as pd\n",
        "import matplotlib.pyplot as plt\n",
        "from sklearn.model_selection import (train_test_split,\n",
        "                                     StratifiedShuffleSplit,\n",
        "                                     GridSearchCV\n",
        "                                     )\n",
        "from sklearn.pipeline import (Pipeline,\n",
        "                              FeatureUnion\n",
        "                              )\n",
        "\n",
        "from sklearn.metrics import (classification_report,\n",
        "                             f1_score,\n",
        "                             confusion_matrix,\n",
        "                             ConfusionMatrixDisplay\n",
        "                             )\n",
        "from sklearn.compose import ColumnTransformer\n",
        "from sklearn.preprocessing import MinMaxScaler\n",
        "from sklearn.naive_bayes import MultinomialNB\n",
        "from sklearn.linear_model import SGDClassifier\n",
        "from sklearn.feature_extraction.text import (TfidfVectorizer,\n",
        "                                             CountVectorizer\n",
        "                                             )\n",
        "from sklearn.base import (BaseEstimator,\n",
        "                          TransformerMixin\n",
        "                          )\n",
        "import pysrt\n",
        "import spacy\n",
        "import nltk\n",
        "from nltk.corpus import stopwords"
      ],
      "metadata": {
        "id": "w82swcw6x8ga"
      },
      "execution_count": null,
      "outputs": []
    },
    {
      "cell_type": "code",
      "source": [
        "class TextSelector(BaseEstimator, TransformerMixin):\n",
        "    \"\"\"\n",
        "    Трансформер для выбора одного столбца для выполнения\n",
        "    дополнительных преобразований.\n",
        "    Использование в текстовых столбцах\n",
        "    \"\"\"\n",
        "    def __init__(self, key):\n",
        "        self.key = key\n",
        "\n",
        "    def fit(self, X, y=None):\n",
        "        return self\n",
        "\n",
        "    def transform(self, X):\n",
        "        return X[self.key]\n",
        "\n",
        "\n",
        "class NumberSelector(BaseEstimator, TransformerMixin):\n",
        "    \"\"\"\n",
        "    Трансформер для выбора одного столбца для выполнения\n",
        "    дополнительных преобразований.\n",
        "    Использование в числовых столбцах\n",
        "    \"\"\"\n",
        "    def __init__(self, key):\n",
        "        self.key = key\n",
        "\n",
        "    def fit(self, X, y=None):\n",
        "        return self\n",
        "\n",
        "    def transform(self, X):\n",
        "        return X[[self.key]]"
      ],
      "metadata": {
        "id": "37Ob2h78IN9_"
      },
      "execution_count": null,
      "outputs": []
    },
    {
      "cell_type": "markdown",
      "source": [
        "##Загрузка данных"
      ],
      "metadata": {
        "id": "AiHI0EbwIGz6"
      }
    },
    {
      "cell_type": "markdown",
      "source": [
        "###Загружаем данные по фильмам"
      ],
      "metadata": {
        "id": "Ekgb6imsL3UA"
      }
    },
    {
      "cell_type": "code",
      "source": [
        "#загружаем данные по фильмам\n",
        "PATH = '/content/drive/My Drive/Colab Notebooks/datasets'\n",
        "df = pd.read_excel(f'{PATH}/movies_labels.xlsx', index_col='id')\n",
        "df.head(3)"
      ],
      "metadata": {
        "id": "ixrEVKaeICdT",
        "colab": {
          "base_uri": "https://localhost:8080/",
          "height": 175
        },
        "outputId": "adde34a1-ba5c-4514-cd0e-34e3ad5c6fa9"
      },
      "execution_count": null,
      "outputs": [
        {
          "output_type": "execute_result",
          "data": {
            "text/plain": [
              "                               Movie Level\n",
              "id                                        \n",
              "0          10_Cloverfield_lane(2016)    B1\n",
              "1   10_things_I_hate_about_you(1999)    B1\n",
              "2               A_knights_tale(2001)    B2"
            ],
            "text/html": [
              "\n",
              "  <div id=\"df-21a96471-0065-4e78-84a1-81db9ac9f43e\">\n",
              "    <div class=\"colab-df-container\">\n",
              "      <div>\n",
              "<style scoped>\n",
              "    .dataframe tbody tr th:only-of-type {\n",
              "        vertical-align: middle;\n",
              "    }\n",
              "\n",
              "    .dataframe tbody tr th {\n",
              "        vertical-align: top;\n",
              "    }\n",
              "\n",
              "    .dataframe thead th {\n",
              "        text-align: right;\n",
              "    }\n",
              "</style>\n",
              "<table border=\"1\" class=\"dataframe\">\n",
              "  <thead>\n",
              "    <tr style=\"text-align: right;\">\n",
              "      <th></th>\n",
              "      <th>Movie</th>\n",
              "      <th>Level</th>\n",
              "    </tr>\n",
              "    <tr>\n",
              "      <th>id</th>\n",
              "      <th></th>\n",
              "      <th></th>\n",
              "    </tr>\n",
              "  </thead>\n",
              "  <tbody>\n",
              "    <tr>\n",
              "      <th>0</th>\n",
              "      <td>10_Cloverfield_lane(2016)</td>\n",
              "      <td>B1</td>\n",
              "    </tr>\n",
              "    <tr>\n",
              "      <th>1</th>\n",
              "      <td>10_things_I_hate_about_you(1999)</td>\n",
              "      <td>B1</td>\n",
              "    </tr>\n",
              "    <tr>\n",
              "      <th>2</th>\n",
              "      <td>A_knights_tale(2001)</td>\n",
              "      <td>B2</td>\n",
              "    </tr>\n",
              "  </tbody>\n",
              "</table>\n",
              "</div>\n",
              "      <button class=\"colab-df-convert\" onclick=\"convertToInteractive('df-21a96471-0065-4e78-84a1-81db9ac9f43e')\"\n",
              "              title=\"Convert this dataframe to an interactive table.\"\n",
              "              style=\"display:none;\">\n",
              "        \n",
              "  <svg xmlns=\"http://www.w3.org/2000/svg\" height=\"24px\"viewBox=\"0 0 24 24\"\n",
              "       width=\"24px\">\n",
              "    <path d=\"M0 0h24v24H0V0z\" fill=\"none\"/>\n",
              "    <path d=\"M18.56 5.44l.94 2.06.94-2.06 2.06-.94-2.06-.94-.94-2.06-.94 2.06-2.06.94zm-11 1L8.5 8.5l.94-2.06 2.06-.94-2.06-.94L8.5 2.5l-.94 2.06-2.06.94zm10 10l.94 2.06.94-2.06 2.06-.94-2.06-.94-.94-2.06-.94 2.06-2.06.94z\"/><path d=\"M17.41 7.96l-1.37-1.37c-.4-.4-.92-.59-1.43-.59-.52 0-1.04.2-1.43.59L10.3 9.45l-7.72 7.72c-.78.78-.78 2.05 0 2.83L4 21.41c.39.39.9.59 1.41.59.51 0 1.02-.2 1.41-.59l7.78-7.78 2.81-2.81c.8-.78.8-2.07 0-2.86zM5.41 20L4 18.59l7.72-7.72 1.47 1.35L5.41 20z\"/>\n",
              "  </svg>\n",
              "      </button>\n",
              "      \n",
              "  <style>\n",
              "    .colab-df-container {\n",
              "      display:flex;\n",
              "      flex-wrap:wrap;\n",
              "      gap: 12px;\n",
              "    }\n",
              "\n",
              "    .colab-df-convert {\n",
              "      background-color: #E8F0FE;\n",
              "      border: none;\n",
              "      border-radius: 50%;\n",
              "      cursor: pointer;\n",
              "      display: none;\n",
              "      fill: #1967D2;\n",
              "      height: 32px;\n",
              "      padding: 0 0 0 0;\n",
              "      width: 32px;\n",
              "    }\n",
              "\n",
              "    .colab-df-convert:hover {\n",
              "      background-color: #E2EBFA;\n",
              "      box-shadow: 0px 1px 2px rgba(60, 64, 67, 0.3), 0px 1px 3px 1px rgba(60, 64, 67, 0.15);\n",
              "      fill: #174EA6;\n",
              "    }\n",
              "\n",
              "    [theme=dark] .colab-df-convert {\n",
              "      background-color: #3B4455;\n",
              "      fill: #D2E3FC;\n",
              "    }\n",
              "\n",
              "    [theme=dark] .colab-df-convert:hover {\n",
              "      background-color: #434B5C;\n",
              "      box-shadow: 0px 1px 3px 1px rgba(0, 0, 0, 0.15);\n",
              "      filter: drop-shadow(0px 1px 2px rgba(0, 0, 0, 0.3));\n",
              "      fill: #FFFFFF;\n",
              "    }\n",
              "  </style>\n",
              "\n",
              "      <script>\n",
              "        const buttonEl =\n",
              "          document.querySelector('#df-21a96471-0065-4e78-84a1-81db9ac9f43e button.colab-df-convert');\n",
              "        buttonEl.style.display =\n",
              "          google.colab.kernel.accessAllowed ? 'block' : 'none';\n",
              "\n",
              "        async function convertToInteractive(key) {\n",
              "          const element = document.querySelector('#df-21a96471-0065-4e78-84a1-81db9ac9f43e');\n",
              "          const dataTable =\n",
              "            await google.colab.kernel.invokeFunction('convertToInteractive',\n",
              "                                                     [key], {});\n",
              "          if (!dataTable) return;\n",
              "\n",
              "          const docLinkHtml = 'Like what you see? Visit the ' +\n",
              "            '<a target=\"_blank\" href=https://colab.research.google.com/notebooks/data_table.ipynb>data table notebook</a>'\n",
              "            + ' to learn more about interactive tables.';\n",
              "          element.innerHTML = '';\n",
              "          dataTable['output_type'] = 'display_data';\n",
              "          await google.colab.output.renderOutput(dataTable, element);\n",
              "          const docLink = document.createElement('div');\n",
              "          docLink.innerHTML = docLinkHtml;\n",
              "          element.appendChild(docLink);\n",
              "        }\n",
              "      </script>\n",
              "    </div>\n",
              "  </div>\n",
              "  "
            ]
          },
          "metadata": {},
          "execution_count": 4
        }
      ]
    },
    {
      "cell_type": "code",
      "source": [
        "# определим какие целевые метки содержат данные\n",
        "df['Level'].unique()"
      ],
      "metadata": {
        "id": "KKLdf10GyLSx",
        "colab": {
          "base_uri": "https://localhost:8080/"
        },
        "outputId": "8e89a2d8-4178-40af-af09-1ebeeb92a91d"
      },
      "execution_count": null,
      "outputs": [
        {
          "output_type": "execute_result",
          "data": {
            "text/plain": [
              "array(['B1', 'B2', 'A2/A2+', 'C1', 'B1, B2', 'A2/A2+, B1', 'A2'],\n",
              "      dtype=object)"
            ]
          },
          "metadata": {},
          "execution_count": 5
        }
      ]
    },
    {
      "cell_type": "code",
      "source": [
        "# определим словарь меток с кодированием значений\n",
        "label_dict = {'A2': 1,\n",
        "              'A2/A2+': 1,\n",
        "              'B1': 2,\n",
        "              'A2/A2+, B1': 2,\n",
        "              'B2': 3,\n",
        "              'B1, B2': 3,\n",
        "              'C1': 4}\n",
        "# заменим метки числовыми значениями\n",
        "df['Level'] = df['Level'].replace(label_dict)"
      ],
      "metadata": {
        "id": "OcBS-bUdId7H"
      },
      "execution_count": null,
      "outputs": []
    },
    {
      "cell_type": "code",
      "source": [
        "# удалим дубликаты\n",
        "df = df.drop_duplicates()\n",
        "df.shape"
      ],
      "metadata": {
        "id": "XCL8yqqrIguv",
        "colab": {
          "base_uri": "https://localhost:8080/"
        },
        "outputId": "a67f033b-a163-4ffd-dadd-593099ca30d0"
      },
      "execution_count": null,
      "outputs": [
        {
          "output_type": "execute_result",
          "data": {
            "text/plain": [
              "(238, 2)"
            ]
          },
          "metadata": {},
          "execution_count": 7
        }
      ]
    },
    {
      "cell_type": "markdown",
      "source": [
        "###Загрузка субтитров"
      ],
      "metadata": {
        "id": "2dZzlkUDL-qo"
      }
    },
    {
      "cell_type": "code",
      "source": [
        "#Количество названий фильмов в папке с субтитрами\n",
        "films_name = os.listdir(f'{PATH}/SBTL1')\n",
        "print(len(films_name))"
      ],
      "metadata": {
        "id": "utNQY7MNIjVn",
        "colab": {
          "base_uri": "https://localhost:8080/"
        },
        "outputId": "07943f79-7ac0-4a29-8c41-46064aa2ecb5"
      },
      "execution_count": null,
      "outputs": [
        {
          "output_type": "stream",
          "name": "stdout",
          "text": [
            "172\n"
          ]
        }
      ]
    },
    {
      "cell_type": "code",
      "source": [
        "# проверим для скольких фильмов, имеющих метку из таблицы, предоставлены субтитры\n",
        "films_filtr = set(films_name) & set(df['Movie'] + '.srt')\n",
        "len(films_filtr)"
      ],
      "metadata": {
        "id": "9pisUGAmMB3w",
        "colab": {
          "base_uri": "https://localhost:8080/"
        },
        "outputId": "924b5d53-0143-4870-997f-0b667ca368c1"
      },
      "execution_count": null,
      "outputs": [
        {
          "output_type": "execute_result",
          "data": {
            "text/plain": [
              "161"
            ]
          },
          "metadata": {},
          "execution_count": 9
        }
      ]
    },
    {
      "cell_type": "code",
      "source": [
        "def load_subs(film):\n",
        "  \"\"\"загружет субтитры\"\"\"\n",
        "  if f'{film}.srt' not in set(films_name):\n",
        "    return None\n",
        "  try:\n",
        "    subs = pysrt.open(f'{PATH}/SBTL1/{film}.srt')\n",
        "  except:\n",
        "    subs = pysrt.open(f'{PATH}/SBTL1/{film}.srt', encoding='iso-8859-1')\n",
        "  return subs"
      ],
      "metadata": {
        "id": "r_uC_be_MebK"
      },
      "execution_count": null,
      "outputs": []
    },
    {
      "cell_type": "code",
      "source": [
        "%%time\n",
        "#загружаем субтитры\n",
        "df['subs'] = df['Movie'].apply(load_subs)"
      ],
      "metadata": {
        "id": "itG8oMQlMFog",
        "colab": {
          "base_uri": "https://localhost:8080/"
        },
        "outputId": "f9a0db5f-a5d6-4058-b36d-1073d4264400"
      },
      "execution_count": null,
      "outputs": [
        {
          "output_type": "stream",
          "name": "stdout",
          "text": [
            "CPU times: user 9.1 s, sys: 193 ms, total: 9.3 s\n",
            "Wall time: 14.5 s\n"
          ]
        }
      ]
    },
    {
      "cell_type": "code",
      "source": [
        "df['subs']"
      ],
      "metadata": {
        "id": "EshUSy2yMUDn",
        "colab": {
          "base_uri": "https://localhost:8080/"
        },
        "outputId": "c9403560-794f-4288-9ef4-bf480872cb12"
      },
      "execution_count": null,
      "outputs": [
        {
          "output_type": "execute_result",
          "data": {
            "text/plain": [
              "id\n",
              "0      [1\\n00:00:55,279 --> 00:01:07,279\\n<font color...\n",
              "1      [1\\n00:01:54,281 --> 00:01:55,698\\nHey!\\n, 2\\n...\n",
              "2      [1\\n00:00:15,089 --> 00:00:21,229\\nResync: Xen...\n",
              "3      [1\\n00:00:17,610 --> 00:00:22,610\\n- <i><font ...\n",
              "4      [1\\n00:00:27,240 --> 00:00:30,879\\n<i>Oh, I co...\n",
              "                             ...                        \n",
              "236                                                 None\n",
              "237                                                 None\n",
              "238                                                 None\n",
              "239                                                 None\n",
              "240                                                 None\n",
              "Name: subs, Length: 238, dtype: object"
            ]
          },
          "metadata": {},
          "execution_count": 12
        }
      ]
    },
    {
      "cell_type": "code",
      "source": [
        "#удаляем пропуски\n",
        "df = df.dropna().reset_index(drop=True)"
      ],
      "metadata": {
        "id": "R7URjKeJNDoN"
      },
      "execution_count": null,
      "outputs": []
    },
    {
      "cell_type": "code",
      "source": [
        "df"
      ],
      "metadata": {
        "id": "eN9D-Ek2HoCu",
        "colab": {
          "base_uri": "https://localhost:8080/",
          "height": 423
        },
        "outputId": "dafcae16-8e6f-4397-ed9d-5195b699e773"
      },
      "execution_count": null,
      "outputs": [
        {
          "output_type": "execute_result",
          "data": {
            "text/plain": [
              "                                Movie  Level  \\\n",
              "0           10_Cloverfield_lane(2016)      2   \n",
              "1    10_things_I_hate_about_you(1999)      2   \n",
              "2                A_knights_tale(2001)      3   \n",
              "3                A_star_is_born(2018)      3   \n",
              "4                       Aladdin(1992)      1   \n",
              "..                                ...    ...   \n",
              "157   Suits.S03E06.720p.HDTV.x264-mSD      4   \n",
              "158        Suits.S03E07.HDTV.x264-mSD      4   \n",
              "159   Suits.S03E08.480p.HDTV.x264-mSD      4   \n",
              "160   Suits.S03E09.480p.HDTV.x264-mSD      4   \n",
              "161        Suits.S03E10.HDTV.x264-mSD      4   \n",
              "\n",
              "                                                  subs  \n",
              "0    [1\\n00:00:55,279 --> 00:01:07,279\\n<font color...  \n",
              "1    [1\\n00:01:54,281 --> 00:01:55,698\\nHey!\\n, 2\\n...  \n",
              "2    [1\\n00:00:15,089 --> 00:00:21,229\\nResync: Xen...  \n",
              "3    [1\\n00:00:17,610 --> 00:00:22,610\\n- <i><font ...  \n",
              "4    [1\\n00:00:27,240 --> 00:00:30,879\\n<i>Oh, I co...  \n",
              "..                                                 ...  \n",
              "157  [1\\n00:00:01,383 --> 00:00:02,751\\nI lost Ava ...  \n",
              "158  [1\\n00:00:00,052 --> 00:00:01,352\\nPreviously ...  \n",
              "159  [1\\n00:00:01,436 --> 00:00:03,028\\nI get Ava H...  \n",
              "160  [1\\n00:00:00,024 --> 00:00:01,478\\nPreviously ...  \n",
              "161  [1\\n00:00:00,015 --> 00:00:01,196\\nPreviously ...  \n",
              "\n",
              "[162 rows x 3 columns]"
            ],
            "text/html": [
              "\n",
              "  <div id=\"df-a32b8fae-6779-436f-97b3-2f0ce5c2dfc2\">\n",
              "    <div class=\"colab-df-container\">\n",
              "      <div>\n",
              "<style scoped>\n",
              "    .dataframe tbody tr th:only-of-type {\n",
              "        vertical-align: middle;\n",
              "    }\n",
              "\n",
              "    .dataframe tbody tr th {\n",
              "        vertical-align: top;\n",
              "    }\n",
              "\n",
              "    .dataframe thead th {\n",
              "        text-align: right;\n",
              "    }\n",
              "</style>\n",
              "<table border=\"1\" class=\"dataframe\">\n",
              "  <thead>\n",
              "    <tr style=\"text-align: right;\">\n",
              "      <th></th>\n",
              "      <th>Movie</th>\n",
              "      <th>Level</th>\n",
              "      <th>subs</th>\n",
              "    </tr>\n",
              "  </thead>\n",
              "  <tbody>\n",
              "    <tr>\n",
              "      <th>0</th>\n",
              "      <td>10_Cloverfield_lane(2016)</td>\n",
              "      <td>2</td>\n",
              "      <td>[1\\n00:00:55,279 --&gt; 00:01:07,279\\n&lt;font color...</td>\n",
              "    </tr>\n",
              "    <tr>\n",
              "      <th>1</th>\n",
              "      <td>10_things_I_hate_about_you(1999)</td>\n",
              "      <td>2</td>\n",
              "      <td>[1\\n00:01:54,281 --&gt; 00:01:55,698\\nHey!\\n, 2\\n...</td>\n",
              "    </tr>\n",
              "    <tr>\n",
              "      <th>2</th>\n",
              "      <td>A_knights_tale(2001)</td>\n",
              "      <td>3</td>\n",
              "      <td>[1\\n00:00:15,089 --&gt; 00:00:21,229\\nResync: Xen...</td>\n",
              "    </tr>\n",
              "    <tr>\n",
              "      <th>3</th>\n",
              "      <td>A_star_is_born(2018)</td>\n",
              "      <td>3</td>\n",
              "      <td>[1\\n00:00:17,610 --&gt; 00:00:22,610\\n- &lt;i&gt;&lt;font ...</td>\n",
              "    </tr>\n",
              "    <tr>\n",
              "      <th>4</th>\n",
              "      <td>Aladdin(1992)</td>\n",
              "      <td>1</td>\n",
              "      <td>[1\\n00:00:27,240 --&gt; 00:00:30,879\\n&lt;i&gt;Oh, I co...</td>\n",
              "    </tr>\n",
              "    <tr>\n",
              "      <th>...</th>\n",
              "      <td>...</td>\n",
              "      <td>...</td>\n",
              "      <td>...</td>\n",
              "    </tr>\n",
              "    <tr>\n",
              "      <th>157</th>\n",
              "      <td>Suits.S03E06.720p.HDTV.x264-mSD</td>\n",
              "      <td>4</td>\n",
              "      <td>[1\\n00:00:01,383 --&gt; 00:00:02,751\\nI lost Ava ...</td>\n",
              "    </tr>\n",
              "    <tr>\n",
              "      <th>158</th>\n",
              "      <td>Suits.S03E07.HDTV.x264-mSD</td>\n",
              "      <td>4</td>\n",
              "      <td>[1\\n00:00:00,052 --&gt; 00:00:01,352\\nPreviously ...</td>\n",
              "    </tr>\n",
              "    <tr>\n",
              "      <th>159</th>\n",
              "      <td>Suits.S03E08.480p.HDTV.x264-mSD</td>\n",
              "      <td>4</td>\n",
              "      <td>[1\\n00:00:01,436 --&gt; 00:00:03,028\\nI get Ava H...</td>\n",
              "    </tr>\n",
              "    <tr>\n",
              "      <th>160</th>\n",
              "      <td>Suits.S03E09.480p.HDTV.x264-mSD</td>\n",
              "      <td>4</td>\n",
              "      <td>[1\\n00:00:00,024 --&gt; 00:00:01,478\\nPreviously ...</td>\n",
              "    </tr>\n",
              "    <tr>\n",
              "      <th>161</th>\n",
              "      <td>Suits.S03E10.HDTV.x264-mSD</td>\n",
              "      <td>4</td>\n",
              "      <td>[1\\n00:00:00,015 --&gt; 00:00:01,196\\nPreviously ...</td>\n",
              "    </tr>\n",
              "  </tbody>\n",
              "</table>\n",
              "<p>162 rows × 3 columns</p>\n",
              "</div>\n",
              "      <button class=\"colab-df-convert\" onclick=\"convertToInteractive('df-a32b8fae-6779-436f-97b3-2f0ce5c2dfc2')\"\n",
              "              title=\"Convert this dataframe to an interactive table.\"\n",
              "              style=\"display:none;\">\n",
              "        \n",
              "  <svg xmlns=\"http://www.w3.org/2000/svg\" height=\"24px\"viewBox=\"0 0 24 24\"\n",
              "       width=\"24px\">\n",
              "    <path d=\"M0 0h24v24H0V0z\" fill=\"none\"/>\n",
              "    <path d=\"M18.56 5.44l.94 2.06.94-2.06 2.06-.94-2.06-.94-.94-2.06-.94 2.06-2.06.94zm-11 1L8.5 8.5l.94-2.06 2.06-.94-2.06-.94L8.5 2.5l-.94 2.06-2.06.94zm10 10l.94 2.06.94-2.06 2.06-.94-2.06-.94-.94-2.06-.94 2.06-2.06.94z\"/><path d=\"M17.41 7.96l-1.37-1.37c-.4-.4-.92-.59-1.43-.59-.52 0-1.04.2-1.43.59L10.3 9.45l-7.72 7.72c-.78.78-.78 2.05 0 2.83L4 21.41c.39.39.9.59 1.41.59.51 0 1.02-.2 1.41-.59l7.78-7.78 2.81-2.81c.8-.78.8-2.07 0-2.86zM5.41 20L4 18.59l7.72-7.72 1.47 1.35L5.41 20z\"/>\n",
              "  </svg>\n",
              "      </button>\n",
              "      \n",
              "  <style>\n",
              "    .colab-df-container {\n",
              "      display:flex;\n",
              "      flex-wrap:wrap;\n",
              "      gap: 12px;\n",
              "    }\n",
              "\n",
              "    .colab-df-convert {\n",
              "      background-color: #E8F0FE;\n",
              "      border: none;\n",
              "      border-radius: 50%;\n",
              "      cursor: pointer;\n",
              "      display: none;\n",
              "      fill: #1967D2;\n",
              "      height: 32px;\n",
              "      padding: 0 0 0 0;\n",
              "      width: 32px;\n",
              "    }\n",
              "\n",
              "    .colab-df-convert:hover {\n",
              "      background-color: #E2EBFA;\n",
              "      box-shadow: 0px 1px 2px rgba(60, 64, 67, 0.3), 0px 1px 3px 1px rgba(60, 64, 67, 0.15);\n",
              "      fill: #174EA6;\n",
              "    }\n",
              "\n",
              "    [theme=dark] .colab-df-convert {\n",
              "      background-color: #3B4455;\n",
              "      fill: #D2E3FC;\n",
              "    }\n",
              "\n",
              "    [theme=dark] .colab-df-convert:hover {\n",
              "      background-color: #434B5C;\n",
              "      box-shadow: 0px 1px 3px 1px rgba(0, 0, 0, 0.15);\n",
              "      filter: drop-shadow(0px 1px 2px rgba(0, 0, 0, 0.3));\n",
              "      fill: #FFFFFF;\n",
              "    }\n",
              "  </style>\n",
              "\n",
              "      <script>\n",
              "        const buttonEl =\n",
              "          document.querySelector('#df-a32b8fae-6779-436f-97b3-2f0ce5c2dfc2 button.colab-df-convert');\n",
              "        buttonEl.style.display =\n",
              "          google.colab.kernel.accessAllowed ? 'block' : 'none';\n",
              "\n",
              "        async function convertToInteractive(key) {\n",
              "          const element = document.querySelector('#df-a32b8fae-6779-436f-97b3-2f0ce5c2dfc2');\n",
              "          const dataTable =\n",
              "            await google.colab.kernel.invokeFunction('convertToInteractive',\n",
              "                                                     [key], {});\n",
              "          if (!dataTable) return;\n",
              "\n",
              "          const docLinkHtml = 'Like what you see? Visit the ' +\n",
              "            '<a target=\"_blank\" href=https://colab.research.google.com/notebooks/data_table.ipynb>data table notebook</a>'\n",
              "            + ' to learn more about interactive tables.';\n",
              "          element.innerHTML = '';\n",
              "          dataTable['output_type'] = 'display_data';\n",
              "          await google.colab.output.renderOutput(dataTable, element);\n",
              "          const docLink = document.createElement('div');\n",
              "          docLink.innerHTML = docLinkHtml;\n",
              "          element.appendChild(docLink);\n",
              "        }\n",
              "      </script>\n",
              "    </div>\n",
              "  </div>\n",
              "  "
            ]
          },
          "metadata": {},
          "execution_count": 14
        }
      ]
    },
    {
      "cell_type": "markdown",
      "source": [
        "###Оценка дисбаланса классов уровней"
      ],
      "metadata": {
        "id": "1Jpj9-fA4h1K"
      }
    },
    {
      "cell_type": "code",
      "source": [
        "df['Level'].value_counts()"
      ],
      "metadata": {
        "colab": {
          "base_uri": "https://localhost:8080/"
        },
        "id": "cgkQRkDc3d0w",
        "outputId": "f093ab85-342a-488d-b57f-7136f3fdf9d8"
      },
      "execution_count": null,
      "outputs": [
        {
          "output_type": "execute_result",
          "data": {
            "text/plain": [
              "2    55\n",
              "4    39\n",
              "3    37\n",
              "1    31\n",
              "Name: Level, dtype: int64"
            ]
          },
          "metadata": {},
          "execution_count": 15
        }
      ]
    },
    {
      "cell_type": "markdown",
      "source": [
        "###Разделение данных на обучающую и тестовую выборки"
      ],
      "metadata": {
        "id": "NJy8-kV-1ZDt"
      }
    },
    {
      "cell_type": "code",
      "source": [
        "STATE = 0\n",
        "df_train, df_test = train_test_split(df, random_state=STATE,\n",
        "                                    test_size=0.25,\n",
        "                                    stratify=df['Level'])\n",
        "X = df_train.drop(['Level','Movie'], axis=1)\n",
        "y = df_train['Level']\n",
        "X_test = df_test.drop(['Level','Movie'], axis=1)\n",
        "y_test = df_test['Level']\n",
        "print(f'Размер обучающей выборки: {X.shape, y.shape}')\n",
        "print(f'Размер тестовой выборки: {X_test.shape, y_test.shape}')"
      ],
      "metadata": {
        "colab": {
          "base_uri": "https://localhost:8080/"
        },
        "id": "nIaAqXTqjcZ4",
        "outputId": "fb498417-3c03-4029-a329-effc0c48df86"
      },
      "execution_count": null,
      "outputs": [
        {
          "output_type": "stream",
          "name": "stdout",
          "text": [
            "Размер обучающей выборки: ((121, 1), (121,))\n",
            "Размер тестовой выборки: ((41, 1), (41,))\n"
          ]
        }
      ]
    },
    {
      "cell_type": "markdown",
      "source": [
        "###Очищаем субтитры"
      ],
      "metadata": {
        "id": "F1bs_FYK1NWK"
      }
    },
    {
      "cell_type": "code",
      "source": [
        "# зададим регулярные выражения для очистки текста\n",
        "HTML = r'<.*?>' # html тэги меняем на пробел\n",
        "TAG = r'{.*?}' # тэги меняем на пробел\n",
        "COMMENTS = r'[\\(\\[][A-Za-z ]+[\\)\\]]' # комменты в скобках меняем на пробел\n",
        "LETTERS = r'[^\\w\\s]' # все что не буквы меняем на пробел\n",
        "SPACES = r'([ ])\\1+' # повторяющиеся пробелы меняем на один пробел\n",
        "DOTS = r'[\\.]+' # многоточие меняем на точку\n",
        "SYMB = r\"[^\\w\\d'\\s]\" # знаки препинания кроме апострофа\n",
        "def clean_subs(subs):\n",
        "  \"\"\"очистки субтитров\"\"\"\n",
        "  subs = subs[1:] # удаляем первый рекламный субтитр\n",
        "  txt = re.sub(HTML, ' ', subs.text) # html тэги меняем на пробел\n",
        "  txt = re.sub(COMMENTS, ' ', txt) # комменты в скобках меняем на пробел\n",
        "  txt = re.sub(LETTERS, ' ', txt) # все что не буквы меняем на пробел\n",
        "  txt = re.sub(DOTS, r'.', txt) # многоточие меняем на точку\n",
        "  txt = re.sub(SPACES, r'\\1', txt) # повторяющиеся пробелы меняем на один пробел\n",
        "  txt = re.sub(SYMB, '', txt) # знаки препинания кроме апострофа на пустую строку\n",
        "  txt = re.sub('www', '', txt) # кое-где остаётся www, то же меняем на пустую строку\n",
        "  txt = txt.lstrip().rstrip().replace(\"\\n\",\"\") # обрезка пробелов слева\n",
        "  txt = txt.encode('ascii', 'ignore').decode() # удаляем все что не ascii символы\n",
        "  txt = txt.lower() # текст в нижний регистр\n",
        "  txt = ' '.join(txt.split())\n",
        "  return txt"
      ],
      "metadata": {
        "id": "9cPutFs0MnsF"
      },
      "execution_count": null,
      "outputs": []
    },
    {
      "cell_type": "code",
      "source": [
        "%%time\n",
        "X['subs'] = X['subs'].apply(clean_subs)\n",
        "X['subs']"
      ],
      "metadata": {
        "id": "lt-po1-2M32x",
        "colab": {
          "base_uri": "https://localhost:8080/"
        },
        "outputId": "8d97de53-eff5-460a-a16d-f50403ca8955"
      },
      "execution_count": null,
      "outputs": [
        {
          "output_type": "stream",
          "name": "stdout",
          "text": [
            "CPU times: user 1.4 s, sys: 12.8 ms, total: 1.41 s\n",
            "Wall time: 1.82 s\n"
          ]
        },
        {
          "output_type": "execute_result",
          "data": {
            "text/plain": [
              "112    hey hey whoa whoa whoa whoa ma am ma am please...\n",
              "43     joy do you ever look at someone and wonder wha...\n",
              "93     when the chips arestartin to fall just when th...\n",
              "89     bagheera many strange talesare told of this ju...\n",
              "87     to be true shakespeare said journeys end in lo...\n",
              "                             ...                        \n",
              "28     rhythmic thumping musicplaying my planetarraki...\n",
              "59     there was a boya very strange enchanted boythe...\n",
              "131    they said it would which isn t quite the same ...\n",
              "69     come on hurry get in and don t come out daniel...\n",
              "129    oh my god that s impossible i ll take it up th...\n",
              "Name: subs, Length: 121, dtype: object"
            ]
          },
          "metadata": {},
          "execution_count": 18
        }
      ]
    },
    {
      "cell_type": "markdown",
      "source": [
        "###Загрузка словарей"
      ],
      "metadata": {
        "id": "Yw3BdvXDiKBS"
      }
    },
    {
      "cell_type": "code",
      "source": [
        "def convert_to_dict(df):\n",
        "  \"\"\"конвертирует словари\"\"\"\n",
        "  df.loc[-1] = df.columns.values\n",
        "  df.sort_index(inplace=True)\n",
        "  df.reset_index(drop=True, inplace=True)\n",
        "  df.columns = [0]\n",
        "  df[0]=df[0].str.split(' ').str[0]\n",
        "  df[0] =df[0].str.lower()\n",
        "  df[0].replace(LETTERS,'',regex=True, inplace = True)\n",
        "\n",
        "levels = ['A2','B1','B2','C1']\n",
        "vlev = {}\n",
        "for level in levels:\n",
        "  f = f'{PATH}/Oxford_CEFR_level/{level}.csv'\n",
        "  df = pd.read_csv(f)\n",
        "  convert_to_dict(df)\n",
        "  vlev[level]=set(list(df[0]))"
      ],
      "metadata": {
        "id": "xsqyXB8-h2Fa"
      },
      "execution_count": null,
      "outputs": []
    },
    {
      "cell_type": "markdown",
      "source": [
        "###Оценка дисбаланса классов словарей"
      ],
      "metadata": {
        "id": "C5CtGwQf18eo"
      }
    },
    {
      "cell_type": "code",
      "source": [
        "for level in levels:\n",
        "  print(level,'=',len(vlev[level]))"
      ],
      "metadata": {
        "colab": {
          "base_uri": "https://localhost:8080/"
        },
        "id": "EayWq6O_h2Mq",
        "outputId": "bbdf829c-9187-4694-c0ba-3ef8f33f0fa1"
      },
      "execution_count": null,
      "outputs": [
        {
          "output_type": "stream",
          "name": "stdout",
          "text": [
            "A2 = 865\n",
            "B1 = 806\n",
            "B2 = 727\n",
            "C1 = 1314\n"
          ]
        }
      ]
    },
    {
      "cell_type": "markdown",
      "source": [
        "###Добавление признаков"
      ],
      "metadata": {
        "id": "qjpkWK-H2Cew"
      }
    },
    {
      "cell_type": "code",
      "source": [
        "def count_percent_words_dictionar(sub):\n",
        "  \"\"\"считает процент лем в словарях\"\"\"\n",
        "  nlp = spacy.load('en_core_web_sm' )\n",
        "  doc = nlp(sub)\n",
        "  lms = set([token.lemma_ for token in doc])\n",
        "  lem_per = [(len(lms&vlev[level])/len(lms))*100 for level in levels]\n",
        "  return lem_per"
      ],
      "metadata": {
        "id": "NPBh4488i0eY"
      },
      "execution_count": null,
      "outputs": []
    },
    {
      "cell_type": "code",
      "source": [
        "%%time\n",
        "levpercent = [f'{_}+percent' for _ in levels]\n",
        "X.loc[:,levpercent] = X['subs'].apply(count_percent_words_dictionar).to_list()\n",
        "X"
      ],
      "metadata": {
        "colab": {
          "base_uri": "https://localhost:8080/",
          "height": 460
        },
        "id": "4YeE3MUzjz50",
        "outputId": "e13aa445-8409-4cd8-b33d-1381f81fc047"
      },
      "execution_count": null,
      "outputs": [
        {
          "output_type": "stream",
          "name": "stdout",
          "text": [
            "CPU times: user 4min 35s, sys: 5.57 s, total: 4min 40s\n",
            "Wall time: 4min 51s\n"
          ]
        },
        {
          "output_type": "execute_result",
          "data": {
            "text/plain": [
              "                                                  subs  A2+percent  \\\n",
              "112  hey hey whoa whoa whoa whoa ma am ma am please...   16.354557   \n",
              "43   joy do you ever look at someone and wonder wha...   18.719212   \n",
              "93   when the chips arestartin to fall just when th...   11.279826   \n",
              "89   bagheera many strange talesare told of this ju...   18.768920   \n",
              "87   to be true shakespeare said journeys end in lo...   14.373602   \n",
              "..                                                 ...         ...   \n",
              "28   rhythmic thumping musicplaying my planetarraki...   14.078550   \n",
              "59   there was a boya very strange enchanted boythe...   12.079701   \n",
              "131  they said it would which isn t quite the same ...   16.083916   \n",
              "69   come on hurry get in and don t come out daniel...   14.961307   \n",
              "129  oh my god that s impossible i ll take it up th...   17.205109   \n",
              "\n",
              "     B1+percent  B2+percent  C1+percent  \n",
              "112    8.988764    6.242197    4.244694  \n",
              "43    11.904762    7.799672    3.119869  \n",
              "93     6.561822    4.013015    2.114967  \n",
              "89    10.191726    7.467205    3.329970  \n",
              "87     9.284116    6.152125    2.740492  \n",
              "..          ...         ...         ...  \n",
              "28     8.338369    7.129909    3.987915  \n",
              "59     7.098381    5.043587    2.926526  \n",
              "131   10.576923    6.730769    3.583916  \n",
              "69     9.630267    5.760963    3.783319  \n",
              "129   10.668670    7.888805    3.531180  \n",
              "\n",
              "[121 rows x 5 columns]"
            ],
            "text/html": [
              "\n",
              "  <div id=\"df-7ef5f426-c7ed-4903-9444-a15215c537f2\">\n",
              "    <div class=\"colab-df-container\">\n",
              "      <div>\n",
              "<style scoped>\n",
              "    .dataframe tbody tr th:only-of-type {\n",
              "        vertical-align: middle;\n",
              "    }\n",
              "\n",
              "    .dataframe tbody tr th {\n",
              "        vertical-align: top;\n",
              "    }\n",
              "\n",
              "    .dataframe thead th {\n",
              "        text-align: right;\n",
              "    }\n",
              "</style>\n",
              "<table border=\"1\" class=\"dataframe\">\n",
              "  <thead>\n",
              "    <tr style=\"text-align: right;\">\n",
              "      <th></th>\n",
              "      <th>subs</th>\n",
              "      <th>A2+percent</th>\n",
              "      <th>B1+percent</th>\n",
              "      <th>B2+percent</th>\n",
              "      <th>C1+percent</th>\n",
              "    </tr>\n",
              "  </thead>\n",
              "  <tbody>\n",
              "    <tr>\n",
              "      <th>112</th>\n",
              "      <td>hey hey whoa whoa whoa whoa ma am ma am please...</td>\n",
              "      <td>16.354557</td>\n",
              "      <td>8.988764</td>\n",
              "      <td>6.242197</td>\n",
              "      <td>4.244694</td>\n",
              "    </tr>\n",
              "    <tr>\n",
              "      <th>43</th>\n",
              "      <td>joy do you ever look at someone and wonder wha...</td>\n",
              "      <td>18.719212</td>\n",
              "      <td>11.904762</td>\n",
              "      <td>7.799672</td>\n",
              "      <td>3.119869</td>\n",
              "    </tr>\n",
              "    <tr>\n",
              "      <th>93</th>\n",
              "      <td>when the chips arestartin to fall just when th...</td>\n",
              "      <td>11.279826</td>\n",
              "      <td>6.561822</td>\n",
              "      <td>4.013015</td>\n",
              "      <td>2.114967</td>\n",
              "    </tr>\n",
              "    <tr>\n",
              "      <th>89</th>\n",
              "      <td>bagheera many strange talesare told of this ju...</td>\n",
              "      <td>18.768920</td>\n",
              "      <td>10.191726</td>\n",
              "      <td>7.467205</td>\n",
              "      <td>3.329970</td>\n",
              "    </tr>\n",
              "    <tr>\n",
              "      <th>87</th>\n",
              "      <td>to be true shakespeare said journeys end in lo...</td>\n",
              "      <td>14.373602</td>\n",
              "      <td>9.284116</td>\n",
              "      <td>6.152125</td>\n",
              "      <td>2.740492</td>\n",
              "    </tr>\n",
              "    <tr>\n",
              "      <th>...</th>\n",
              "      <td>...</td>\n",
              "      <td>...</td>\n",
              "      <td>...</td>\n",
              "      <td>...</td>\n",
              "      <td>...</td>\n",
              "    </tr>\n",
              "    <tr>\n",
              "      <th>28</th>\n",
              "      <td>rhythmic thumping musicplaying my planetarraki...</td>\n",
              "      <td>14.078550</td>\n",
              "      <td>8.338369</td>\n",
              "      <td>7.129909</td>\n",
              "      <td>3.987915</td>\n",
              "    </tr>\n",
              "    <tr>\n",
              "      <th>59</th>\n",
              "      <td>there was a boya very strange enchanted boythe...</td>\n",
              "      <td>12.079701</td>\n",
              "      <td>7.098381</td>\n",
              "      <td>5.043587</td>\n",
              "      <td>2.926526</td>\n",
              "    </tr>\n",
              "    <tr>\n",
              "      <th>131</th>\n",
              "      <td>they said it would which isn t quite the same ...</td>\n",
              "      <td>16.083916</td>\n",
              "      <td>10.576923</td>\n",
              "      <td>6.730769</td>\n",
              "      <td>3.583916</td>\n",
              "    </tr>\n",
              "    <tr>\n",
              "      <th>69</th>\n",
              "      <td>come on hurry get in and don t come out daniel...</td>\n",
              "      <td>14.961307</td>\n",
              "      <td>9.630267</td>\n",
              "      <td>5.760963</td>\n",
              "      <td>3.783319</td>\n",
              "    </tr>\n",
              "    <tr>\n",
              "      <th>129</th>\n",
              "      <td>oh my god that s impossible i ll take it up th...</td>\n",
              "      <td>17.205109</td>\n",
              "      <td>10.668670</td>\n",
              "      <td>7.888805</td>\n",
              "      <td>3.531180</td>\n",
              "    </tr>\n",
              "  </tbody>\n",
              "</table>\n",
              "<p>121 rows × 5 columns</p>\n",
              "</div>\n",
              "      <button class=\"colab-df-convert\" onclick=\"convertToInteractive('df-7ef5f426-c7ed-4903-9444-a15215c537f2')\"\n",
              "              title=\"Convert this dataframe to an interactive table.\"\n",
              "              style=\"display:none;\">\n",
              "        \n",
              "  <svg xmlns=\"http://www.w3.org/2000/svg\" height=\"24px\"viewBox=\"0 0 24 24\"\n",
              "       width=\"24px\">\n",
              "    <path d=\"M0 0h24v24H0V0z\" fill=\"none\"/>\n",
              "    <path d=\"M18.56 5.44l.94 2.06.94-2.06 2.06-.94-2.06-.94-.94-2.06-.94 2.06-2.06.94zm-11 1L8.5 8.5l.94-2.06 2.06-.94-2.06-.94L8.5 2.5l-.94 2.06-2.06.94zm10 10l.94 2.06.94-2.06 2.06-.94-2.06-.94-.94-2.06-.94 2.06-2.06.94z\"/><path d=\"M17.41 7.96l-1.37-1.37c-.4-.4-.92-.59-1.43-.59-.52 0-1.04.2-1.43.59L10.3 9.45l-7.72 7.72c-.78.78-.78 2.05 0 2.83L4 21.41c.39.39.9.59 1.41.59.51 0 1.02-.2 1.41-.59l7.78-7.78 2.81-2.81c.8-.78.8-2.07 0-2.86zM5.41 20L4 18.59l7.72-7.72 1.47 1.35L5.41 20z\"/>\n",
              "  </svg>\n",
              "      </button>\n",
              "      \n",
              "  <style>\n",
              "    .colab-df-container {\n",
              "      display:flex;\n",
              "      flex-wrap:wrap;\n",
              "      gap: 12px;\n",
              "    }\n",
              "\n",
              "    .colab-df-convert {\n",
              "      background-color: #E8F0FE;\n",
              "      border: none;\n",
              "      border-radius: 50%;\n",
              "      cursor: pointer;\n",
              "      display: none;\n",
              "      fill: #1967D2;\n",
              "      height: 32px;\n",
              "      padding: 0 0 0 0;\n",
              "      width: 32px;\n",
              "    }\n",
              "\n",
              "    .colab-df-convert:hover {\n",
              "      background-color: #E2EBFA;\n",
              "      box-shadow: 0px 1px 2px rgba(60, 64, 67, 0.3), 0px 1px 3px 1px rgba(60, 64, 67, 0.15);\n",
              "      fill: #174EA6;\n",
              "    }\n",
              "\n",
              "    [theme=dark] .colab-df-convert {\n",
              "      background-color: #3B4455;\n",
              "      fill: #D2E3FC;\n",
              "    }\n",
              "\n",
              "    [theme=dark] .colab-df-convert:hover {\n",
              "      background-color: #434B5C;\n",
              "      box-shadow: 0px 1px 3px 1px rgba(0, 0, 0, 0.15);\n",
              "      filter: drop-shadow(0px 1px 2px rgba(0, 0, 0, 0.3));\n",
              "      fill: #FFFFFF;\n",
              "    }\n",
              "  </style>\n",
              "\n",
              "      <script>\n",
              "        const buttonEl =\n",
              "          document.querySelector('#df-7ef5f426-c7ed-4903-9444-a15215c537f2 button.colab-df-convert');\n",
              "        buttonEl.style.display =\n",
              "          google.colab.kernel.accessAllowed ? 'block' : 'none';\n",
              "\n",
              "        async function convertToInteractive(key) {\n",
              "          const element = document.querySelector('#df-7ef5f426-c7ed-4903-9444-a15215c537f2');\n",
              "          const dataTable =\n",
              "            await google.colab.kernel.invokeFunction('convertToInteractive',\n",
              "                                                     [key], {});\n",
              "          if (!dataTable) return;\n",
              "\n",
              "          const docLinkHtml = 'Like what you see? Visit the ' +\n",
              "            '<a target=\"_blank\" href=https://colab.research.google.com/notebooks/data_table.ipynb>data table notebook</a>'\n",
              "            + ' to learn more about interactive tables.';\n",
              "          element.innerHTML = '';\n",
              "          dataTable['output_type'] = 'display_data';\n",
              "          await google.colab.output.renderOutput(dataTable, element);\n",
              "          const docLink = document.createElement('div');\n",
              "          docLink.innerHTML = docLinkHtml;\n",
              "          element.appendChild(docLink);\n",
              "        }\n",
              "      </script>\n",
              "    </div>\n",
              "  </div>\n",
              "  "
            ]
          },
          "metadata": {},
          "execution_count": 22
        }
      ]
    },
    {
      "cell_type": "markdown",
      "source": [
        "###Анализ признаков"
      ],
      "metadata": {
        "id": "vETZtH0W2Lmj"
      }
    },
    {
      "cell_type": "code",
      "source": [
        "for lev in range(1,5):\n",
        "  print(f'Level-{lev}')\n",
        "  print(X[y==lev][levpercent].describe().round(2))\n",
        "  print()"
      ],
      "metadata": {
        "colab": {
          "base_uri": "https://localhost:8080/"
        },
        "id": "uPskJSW5p2Z1",
        "outputId": "b5c4b601-872a-4ba8-97de-b905f2e17747"
      },
      "execution_count": null,
      "outputs": [
        {
          "output_type": "stream",
          "name": "stdout",
          "text": [
            "Level-1\n",
            "       A2+percent  B1+percent  B2+percent  C1+percent\n",
            "count       23.00       23.00       23.00       23.00\n",
            "mean        15.52        8.90        6.30        3.42\n",
            "std          2.22        1.38        1.27        1.03\n",
            "min         11.28        6.42        4.01        2.11\n",
            "25%         14.33        7.80        5.41        2.61\n",
            "50%         16.02        8.99        6.12        3.33\n",
            "75%         16.58        9.75        7.44        3.98\n",
            "max         19.50       12.14        8.19        6.33\n",
            "\n",
            "Level-2\n",
            "       A2+percent  B1+percent  B2+percent  C1+percent\n",
            "count       41.00       41.00       41.00       41.00\n",
            "mean        15.37        9.11        6.48        3.33\n",
            "std          1.69        1.13        1.17        0.70\n",
            "min         12.08        6.57        4.75        1.23\n",
            "25%         14.37        8.31        5.65        2.83\n",
            "50%         15.13        9.14        6.34        3.43\n",
            "75%         16.43       10.03        7.15        3.79\n",
            "max         18.72       11.90        8.98        4.57\n",
            "\n",
            "Level-3\n",
            "       A2+percent  B1+percent  B2+percent  C1+percent\n",
            "count       28.00       28.00       28.00       28.00\n",
            "mean        14.93        9.04        6.35        3.68\n",
            "std          1.79        1.38        1.26        1.05\n",
            "min         11.42        6.52        4.26        2.02\n",
            "25%         13.67        7.95        5.51        3.08\n",
            "50%         14.96        8.86        6.18        3.42\n",
            "75%         16.02       10.39        7.03        3.92\n",
            "max         18.70       11.17        9.20        6.62\n",
            "\n",
            "Level-4\n",
            "       A2+percent  B1+percent  B2+percent  C1+percent\n",
            "count       29.00       29.00       29.00       29.00\n",
            "mean        13.58        8.31        6.12        2.89\n",
            "std          2.32        1.64        0.89        0.50\n",
            "min          8.51        5.53        4.30        2.10\n",
            "25%         11.94        7.22        5.46        2.50\n",
            "50%         13.01        7.73        5.86        2.79\n",
            "75%         15.94        9.50        6.73        3.20\n",
            "max         18.34       11.46        8.12        3.99\n",
            "\n"
          ]
        }
      ]
    },
    {
      "cell_type": "code",
      "source": [
        "title='Распределение %слов в зависимости от уровня сложности'\n",
        "ax = X.groupby(y).boxplot(subplots=False,\n",
        "                     fontsize=8,\n",
        "                     vert=False,\n",
        "                     grid =True,\n",
        "                     )\n",
        "ax.set_title(title)\n",
        "plt.show()"
      ],
      "metadata": {
        "id": "Ue5DzyJNVa9h",
        "outputId": "52c8597e-fcf9-403e-dc40-aee35619bcdb",
        "colab": {
          "base_uri": "https://localhost:8080/",
          "height": 448
        }
      },
      "execution_count": null,
      "outputs": [
        {
          "output_type": "display_data",
          "data": {
            "text/plain": [
              "<Figure size 640x480 with 1 Axes>"
            ],
            "image/png": "[encoded data removed]"
          },
          "metadata": {}
        }
      ]
    },
    {
      "cell_type": "markdown",
      "source": [
        "Распределение уровня сложности слов почти не зависит от уровня сложности субтитров"
      ],
      "metadata": {
        "id": "RKvVng797_UK"
      }
    },
    {
      "cell_type": "markdown",
      "source": [
        "##Выбор модели"
      ],
      "metadata": {
        "id": "KYRd9XIW26Ct"
      }
    },
    {
      "cell_type": "markdown",
      "source": [
        "###Выбор метрики качества\n",
        "В связи с тем, что:в данных обнаружен дисбаланс классов;\n",
        "в текущей задаче является важным как точность ('precision') так и полнота ('recall') предсказания модели;\n",
        "лучшей метрикой для подгонки и оценки модели принимается средне-гармоническое точности и полноты - F1-мера. Для мультиклассификации будет использована взвешенная F1-мера (F1_weighted)."
      ],
      "metadata": {
        "id": "HTPWn1o49bLB"
      }
    },
    {
      "cell_type": "markdown",
      "source": [
        "### Создание пайплана"
      ],
      "metadata": {
        "id": "NwHcxZBw2dN4"
      }
    },
    {
      "cell_type": "code",
      "source": [
        "report = pd.DataFrame(columns = ['model',\n",
        "                                 'classificator',\n",
        "                                 'vectorizer',\n",
        "                                 'hparams',\n",
        "                                 'F1 score'\n",
        "                                 ])"
      ],
      "metadata": {
        "id": "fdnUSb1XRpsi"
      },
      "execution_count": null,
      "outputs": []
    },
    {
      "cell_type": "code",
      "source": [
        "a2 =  Pipeline([\n",
        "                ('selector', NumberSelector(key='A2+percent')),\n",
        "                ('standard', MinMaxScaler())\n",
        "            ])\n",
        "b1 =  Pipeline([\n",
        "                ('selector', NumberSelector(key='B1+percent')),\n",
        "                ('standard', MinMaxScaler())\n",
        "            ])\n",
        "b2 =  Pipeline([\n",
        "                ('selector', NumberSelector(key='B2+percent')),\n",
        "                ('standard', MinMaxScaler())\n",
        "            ])\n",
        "c1 =  Pipeline([\n",
        "                ('selector', NumberSelector(key='C1+percent')),\n",
        "                ('standard', MinMaxScaler())\n",
        "            ])"
      ],
      "metadata": {
        "id": "AcOFG_8TpCz9"
      },
      "execution_count": null,
      "outputs": []
    },
    {
      "cell_type": "code",
      "source": [
        "vects = [[('vec', CountVectorizer(stop_words='english')),\n",
        "          {\n",
        "           'features__text__vec__ngram_range': [(1,2),(2,2),(1,3)],\n",
        "           'features__text__vec__min_df': [2,3,4]\n",
        "           }\n",
        "          ],\n",
        "         [('vec', TfidfVectorizer(stop_words='english')),\n",
        "{\n",
        "           'features__text__vec__ngram_range': [(1,2),(2,2),(1,3)],\n",
        "           'features__text__vec__min_df': [2,3,4]\n",
        "           }\n",
        "          ]]\n",
        "\n",
        "clfs = [[SGDClassifier(random_state=STATE),\n",
        "         {'classifier__alpha': [0.001, 0.01, 0.1]}\n",
        "         ],\n",
        "          [MultinomialNB(),\n",
        "           {'classifier__alpha': [0.5, 1]}\n",
        "         ]]"
      ],
      "metadata": {
        "id": "5awwOEYOI4fF"
      },
      "execution_count": null,
      "outputs": []
    },
    {
      "cell_type": "markdown",
      "source": [
        "###Обучение моделей"
      ],
      "metadata": {
        "id": "3-_GGdSy2yHr"
      }
    },
    {
      "cell_type": "code",
      "source": [
        "%%time\n",
        "stratified_shuffle_split = StratifiedShuffleSplit(n_splits=6,\n",
        "                                                  test_size=0.25,\n",
        "                                                  random_state=STATE)\n",
        "for vec in vects:\n",
        "  vecpipe = Pipeline([('selector', TextSelector(key='subs')),\n",
        "                      vec[0]\n",
        "                      ])\n",
        "  vecpipe.fit_transform(X)\n",
        "  featscountvector = FeatureUnion([('text', vecpipe),\n",
        "                      ('A2+percent', a2),\n",
        "                      ('B1+percent', b1),\n",
        "                      ('B2+percent', b2),\n",
        "                      ('C1+percent', c1),\n",
        "                        ])\n",
        "\n",
        "  feature_processing = Pipeline([('feats', featscountvector)])\n",
        "  feature_processing.fit_transform(X)\n",
        "\n",
        "  for clf in clfs:\n",
        "    clfpipeline = Pipeline([\n",
        "        ('features', featscountvector),\n",
        "        ('classifier', clf[0]),\n",
        "    ])\n",
        "    hyperparameters = vec[1]|clf[1]\n",
        "    clfpipegridcv = GridSearchCV(clfpipeline,\n",
        "                                hyperparameters,\n",
        "                                cv=stratified_shuffle_split,\n",
        "                                scoring='f1_weighted'\n",
        "                                )\n",
        "    clfpipegridcv.fit(X, y)\n",
        "    report.loc[len(report)]=[clfpipegridcv.best_estimator_,\n",
        "                             str(clf[0]),\n",
        "                             str(vec[0]),\n",
        "                             str(clfpipegridcv.best_params_),\n",
        "                             clfpipegridcv.best_score_\n",
        "                             ]\n",
        "report = report.sort_values(by='F1 score',ascending=False)\n",
        "report.reset_index(drop= True , inplace= True )\n",
        "report"
      ],
      "metadata": {
        "colab": {
          "base_uri": "https://localhost:8080/",
          "height": 212
        },
        "id": "o_EVmf3HeOWQ",
        "outputId": "c8553b72-5ee2-45a3-e594-7baf862d4e1b"
      },
      "execution_count": null,
      "outputs": [
        {
          "output_type": "stream",
          "name": "stdout",
          "text": [
            "CPU times: user 17min 56s, sys: 32.1 s, total: 18min 28s\n",
            "Wall time: 18min 7s\n"
          ]
        },
        {
          "output_type": "execute_result",
          "data": {
            "text/plain": [
              "                                               model  \\\n",
              "0  (FeatureUnion(transformer_list=[('text',\\n    ...   \n",
              "1  (FeatureUnion(transformer_list=[('text',\\n    ...   \n",
              "2  (FeatureUnion(transformer_list=[('text',\\n    ...   \n",
              "3  (FeatureUnion(transformer_list=[('text',\\n    ...   \n",
              "\n",
              "                   classificator  \\\n",
              "0                MultinomialNB()   \n",
              "1  SGDClassifier(random_state=0)   \n",
              "2  SGDClassifier(random_state=0)   \n",
              "3                MultinomialNB()   \n",
              "\n",
              "                                       vectorizer  \\\n",
              "0  ('vec', CountVectorizer(stop_words='english'))   \n",
              "1  ('vec', TfidfVectorizer(stop_words='english'))   \n",
              "2  ('vec', CountVectorizer(stop_words='english'))   \n",
              "3  ('vec', TfidfVectorizer(stop_words='english'))   \n",
              "\n",
              "                                             hparams  F1 score  \n",
              "0  {'classifier__alpha': 1, 'features__text__vec_...  0.615158  \n",
              "1  {'classifier__alpha': 0.01, 'features__text__v...  0.576102  \n",
              "2  {'classifier__alpha': 0.1, 'features__text__ve...  0.544789  \n",
              "3  {'classifier__alpha': 0.5, 'features__text__ve...  0.421534  "
            ],
            "text/html": [
              "\n",
              "  <div id=\"df-220ccad8-dc89-414f-ba34-cb38dbd721f2\">\n",
              "    <div class=\"colab-df-container\">\n",
              "      <div>\n",
              "<style scoped>\n",
              "    .dataframe tbody tr th:only-of-type {\n",
              "        vertical-align: middle;\n",
              "    }\n",
              "\n",
              "    .dataframe tbody tr th {\n",
              "        vertical-align: top;\n",
              "    }\n",
              "\n",
              "    .dataframe thead th {\n",
              "        text-align: right;\n",
              "    }\n",
              "</style>\n",
              "<table border=\"1\" class=\"dataframe\">\n",
              "  <thead>\n",
              "    <tr style=\"text-align: right;\">\n",
              "      <th></th>\n",
              "      <th>model</th>\n",
              "      <th>classificator</th>\n",
              "      <th>vectorizer</th>\n",
              "      <th>hparams</th>\n",
              "      <th>F1 score</th>\n",
              "    </tr>\n",
              "  </thead>\n",
              "  <tbody>\n",
              "    <tr>\n",
              "      <th>0</th>\n",
              "      <td>(FeatureUnion(transformer_list=[('text',\\n    ...</td>\n",
              "      <td>MultinomialNB()</td>\n",
              "      <td>('vec', CountVectorizer(stop_words='english'))</td>\n",
              "      <td>{'classifier__alpha': 1, 'features__text__vec_...</td>\n",
              "      <td>0.615158</td>\n",
              "    </tr>\n",
              "    <tr>\n",
              "      <th>1</th>\n",
              "      <td>(FeatureUnion(transformer_list=[('text',\\n    ...</td>\n",
              "      <td>SGDClassifier(random_state=0)</td>\n",
              "      <td>('vec', TfidfVectorizer(stop_words='english'))</td>\n",
              "      <td>{'classifier__alpha': 0.01, 'features__text__v...</td>\n",
              "      <td>0.576102</td>\n",
              "    </tr>\n",
              "    <tr>\n",
              "      <th>2</th>\n",
              "      <td>(FeatureUnion(transformer_list=[('text',\\n    ...</td>\n",
              "      <td>SGDClassifier(random_state=0)</td>\n",
              "      <td>('vec', CountVectorizer(stop_words='english'))</td>\n",
              "      <td>{'classifier__alpha': 0.1, 'features__text__ve...</td>\n",
              "      <td>0.544789</td>\n",
              "    </tr>\n",
              "    <tr>\n",
              "      <th>3</th>\n",
              "      <td>(FeatureUnion(transformer_list=[('text',\\n    ...</td>\n",
              "      <td>MultinomialNB()</td>\n",
              "      <td>('vec', TfidfVectorizer(stop_words='english'))</td>\n",
              "      <td>{'classifier__alpha': 0.5, 'features__text__ve...</td>\n",
              "      <td>0.421534</td>\n",
              "    </tr>\n",
              "  </tbody>\n",
              "</table>\n",
              "</div>\n",
              "      <button class=\"colab-df-convert\" onclick=\"convertToInteractive('df-220ccad8-dc89-414f-ba34-cb38dbd721f2')\"\n",
              "              title=\"Convert this dataframe to an interactive table.\"\n",
              "              style=\"display:none;\">\n",
              "        \n",
              "  <svg xmlns=\"http://www.w3.org/2000/svg\" height=\"24px\"viewBox=\"0 0 24 24\"\n",
              "       width=\"24px\">\n",
              "    <path d=\"M0 0h24v24H0V0z\" fill=\"none\"/>\n",
              "    <path d=\"M18.56 5.44l.94 2.06.94-2.06 2.06-.94-2.06-.94-.94-2.06-.94 2.06-2.06.94zm-11 1L8.5 8.5l.94-2.06 2.06-.94-2.06-.94L8.5 2.5l-.94 2.06-2.06.94zm10 10l.94 2.06.94-2.06 2.06-.94-2.06-.94-.94-2.06-.94 2.06-2.06.94z\"/><path d=\"M17.41 7.96l-1.37-1.37c-.4-.4-.92-.59-1.43-.59-.52 0-1.04.2-1.43.59L10.3 9.45l-7.72 7.72c-.78.78-.78 2.05 0 2.83L4 21.41c.39.39.9.59 1.41.59.51 0 1.02-.2 1.41-.59l7.78-7.78 2.81-2.81c.8-.78.8-2.07 0-2.86zM5.41 20L4 18.59l7.72-7.72 1.47 1.35L5.41 20z\"/>\n",
              "  </svg>\n",
              "      </button>\n",
              "      \n",
              "  <style>\n",
              "    .colab-df-container {\n",
              "      display:flex;\n",
              "      flex-wrap:wrap;\n",
              "      gap: 12px;\n",
              "    }\n",
              "\n",
              "    .colab-df-convert {\n",
              "      background-color: #E8F0FE;\n",
              "      border: none;\n",
              "      border-radius: 50%;\n",
              "      cursor: pointer;\n",
              "      display: none;\n",
              "      fill: #1967D2;\n",
              "      height: 32px;\n",
              "      padding: 0 0 0 0;\n",
              "      width: 32px;\n",
              "    }\n",
              "\n",
              "    .colab-df-convert:hover {\n",
              "      background-color: #E2EBFA;\n",
              "      box-shadow: 0px 1px 2px rgba(60, 64, 67, 0.3), 0px 1px 3px 1px rgba(60, 64, 67, 0.15);\n",
              "      fill: #174EA6;\n",
              "    }\n",
              "\n",
              "    [theme=dark] .colab-df-convert {\n",
              "      background-color: #3B4455;\n",
              "      fill: #D2E3FC;\n",
              "    }\n",
              "\n",
              "    [theme=dark] .colab-df-convert:hover {\n",
              "      background-color: #434B5C;\n",
              "      box-shadow: 0px 1px 3px 1px rgba(0, 0, 0, 0.15);\n",
              "      filter: drop-shadow(0px 1px 2px rgba(0, 0, 0, 0.3));\n",
              "      fill: #FFFFFF;\n",
              "    }\n",
              "  </style>\n",
              "\n",
              "      <script>\n",
              "        const buttonEl =\n",
              "          document.querySelector('#df-220ccad8-dc89-414f-ba34-cb38dbd721f2 button.colab-df-convert');\n",
              "        buttonEl.style.display =\n",
              "          google.colab.kernel.accessAllowed ? 'block' : 'none';\n",
              "\n",
              "        async function convertToInteractive(key) {\n",
              "          const element = document.querySelector('#df-220ccad8-dc89-414f-ba34-cb38dbd721f2');\n",
              "          const dataTable =\n",
              "            await google.colab.kernel.invokeFunction('convertToInteractive',\n",
              "                                                     [key], {});\n",
              "          if (!dataTable) return;\n",
              "\n",
              "          const docLinkHtml = 'Like what you see? Visit the ' +\n",
              "            '<a target=\"_blank\" href=https://colab.research.google.com/notebooks/data_table.ipynb>data table notebook</a>'\n",
              "            + ' to learn more about interactive tables.';\n",
              "          element.innerHTML = '';\n",
              "          dataTable['output_type'] = 'display_data';\n",
              "          await google.colab.output.renderOutput(dataTable, element);\n",
              "          const docLink = document.createElement('div');\n",
              "          docLink.innerHTML = docLinkHtml;\n",
              "          element.appendChild(docLink);\n",
              "        }\n",
              "      </script>\n",
              "    </div>\n",
              "  </div>\n",
              "  "
            ]
          },
          "metadata": {},
          "execution_count": 28
        }
      ]
    },
    {
      "cell_type": "code",
      "source": [
        "#выбираем и обучаем лучшую модель на всем наборе данных\n",
        "clf = report['model'].loc[0]\n",
        "clf.fit(X, y)"
      ],
      "metadata": {
        "colab": {
          "base_uri": "https://localhost:8080/",
          "height": 221
        },
        "id": "xp17x2CIo1C0",
        "outputId": "a660a9ad-70ff-431a-b415-7d738a0f199d"
      },
      "execution_count": null,
      "outputs": [
        {
          "output_type": "execute_result",
          "data": {
            "text/plain": [
              "Pipeline(steps=[('features',\n",
              "                 FeatureUnion(transformer_list=[('text',\n",
              "                                                 Pipeline(steps=[('selector',\n",
              "                                                                  TextSelector(key='subs')),\n",
              "                                                                 ('vec',\n",
              "                                                                  CountVectorizer(min_df=3,\n",
              "                                                                                  ngram_range=(1,\n",
              "                                                                                               3),\n",
              "                                                                                  stop_words='english'))])),\n",
              "                                                ('A2+percent',\n",
              "                                                 Pipeline(steps=[('selector',\n",
              "                                                                  NumberSelector(key='A2+percent')),\n",
              "                                                                 ('standard',\n",
              "                                                                  MinMaxScaler())])),\n",
              "                                                ('B1+percent',\n",
              "                                                 Pipeline(steps=[('selector',\n",
              "                                                                  NumberSelector(key='B1+percent')),\n",
              "                                                                 ('standard',\n",
              "                                                                  MinMaxScaler())])),\n",
              "                                                ('B2+percent',\n",
              "                                                 Pipeline(steps=[('selector',\n",
              "                                                                  NumberSelector(key='B2+percent')),\n",
              "                                                                 ('standard',\n",
              "                                                                  MinMaxScaler())])),\n",
              "                                                ('C1+percent',\n",
              "                                                 Pipeline(steps=[('selector',\n",
              "                                                                  NumberSelector(key='C1+percent')),\n",
              "                                                                 ('standard',\n",
              "                                                                  MinMaxScaler())]))])),\n",
              "                ('classifier', MultinomialNB(alpha=1))])"
            ],
            "text/html": [
              "<style>#sk-container-id-1 {color: black;background-color: white;}#sk-container-id-1 pre{padding: 0;}#sk-container-id-1 div.sk-toggleable {background-color: white;}#sk-container-id-1 label.sk-toggleable__label {cursor: pointer;display: block;width: 100%;margin-bottom: 0;padding: 0.3em;box-sizing: border-box;text-align: center;}#sk-container-id-1 label.sk-toggleable__label-arrow:before {content: \"▸\";float: left;margin-right: 0.25em;color: #696969;}#sk-container-id-1 label.sk-toggleable__label-arrow:hover:before {color: black;}#sk-container-id-1 div.sk-estimator:hover label.sk-toggleable__label-arrow:before {color: black;}#sk-container-id-1 div.sk-toggleable__content {max-height: 0;max-width: 0;overflow: hidden;text-align: left;background-color: #f0f8ff;}#sk-container-id-1 div.sk-toggleable__content pre {margin: 0.2em;color: black;border-radius: 0.25em;background-color: #f0f8ff;}#sk-container-id-1 input.sk-toggleable__control:checked~div.sk-toggleable__content {max-height: 200px;max-width: 100%;overflow: auto;}#sk-container-id-1 input.sk-toggleable__control:checked~label.sk-toggleable__label-arrow:before {content: \"▾\";}#sk-container-id-1 div.sk-estimator input.sk-toggleable__control:checked~label.sk-toggleable__label {background-color: #d4ebff;}#sk-container-id-1 div.sk-label input.sk-toggleable__control:checked~label.sk-toggleable__label {background-color: #d4ebff;}#sk-container-id-1 input.sk-hidden--visually {border: 0;clip: rect(1px 1px 1px 1px);clip: rect(1px, 1px, 1px, 1px);height: 1px;margin: -1px;overflow: hidden;padding: 0;position: absolute;width: 1px;}#sk-container-id-1 div.sk-estimator {font-family: monospace;background-color: #f0f8ff;border: 1px dotted black;border-radius: 0.25em;box-sizing: border-box;margin-bottom: 0.5em;}#sk-container-id-1 div.sk-estimator:hover {background-color: #d4ebff;}#sk-container-id-1 div.sk-parallel-item::after {content: \"\";width: 100%;border-bottom: 1px solid gray;flex-grow: 1;}#sk-container-id-1 div.sk-label:hover label.sk-toggleable__label {background-color: #d4ebff;}#sk-container-id-1 div.sk-serial::before {content: \"\";position: absolute;border-left: 1px solid gray;box-sizing: border-box;top: 0;bottom: 0;left: 50%;z-index: 0;}#sk-container-id-1 div.sk-serial {display: flex;flex-direction: column;align-items: center;background-color: white;padding-right: 0.2em;padding-left: 0.2em;position: relative;}#sk-container-id-1 div.sk-item {position: relative;z-index: 1;}#sk-container-id-1 div.sk-parallel {display: flex;align-items: stretch;justify-content: center;background-color: white;position: relative;}#sk-container-id-1 div.sk-item::before, #sk-container-id-1 div.sk-parallel-item::before {content: \"\";position: absolute;border-left: 1px solid gray;box-sizing: border-box;top: 0;bottom: 0;left: 50%;z-index: -1;}#sk-container-id-1 div.sk-parallel-item {display: flex;flex-direction: column;z-index: 1;position: relative;background-color: white;}#sk-container-id-1 div.sk-parallel-item:first-child::after {align-self: flex-end;width: 50%;}#sk-container-id-1 div.sk-parallel-item:last-child::after {align-self: flex-start;width: 50%;}#sk-container-id-1 div.sk-parallel-item:only-child::after {width: 0;}#sk-container-id-1 div.sk-dashed-wrapped {border: 1px dashed gray;margin: 0 0.4em 0.5em 0.4em;box-sizing: border-box;padding-bottom: 0.4em;background-color: white;}#sk-container-id-1 div.sk-label label {font-family: monospace;font-weight: bold;display: inline-block;line-height: 1.2em;}#sk-container-id-1 div.sk-label-container {text-align: center;}#sk-container-id-1 div.sk-container {/* jupyter's `normalize.less` sets `[hidden] { display: none; }` but bootstrap.min.css set `[hidden] { display: none !important; }` so we also need the `!important` here to be able to override the default hidden behavior on the sphinx rendered scikit-learn.org. See: https://github.com/scikit-learn/scikit-learn/issues/21755 */display: inline-block !important;position: relative;}#sk-container-id-1 div.sk-text-repr-fallback {display: none;}</style><div id=\"sk-container-id-1\" class=\"sk-top-container\"><div class=\"sk-text-repr-fallback\"><pre>Pipeline(steps=[(&#x27;features&#x27;,\n",
              "                 FeatureUnion(transformer_list=[(&#x27;text&#x27;,\n",
              "                                                 Pipeline(steps=[(&#x27;selector&#x27;,\n",
              "                                                                  TextSelector(key=&#x27;subs&#x27;)),\n",
              "                                                                 (&#x27;vec&#x27;,\n",
              "                                                                  CountVectorizer(min_df=3,\n",
              "                                                                                  ngram_range=(1,\n",
              "                                                                                               3),\n",
              "                                                                                  stop_words=&#x27;english&#x27;))])),\n",
              "                                                (&#x27;A2+percent&#x27;,\n",
              "                                                 Pipeline(steps=[(&#x27;selector&#x27;,\n",
              "                                                                  NumberSelector(key=&#x27;A2+percent&#x27;)),\n",
              "                                                                 (&#x27;standard&#x27;,\n",
              "                                                                  MinMaxScaler())])),\n",
              "                                                (&#x27;B1+percent&#x27;,\n",
              "                                                 Pipeline(steps=[(&#x27;selector&#x27;,\n",
              "                                                                  NumberSelector(key=&#x27;B1+percent&#x27;)),\n",
              "                                                                 (&#x27;standard&#x27;,\n",
              "                                                                  MinMaxScaler())])),\n",
              "                                                (&#x27;B2+percent&#x27;,\n",
              "                                                 Pipeline(steps=[(&#x27;selector&#x27;,\n",
              "                                                                  NumberSelector(key=&#x27;B2+percent&#x27;)),\n",
              "                                                                 (&#x27;standard&#x27;,\n",
              "                                                                  MinMaxScaler())])),\n",
              "                                                (&#x27;C1+percent&#x27;,\n",
              "                                                 Pipeline(steps=[(&#x27;selector&#x27;,\n",
              "                                                                  NumberSelector(key=&#x27;C1+percent&#x27;)),\n",
              "                                                                 (&#x27;standard&#x27;,\n",
              "                                                                  MinMaxScaler())]))])),\n",
              "                (&#x27;classifier&#x27;, MultinomialNB(alpha=1))])</pre><b>In a Jupyter environment, please rerun this cell to show the HTML representation or trust the notebook. <br />On GitHub, the HTML representation is unable to render, please try loading this page with nbviewer.org.</b></div><div class=\"sk-container\" hidden><div class=\"sk-item sk-dashed-wrapped\"><div class=\"sk-label-container\"><div class=\"sk-label sk-toggleable\"><input class=\"sk-toggleable__control sk-hidden--visually\" id=\"sk-estimator-id-1\" type=\"checkbox\" ><label for=\"sk-estimator-id-1\" class=\"sk-toggleable__label sk-toggleable__label-arrow\">Pipeline</label><div class=\"sk-toggleable__content\"><pre>Pipeline(steps=[(&#x27;features&#x27;,\n",
              "                 FeatureUnion(transformer_list=[(&#x27;text&#x27;,\n",
              "                                                 Pipeline(steps=[(&#x27;selector&#x27;,\n",
              "                                                                  TextSelector(key=&#x27;subs&#x27;)),\n",
              "                                                                 (&#x27;vec&#x27;,\n",
              "                                                                  CountVectorizer(min_df=3,\n",
              "                                                                                  ngram_range=(1,\n",
              "                                                                                               3),\n",
              "                                                                                  stop_words=&#x27;english&#x27;))])),\n",
              "                                                (&#x27;A2+percent&#x27;,\n",
              "                                                 Pipeline(steps=[(&#x27;selector&#x27;,\n",
              "                                                                  NumberSelector(key=&#x27;A2+percent&#x27;)),\n",
              "                                                                 (&#x27;standard&#x27;,\n",
              "                                                                  MinMaxScaler())])),\n",
              "                                                (&#x27;B1+percent&#x27;,\n",
              "                                                 Pipeline(steps=[(&#x27;selector&#x27;,\n",
              "                                                                  NumberSelector(key=&#x27;B1+percent&#x27;)),\n",
              "                                                                 (&#x27;standard&#x27;,\n",
              "                                                                  MinMaxScaler())])),\n",
              "                                                (&#x27;B2+percent&#x27;,\n",
              "                                                 Pipeline(steps=[(&#x27;selector&#x27;,\n",
              "                                                                  NumberSelector(key=&#x27;B2+percent&#x27;)),\n",
              "                                                                 (&#x27;standard&#x27;,\n",
              "                                                                  MinMaxScaler())])),\n",
              "                                                (&#x27;C1+percent&#x27;,\n",
              "                                                 Pipeline(steps=[(&#x27;selector&#x27;,\n",
              "                                                                  NumberSelector(key=&#x27;C1+percent&#x27;)),\n",
              "                                                                 (&#x27;standard&#x27;,\n",
              "                                                                  MinMaxScaler())]))])),\n",
              "                (&#x27;classifier&#x27;, MultinomialNB(alpha=1))])</pre></div></div></div><div class=\"sk-serial\"><div class=\"sk-item sk-dashed-wrapped\"><div class=\"sk-label-container\"><div class=\"sk-label sk-toggleable\"><input class=\"sk-toggleable__control sk-hidden--visually\" id=\"sk-estimator-id-2\" type=\"checkbox\" ><label for=\"sk-estimator-id-2\" class=\"sk-toggleable__label sk-toggleable__label-arrow\">features: FeatureUnion</label><div class=\"sk-toggleable__content\"><pre>FeatureUnion(transformer_list=[(&#x27;text&#x27;,\n",
              "                                Pipeline(steps=[(&#x27;selector&#x27;,\n",
              "                                                 TextSelector(key=&#x27;subs&#x27;)),\n",
              "                                                (&#x27;vec&#x27;,\n",
              "                                                 CountVectorizer(min_df=3,\n",
              "                                                                 ngram_range=(1,\n",
              "                                                                              3),\n",
              "                                                                 stop_words=&#x27;english&#x27;))])),\n",
              "                               (&#x27;A2+percent&#x27;,\n",
              "                                Pipeline(steps=[(&#x27;selector&#x27;,\n",
              "                                                 NumberSelector(key=&#x27;A2+percent&#x27;)),\n",
              "                                                (&#x27;standard&#x27;, MinMaxScaler())])),\n",
              "                               (&#x27;B1+percent&#x27;,\n",
              "                                Pipeline(steps=[(&#x27;selector&#x27;,\n",
              "                                                 NumberSelector(key=&#x27;B1+percent&#x27;)),\n",
              "                                                (&#x27;standard&#x27;, MinMaxScaler())])),\n",
              "                               (&#x27;B2+percent&#x27;,\n",
              "                                Pipeline(steps=[(&#x27;selector&#x27;,\n",
              "                                                 NumberSelector(key=&#x27;B2+percent&#x27;)),\n",
              "                                                (&#x27;standard&#x27;, MinMaxScaler())])),\n",
              "                               (&#x27;C1+percent&#x27;,\n",
              "                                Pipeline(steps=[(&#x27;selector&#x27;,\n",
              "                                                 NumberSelector(key=&#x27;C1+percent&#x27;)),\n",
              "                                                (&#x27;standard&#x27;,\n",
              "                                                 MinMaxScaler())]))])</pre></div></div></div><div class=\"sk-parallel\"><div class=\"sk-parallel-item\"><div class=\"sk-item\"><div class=\"sk-label-container\"><div class=\"sk-label sk-toggleable\"><label>text</label></div></div><div class=\"sk-serial\"><div class=\"sk-item\"><div class=\"sk-serial\"><div class=\"sk-item\"><div class=\"sk-estimator sk-toggleable\"><input class=\"sk-toggleable__control sk-hidden--visually\" id=\"sk-estimator-id-3\" type=\"checkbox\" ><label for=\"sk-estimator-id-3\" class=\"sk-toggleable__label sk-toggleable__label-arrow\">TextSelector</label><div class=\"sk-toggleable__content\"><pre>TextSelector(key=&#x27;subs&#x27;)</pre></div></div></div><div class=\"sk-item\"><div class=\"sk-estimator sk-toggleable\"><input class=\"sk-toggleable__control sk-hidden--visually\" id=\"sk-estimator-id-4\" type=\"checkbox\" ><label for=\"sk-estimator-id-4\" class=\"sk-toggleable__label sk-toggleable__label-arrow\">CountVectorizer</label><div class=\"sk-toggleable__content\"><pre>CountVectorizer(min_df=3, ngram_range=(1, 3), stop_words=&#x27;english&#x27;)</pre></div></div></div></div></div></div></div></div><div class=\"sk-parallel-item\"><div class=\"sk-item\"><div class=\"sk-label-container\"><div class=\"sk-label sk-toggleable\"><label>A2+percent</label></div></div><div class=\"sk-serial\"><div class=\"sk-item\"><div class=\"sk-serial\"><div class=\"sk-item\"><div class=\"sk-estimator sk-toggleable\"><input class=\"sk-toggleable__control sk-hidden--visually\" id=\"sk-estimator-id-5\" type=\"checkbox\" ><label for=\"sk-estimator-id-5\" class=\"sk-toggleable__label sk-toggleable__label-arrow\">NumberSelector</label><div class=\"sk-toggleable__content\"><pre>NumberSelector(key=&#x27;A2+percent&#x27;)</pre></div></div></div><div class=\"sk-item\"><div class=\"sk-estimator sk-toggleable\"><input class=\"sk-toggleable__control sk-hidden--visually\" id=\"sk-estimator-id-6\" type=\"checkbox\" ><label for=\"sk-estimator-id-6\" class=\"sk-toggleable__label sk-toggleable__label-arrow\">MinMaxScaler</label><div class=\"sk-toggleable__content\"><pre>MinMaxScaler()</pre></div></div></div></div></div></div></div></div><div class=\"sk-parallel-item\"><div class=\"sk-item\"><div class=\"sk-label-container\"><div class=\"sk-label sk-toggleable\"><label>B1+percent</label></div></div><div class=\"sk-serial\"><div class=\"sk-item\"><div class=\"sk-serial\"><div class=\"sk-item\"><div class=\"sk-estimator sk-toggleable\"><input class=\"sk-toggleable__control sk-hidden--visually\" id=\"sk-estimator-id-7\" type=\"checkbox\" ><label for=\"sk-estimator-id-7\" class=\"sk-toggleable__label sk-toggleable__label-arrow\">NumberSelector</label><div class=\"sk-toggleable__content\"><pre>NumberSelector(key=&#x27;B1+percent&#x27;)</pre></div></div></div><div class=\"sk-item\"><div class=\"sk-estimator sk-toggleable\"><input class=\"sk-toggleable__control sk-hidden--visually\" id=\"sk-estimator-id-8\" type=\"checkbox\" ><label for=\"sk-estimator-id-8\" class=\"sk-toggleable__label sk-toggleable__label-arrow\">MinMaxScaler</label><div class=\"sk-toggleable__content\"><pre>MinMaxScaler()</pre></div></div></div></div></div></div></div></div><div class=\"sk-parallel-item\"><div class=\"sk-item\"><div class=\"sk-label-container\"><div class=\"sk-label sk-toggleable\"><label>B2+percent</label></div></div><div class=\"sk-serial\"><div class=\"sk-item\"><div class=\"sk-serial\"><div class=\"sk-item\"><div class=\"sk-estimator sk-toggleable\"><input class=\"sk-toggleable__control sk-hidden--visually\" id=\"sk-estimator-id-9\" type=\"checkbox\" ><label for=\"sk-estimator-id-9\" class=\"sk-toggleable__label sk-toggleable__label-arrow\">NumberSelector</label><div class=\"sk-toggleable__content\"><pre>NumberSelector(key=&#x27;B2+percent&#x27;)</pre></div></div></div><div class=\"sk-item\"><div class=\"sk-estimator sk-toggleable\"><input class=\"sk-toggleable__control sk-hidden--visually\" id=\"sk-estimator-id-10\" type=\"checkbox\" ><label for=\"sk-estimator-id-10\" class=\"sk-toggleable__label sk-toggleable__label-arrow\">MinMaxScaler</label><div class=\"sk-toggleable__content\"><pre>MinMaxScaler()</pre></div></div></div></div></div></div></div></div><div class=\"sk-parallel-item\"><div class=\"sk-item\"><div class=\"sk-label-container\"><div class=\"sk-label sk-toggleable\"><label>C1+percent</label></div></div><div class=\"sk-serial\"><div class=\"sk-item\"><div class=\"sk-serial\"><div class=\"sk-item\"><div class=\"sk-estimator sk-toggleable\"><input class=\"sk-toggleable__control sk-hidden--visually\" id=\"sk-estimator-id-11\" type=\"checkbox\" ><label for=\"sk-estimator-id-11\" class=\"sk-toggleable__label sk-toggleable__label-arrow\">NumberSelector</label><div class=\"sk-toggleable__content\"><pre>NumberSelector(key=&#x27;C1+percent&#x27;)</pre></div></div></div><div class=\"sk-item\"><div class=\"sk-estimator sk-toggleable\"><input class=\"sk-toggleable__control sk-hidden--visually\" id=\"sk-estimator-id-12\" type=\"checkbox\" ><label for=\"sk-estimator-id-12\" class=\"sk-toggleable__label sk-toggleable__label-arrow\">MinMaxScaler</label><div class=\"sk-toggleable__content\"><pre>MinMaxScaler()</pre></div></div></div></div></div></div></div></div></div></div><div class=\"sk-item\"><div class=\"sk-estimator sk-toggleable\"><input class=\"sk-toggleable__control sk-hidden--visually\" id=\"sk-estimator-id-13\" type=\"checkbox\" ><label for=\"sk-estimator-id-13\" class=\"sk-toggleable__label sk-toggleable__label-arrow\">MultinomialNB</label><div class=\"sk-toggleable__content\"><pre>MultinomialNB(alpha=1)</pre></div></div></div></div></div></div></div>"
            ]
          },
          "metadata": {},
          "execution_count": 29
        }
      ]
    },
    {
      "cell_type": "markdown",
      "source": [
        "##Оценка модели на тестовой  выборке"
      ],
      "metadata": {
        "id": "OA8KZZI-3I8S"
      }
    },
    {
      "cell_type": "code",
      "source": [
        "X_test['subs'] = X_test['subs'].apply(clean_subs)\n",
        "X_test.loc[:,levpercent] = X_test['subs'].apply(count_percent_words_dictionar).to_list()"
      ],
      "metadata": {
        "id": "uRGtEjyugCyj"
      },
      "execution_count": null,
      "outputs": []
    },
    {
      "cell_type": "code",
      "source": [
        "def plot_confusion_matrix(y_test, y_preds, model):\n",
        "  \"\"\"строит матрицу ошибок\"\"\"\n",
        "  fig, ax = plt.subplots(figsize=(10,10))\n",
        "  cm = confusion_matrix(y_test, y_preds)\n",
        "  cmp = ConfusionMatrixDisplay(cm, display_labels = model.classes_ )\n",
        "  cmp.plot(ax=ax)\n",
        "  plt.suptitle('Матрица ошибок', y=0.92)\n",
        "  plt.show()\n",
        "predictions =clf.predict(X_test)\n",
        "# выведем классификационную таблицу и матрицу ошибок\n",
        "print(classification_report(y_test, predictions))\n",
        "plot_confusion_matrix(y_test, predictions, clf)"
      ],
      "metadata": {
        "colab": {
          "base_uri": "https://localhost:8080/",
          "height": 1000
        },
        "id": "R7wB9eMznIu-",
        "outputId": "f0a6126c-4f4e-464c-dacc-7d1b9b2ee4e3"
      },
      "execution_count": null,
      "outputs": [
        {
          "output_type": "stream",
          "name": "stdout",
          "text": [
            "              precision    recall  f1-score   support\n",
            "\n",
            "           1       1.00      0.12      0.22         8\n",
            "           2       0.48      0.71      0.57        14\n",
            "           3       0.55      0.67      0.60         9\n",
            "           4       1.00      0.80      0.89        10\n",
            "\n",
            "    accuracy                           0.61        41\n",
            "   macro avg       0.76      0.58      0.57        41\n",
            "weighted avg       0.72      0.61      0.59        41\n",
            "\n"
          ]
        },
        {
          "output_type": "display_data",
          "data": {
            "text/plain": [
              "<Figure size 1000x1000 with 2 Axes>"
            ],
            "image/png": "[encoded data removed]"
          },
          "metadata": {}
        }
      ]
    },
    {
      "cell_type": "markdown",
      "source": [
        "###Выводы по результатам работы модели\n",
        "Из оценки классификатора на тестовой выборке можно сделать следующие выводы:\n",
        "\n",
        "Модель MultinomialNB() чаще всего ошибается на граничных метках.\n",
        "Взвешенная метрика F1-weighted на тестовой выборке составила 0.59."
      ],
      "metadata": {
        "id": "zYkZG8V86img"
      }
    },
    {
      "cell_type": "markdown",
      "source": [
        "##Выводы\n",
        "В ходе работы было выполнено:\n",
        "\n",
        "Загрузка необходимых библиотек;\n",
        "загрузка и ознакомление с данными (загружены субтитры, фильмы с метками уровня сложности, классический словарь Oxford с 5000 словами);\n",
        "предобработка данных (очистка от дубликатов, проверка наличия разметки для обучающих данных, определение исходного количества представленных данных, очитска текста субтитров, разбивка на обучающую и тестовую выборки);\n",
        "Выбора метода препроцессинг данных, а именно преобразование текство субтитров с компактную разреженную матрицу с помощью CountVectorizer,  TfidfVectorizer.\n",
        "Добавление дополнительных признаков- количество уникальных лемм (слов основной формы), содержащихся в каждом тексте субтитров согласно уровню сложности по классичесокму словарю Oxford;\n",
        "обоснование использования метрики качества F1-weighted;\n",
        "Выбор модели-классификатора MultinomialNB, SGDClassifier с побором гиперпараметров. Оценка модели на тестовой выборке."
      ],
      "metadata": {
        "id": "XZvMmfJh64JI"
      }
    },
    {
      "cell_type": "code",
      "source": [],
      "metadata": {
        "id": "QYCLhLBpzL_m"
      },
      "execution_count": null,
      "outputs": []
    }
  ]
}