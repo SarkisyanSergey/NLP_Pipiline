{
  "nbformat": 4,
  "nbformat_minor": 0,
  "metadata": {
    "colab": {
      "provenance": [],
      "include_colab_link": true
    },
    "kernelspec": {
      "name": "python3",
      "display_name": "Python 3"
    },
    "language_info": {
      "name": "python"
    }
  },
  "cells": [
    {
      "cell_type": "markdown",
      "metadata": {
        "id": "view-in-github",
        "colab_type": "text"
      },
      "source": [
        "<a href=\"https://colab.research.google.com/github/SarkisyanSergey/NLP_Pipiline/blob/main/NLP_PIPELINE.ipynb\" target=\"_parent\"><img src=\"https://colab.research.google.com/assets/colab-badge.svg\" alt=\"Open In Colab\"/></a>"
      ]
    },
    {
      "cell_type": "code",
      "execution_count": 1,
      "metadata": {
        "id": "MtS057fXx4x6"
      },
      "outputs": [],
      "source": [
        "%%capture\n",
        "# установим  пакеты\n",
        "!pip install pysrt\n",
        "!pip install spacy"
      ]
    },
    {
      "cell_type": "code",
      "source": [
        "# импортируем библиотеки\n",
        "import os\n",
        "import re\n",
        "\n",
        "import numpy as np\n",
        "import pandas as pd\n",
        "import matplotlib.pyplot as plt\n",
        "from sklearn.model_selection import (train_test_split,\n",
        "                                     StratifiedShuffleSplit,\n",
        "                                     GridSearchCV\n",
        "                                     )\n",
        "from sklearn.pipeline import (Pipeline,\n",
        "                              FeatureUnion\n",
        "                              )\n",
        "\n",
        "from sklearn.metrics import (classification_report,\n",
        "                             f1_score,\n",
        "                             confusion_matrix,\n",
        "                             ConfusionMatrixDisplay\n",
        "                             )\n",
        "from sklearn.compose import ColumnTransformer\n",
        "from sklearn.preprocessing import MinMaxScaler\n",
        "from sklearn.naive_bayes import MultinomialNB\n",
        "from sklearn.linear_model import SGDClassifier\n",
        "from sklearn.feature_extraction.text import (TfidfVectorizer,\n",
        "                                             CountVectorizer\n",
        "                                             )\n",
        "from sklearn.base import (BaseEstimator,\n",
        "                          TransformerMixin\n",
        "                          )\n",
        "import pysrt\n",
        "import spacy\n",
        "import nltk\n",
        "from nltk.corpus import stopwords\n",
        "\n",
        "import requests\n",
        "import urllib\n",
        "import json\n",
        "import zipfile\n",
        "from zipfile import ZipFile"
      ],
      "metadata": {
        "id": "w82swcw6x8ga"
      },
      "execution_count": 2,
      "outputs": []
    },
    {
      "cell_type": "code",
      "source": [
        "class TextSelector(BaseEstimator, TransformerMixin):\n",
        "    \"\"\"\n",
        "    Трансформер для выбора одного столбца для выполнения\n",
        "    дополнительных преобразований.\n",
        "    Использование в текстовых столбцах\n",
        "    \"\"\"\n",
        "    def __init__(self, key):\n",
        "        self.key = key\n",
        "\n",
        "    def fit(self, X, y=None):\n",
        "        return self\n",
        "\n",
        "    def transform(self, X):\n",
        "        return X[self.key]\n",
        "\n",
        "\n",
        "class NumberSelector(BaseEstimator, TransformerMixin):\n",
        "    \"\"\"\n",
        "    Трансформер для выбора одного столбца для выполнения\n",
        "    дополнительных преобразований.\n",
        "    Использование в числовых столбцах\n",
        "    \"\"\"\n",
        "    def __init__(self, key):\n",
        "        self.key = key\n",
        "\n",
        "    def fit(self, X, y=None):\n",
        "        return self\n",
        "\n",
        "    def transform(self, X):\n",
        "        return X[[self.key]]"
      ],
      "metadata": {
        "id": "37Ob2h78IN9_"
      },
      "execution_count": 3,
      "outputs": []
    },
    {
      "cell_type": "markdown",
      "source": [
        "##Загрузка данных"
      ],
      "metadata": {
        "id": "AiHI0EbwIGz6"
      }
    },
    {
      "cell_type": "markdown",
      "source": [
        "###Загружаем данные по фильмам"
      ],
      "metadata": {
        "id": "Ekgb6imsL3UA"
      }
    },
    {
      "cell_type": "code",
      "source": [
        "#Импортируем файлы с Google Диска в Colab\n",
        "from google.colab import drive\n",
        "drive.mount('/content/drive')"
      ],
      "metadata": {
        "colab": {
          "base_uri": "https://localhost:8080/"
        },
        "id": "zkbXe0uwywjz",
        "outputId": "66c085d7-2e94-40f7-9d34-b42ae6ba4e1a"
      },
      "execution_count": 4,
      "outputs": [
        {
          "output_type": "stream",
          "name": "stdout",
          "text": [
            "Mounted at /content/drive\n"
          ]
        }
      ]
    },
    {
      "cell_type": "code",
      "source": [
        "PATH = '/content/drive/My Drive/Colab Notebooks/datasets'\n",
        "path_to_zip_file = f'{PATH}/English_scores.zip'\n",
        "path_to_zip_file"
      ],
      "metadata": {
        "colab": {
          "base_uri": "https://localhost:8080/",
          "height": 36
        },
        "id": "0OzYY61-zPnX",
        "outputId": "cf6dfbb2-99e7-4232-b760-47dd61f11c2b"
      },
      "execution_count": 5,
      "outputs": [
        {
          "output_type": "execute_result",
          "data": {
            "text/plain": [
              "'/content/drive/My Drive/Colab Notebooks/datasets/English_scores.zip'"
            ],
            "application/vnd.google.colaboratory.intrinsic+json": {
              "type": "string"
            }
          },
          "metadata": {},
          "execution_count": 5
        }
      ]
    },
    {
      "cell_type": "code",
      "source": [
        "with ZipFile(path_to_zip_file, 'r') as zObject:\n",
        "  znm = zObject.namelist()\n",
        "print(znm)"
      ],
      "metadata": {
        "colab": {
          "base_uri": "https://localhost:8080/"
        },
        "id": "e-lGYMV7zmxk",
        "outputId": "ffe9ac99-6d59-43f8-ff02-4b6b68c9aecc"
      },
      "execution_count": 6,
      "outputs": [
        {
          "output_type": "stream",
          "name": "stdout",
          "text": [
            "['Subtitles_all/', '__MACOSX/._Subtitles_all', 'Subtitles_all/.DS_Store', '__MACOSX/Subtitles_all/._.DS_Store', 'Subtitles_all/B2/', '__MACOSX/Subtitles_all/._B2', 'Subtitles_all/A2/', '__MACOSX/Subtitles_all/._A2', 'Subtitles_all/C1/', '__MACOSX/Subtitles_all/._C1', 'Subtitles_all/B1/', '__MACOSX/Subtitles_all/._B1', 'Subtitles_all/Subtitles/', '__MACOSX/Subtitles_all/._Subtitles', 'Subtitles_all/B2/Crown, The S01E01 - Wolferton Splash.en.srt', '__MACOSX/Subtitles_all/B2/._Crown, The S01E01 - Wolferton Splash.en.srt', 'Subtitles_all/B2/Suits.Episode 1- Denial.srt', '__MACOSX/Subtitles_all/B2/._Suits.Episode 1- Denial.srt', 'Subtitles_all/B2/Crazy4TV.com - Suits.S06E06.720p.BluRay.x265.HEVC.Crazy4ad.srt', '__MACOSX/Subtitles_all/B2/._Crazy4TV.com - Suits.S06E06.720p.BluRay.x265.HEVC.Crazy4ad.srt', 'Subtitles_all/B2/Suits.S02E08.HDTV.x264-EVOLVE.srt', '__MACOSX/Subtitles_all/B2/._Suits.S02E08.HDTV.x264-EVOLVE.srt', 'Subtitles_all/B2/Virgin.River.S01E07.INTERNAL.720p.WEB.x264-STRiFE.srt', '__MACOSX/Subtitles_all/B2/._Virgin.River.S01E07.INTERNAL.720p.WEB.x264-STRiFE.srt', 'Subtitles_all/B2/Suits.S02E04.HDTV.x264-ASAP.srt', '__MACOSX/Subtitles_all/B2/._Suits.S02E04.HDTV.x264-ASAP.srt', 'Subtitles_all/B2/Suits.S02E09.HDTV.x264-ASAP.srt', '__MACOSX/Subtitles_all/B2/._Suits.S02E09.HDTV.x264-ASAP.srt', 'Subtitles_all/B2/Crazy4TV.com - Suits.S06E14.720p.BluRay.x265.HEVC.Crazy4ad.srt', '__MACOSX/Subtitles_all/B2/._Crazy4TV.com - Suits.S06E14.720p.BluRay.x265.HEVC.Crazy4ad.srt', 'Subtitles_all/B2/Suits.S02E14.HDTV.x264-ASAP.srt', '__MACOSX/Subtitles_all/B2/._Suits.S02E14.HDTV.x264-ASAP.srt', 'Subtitles_all/B2/Crown, The S01E04 - Act of God.en.SDH.srt', '__MACOSX/Subtitles_all/B2/._Crown, The S01E04 - Act of God.en.SDH.srt', 'Subtitles_all/B2/Suits.S01E09.1080p.BluRay.AAC5.1.x265-DTG.02.EN.srt', '__MACOSX/Subtitles_all/B2/._Suits.S01E09.1080p.BluRay.AAC5.1.x265-DTG.02.EN.srt', 'Subtitles_all/B2/Crown, The S01E05 - Smoke and Mirrors.en.srt', '__MACOSX/Subtitles_all/B2/._Crown, The S01E05 - Smoke and Mirrors.en.srt', 'Subtitles_all/B2/Crown, The S01E03 - Windsor.en.srt', '__MACOSX/Subtitles_all/B2/._Crown, The S01E03 - Windsor.en.srt', 'Subtitles_all/B2/Suits.Episode 11- Blowback.srt', '__MACOSX/Subtitles_all/B2/._Suits.Episode 11- Blowback.srt', 'Subtitles_all/B2/Crazy4TV.com - Suits.S06E12.720p.BluRay.x265.HEVC.Crazy4ad.srt', '__MACOSX/Subtitles_all/B2/._Crazy4TV.com - Suits.S06E12.720p.BluRay.x265.HEVC.Crazy4ad.srt', 'Subtitles_all/B2/Collateral.Beauty.2016.720p.BRRip.x264.AAC-ETRG.srt', '__MACOSX/Subtitles_all/B2/._Collateral.Beauty.2016.720p.BRRip.x264.AAC-ETRG.srt', 'Subtitles_all/B2/Crown, The S01E05 - Smoke and Mirrors.en.SDH.srt', '__MACOSX/Subtitles_all/B2/._Crown, The S01E05 - Smoke and Mirrors.en.SDH.srt', 'Subtitles_all/B2/Roman Holiday 1953 1080p WEBRip HEVC AAC.srt', '__MACOSX/Subtitles_all/B2/._Roman Holiday 1953 1080p WEBRip HEVC AAC.srt', 'Subtitles_all/B2/Suits.Episode 3- No Refills.srt', '__MACOSX/Subtitles_all/B2/._Suits.Episode 3- No Refills.srt', 'Subtitles_all/B2/Virgin.River.S01E05.INTERNAL.720p.WEB.x264-STRiFE.srt', '__MACOSX/Subtitles_all/B2/._Virgin.River.S01E05.INTERNAL.720p.WEB.x264-STRiFE.srt', 'Subtitles_all/B2/Suits.S02E13.REPACK.HDTV.x264-2HD.srt', '__MACOSX/Subtitles_all/B2/._Suits.S02E13.REPACK.HDTV.x264-2HD.srt', 'Subtitles_all/B2/icarus.2017.web.x264-strife.srt', '__MACOSX/Subtitles_all/B2/._icarus.2017.web.x264-strife.srt', 'Subtitles_all/B2/Crown, The S01E04 - Act of God.en.srt', '__MACOSX/Subtitles_all/B2/._Crown, The S01E04 - Act of God.en.srt', 'Subtitles_all/B2/Suits.Episode 16- 25th Hour.srt', '__MACOSX/Subtitles_all/B2/._Suits.Episode 16- 25th Hour.srt', 'Subtitles_all/B2/Crown, The S01E10 - Gloriana.en.srt', '__MACOSX/Subtitles_all/B2/._Crown, The S01E10 - Gloriana.en.srt', 'Subtitles_all/B2/Virgin.River.S01E08.INTERNAL.720p.WEB.x264-STRiFE.srt', '__MACOSX/Subtitles_all/B2/._Virgin.River.S01E08.INTERNAL.720p.WEB.x264-STRiFE.srt', 'Subtitles_all/B2/Suits.Episode 4- No Puedo Hacerlo.srt', '__MACOSX/Subtitles_all/B2/._Suits.Episode 4- No Puedo Hacerlo.srt', 'Subtitles_all/B2/Suits.Episode 14- Self Defense.srt', '__MACOSX/Subtitles_all/B2/._Suits.Episode 14- Self Defense.srt', 'Subtitles_all/B2/Crown, The S01E07 - Scientia Potentia Est.en.srt', '__MACOSX/Subtitles_all/B2/._Crown, The S01E07 - Scientia Potentia Est.en.srt', 'Subtitles_all/B2/Suits.S01E05.1080p.BluRay.AAC5.1.x265-DTG.02.EN.srt', '__MACOSX/Subtitles_all/B2/._Suits.S01E05.1080p.BluRay.AAC5.1.x265-DTG.02.EN.srt', 'Subtitles_all/B2/Crown, The S01E09 - Assassins.en.SDH.srt', '__MACOSX/Subtitles_all/B2/._Crown, The S01E09 - Assassins.en.SDH.srt', 'Subtitles_all/B2/Suits.S02E11.HDTV.x264-ASAP.srt', '__MACOSX/Subtitles_all/B2/._Suits.S02E11.HDTV.x264-ASAP.srt', 'Subtitles_all/B2/Suits.S01E06.1080p.BluRay.AAC5.1.x265-DTG.02.EN.srt', '__MACOSX/Subtitles_all/B2/._Suits.S01E06.1080p.BluRay.AAC5.1.x265-DTG.02.EN.srt', 'Subtitles_all/B2/Crazy4TV.com - Suits.S06E07.720p.BluRay.x265.HEVC.Crazy4ad.srt', '__MACOSX/Subtitles_all/B2/._Crazy4TV.com - Suits.S06E07.720p.BluRay.x265.HEVC.Crazy4ad.srt', \"Subtitles_all/B2/Suits.Episode 13- God's Green Earth.srt\", \"__MACOSX/Subtitles_all/B2/._Suits.Episode 13- God's Green Earth.srt\", 'Subtitles_all/B2/Virgin.River.S01E06.INTERNAL.720p.WEB.x264-STRiFE.srt', '__MACOSX/Subtitles_all/B2/._Virgin.River.S01E06.INTERNAL.720p.WEB.x264-STRiFE.srt', 'Subtitles_all/B2/Crazy4TV.com - Suits.S06E15.720p.BluRay.x265.HEVC.Crazy4ad.srt', '__MACOSX/Subtitles_all/B2/._Crazy4TV.com - Suits.S06E15.720p.BluRay.x265.HEVC.Crazy4ad.srt', \"Subtitles_all/B2/Angela's.Christmas.2018.WEBRip.Netflix.srt\", \"__MACOSX/Subtitles_all/B2/._Angela's.Christmas.2018.WEBRip.Netflix.srt\", 'Subtitles_all/B2/Suits.S02E02.HDTV.x264-ASAP.srt', '__MACOSX/Subtitles_all/B2/._Suits.S02E02.HDTV.x264-ASAP.srt', 'Subtitles_all/B2/Crazy4TV.com - Suits.S06E13.720p.BluRay.x265.HEVC.Crazy4ad.srt', '__MACOSX/Subtitles_all/B2/._Crazy4TV.com - Suits.S06E13.720p.BluRay.x265.HEVC.Crazy4ad.srt', 'Subtitles_all/B2/Virgin.River.S01E04.INTERNAL.720p.WEB.x264-STRiFE.srt', '__MACOSX/Subtitles_all/B2/._Virgin.River.S01E04.INTERNAL.720p.WEB.x264-STRiFE.srt', 'Subtitles_all/B2/Suits.S02E12.HDTV.x264-ASAP.srt', '__MACOSX/Subtitles_all/B2/._Suits.S02E12.HDTV.x264-ASAP.srt', 'Subtitles_all/B2/Crown, The S01E10 - Gloriana.en.FORCED.srt', '__MACOSX/Subtitles_all/B2/._Crown, The S01E10 - Gloriana.en.FORCED.srt', \"Subtitles_all/B2/Secrets Of Her Majesty's Secret Service eng.srt\", \"__MACOSX/Subtitles_all/B2/._Secrets Of Her Majesty's Secret Service eng.srt\", 'Subtitles_all/B2/Crazy4TV.com - Suits.S06E01.720p.BluRay.x265.HEVC.Crazy4ad.srt', '__MACOSX/Subtitles_all/B2/._Crazy4TV.com - Suits.S06E01.720p.BluRay.x265.HEVC.Crazy4ad.srt', 'Subtitles_all/B2/Suits.Episode 8- Mea Culpa.srt', '__MACOSX/Subtitles_all/B2/._Suits.Episode 8- Mea Culpa.srt', 'Subtitles_all/B2/Virgin.River.S01E09.INTERNAL.720p.WEB.x264-STRiFE.srt', '__MACOSX/Subtitles_all/B2/._Virgin.River.S01E09.INTERNAL.720p.WEB.x264-STRiFE.srt', 'Subtitles_all/B2/Crown, The S01E02 - Hyde Park Corner.en.SDH.srt', '__MACOSX/Subtitles_all/B2/._Crown, The S01E02 - Hyde Park Corner.en.SDH.srt', 'Subtitles_all/B2/Suits.S02E06.All.In.HDTV.x264-FQM.srt', '__MACOSX/Subtitles_all/B2/._Suits.S02E06.All.In.HDTV.x264-FQM.srt', 'Subtitles_all/B2/Suits.S02E07.Sucker.Punch.PROPER.HDTV.x264-FQM.srt', '__MACOSX/Subtitles_all/B2/._Suits.S02E07.Sucker.Punch.PROPER.HDTV.x264-FQM.srt', 'Subtitles_all/B2/Suits.S01E10.1080p.BluRay.AAC5.1.x265-DTG.02.EN.srt', '__MACOSX/Subtitles_all/B2/._Suits.S01E10.1080p.BluRay.AAC5.1.x265-DTG.02.EN.srt', 'Subtitles_all/B2/Suits.S01E03.1080p.BluRay.AAC5.1.x265-DTG.02.EN.srt', '__MACOSX/Subtitles_all/B2/._Suits.S01E03.1080p.BluRay.AAC5.1.x265-DTG.02.EN.srt', 'Subtitles_all/B2/Crown, The S01E02 - Hyde Park Corner.en.srt', '__MACOSX/Subtitles_all/B2/._Crown, The S01E02 - Hyde Park Corner.en.srt', 'Subtitles_all/B2/Suits.S01E02.1080p.BluRay.AAC5.1.x265-DTG.02.EN.srt', '__MACOSX/Subtitles_all/B2/._Suits.S01E02.1080p.BluRay.AAC5.1.x265-DTG.02.EN.srt', 'Subtitles_all/B2/Suits.S02E03.HDTV.x264-ASAP.srt', '__MACOSX/Subtitles_all/B2/._Suits.S02E03.HDTV.x264-ASAP.srt', 'Subtitles_all/B2/Crown, The S01E07 - Scientia Potentia Est.en.SDH.srt', '__MACOSX/Subtitles_all/B2/._Crown, The S01E07 - Scientia Potentia Est.en.SDH.srt', 'Subtitles_all/B2/Suits.S01E11.1080p.BluRay.AAC5.1.x265-DTG.02.EN.srt', '__MACOSX/Subtitles_all/B2/._Suits.S01E11.1080p.BluRay.AAC5.1.x265-DTG.02.EN.srt', 'Subtitles_all/B2/Suits.Episode 5- Toe to Toe.srt', '__MACOSX/Subtitles_all/B2/._Suits.Episode 5- Toe to Toe.srt', 'Subtitles_all/B2/Suits.Episode 12- Live to Fight.srt', '__MACOSX/Subtitles_all/B2/._Suits.Episode 12- Live to Fight.srt', 'Subtitles_all/B2/Crown, The S01E03 - Windsor.en.SDH.srt', '__MACOSX/Subtitles_all/B2/._Crown, The S01E03 - Windsor.en.SDH.srt', 'Subtitles_all/B2/Suits.S01E01.1080p.BluRay.AAC5.1.x265-DTG.02.EN.srt', '__MACOSX/Subtitles_all/B2/._Suits.S01E01.1080p.BluRay.AAC5.1.x265-DTG.02.EN.srt', 'Subtitles_all/B2/z srt23 uk-bun Gullivers.Travels.1939.720p.BluRay.x264-CiNEFiLE.srt', '__MACOSX/Subtitles_all/B2/._z srt23 uk-bun Gullivers.Travels.1939.720p.BluRay.x264-CiNEFiLE.srt', 'Subtitles_all/B2/Crazy4TV.com - Suits.S06E04.720p.BluRay.x265.HEVC.Crazy4ad.srt', '__MACOSX/Subtitles_all/B2/._Crazy4TV.com - Suits.S06E04.720p.BluRay.x265.HEVC.Crazy4ad.srt', 'Subtitles_all/B2/Suits.S01E12.1080p.BluRay.AAC5.1.x265-DTG.02.EN.srt', '__MACOSX/Subtitles_all/B2/._Suits.S01E12.1080p.BluRay.AAC5.1.x265-DTG.02.EN.srt', 'Subtitles_all/B2/Suits.S02E16.HDTV.x264-2HD.srt', '__MACOSX/Subtitles_all/B2/._Suits.S02E16.HDTV.x264-2HD.srt', 'Subtitles_all/B2/Crown, The S01E09 - Assassins.en.srt', '__MACOSX/Subtitles_all/B2/._Crown, The S01E09 - Assassins.en.srt', 'Subtitles_all/B2/Virgin.River.S01E02.INTERNAL.720p.WEB.x264-STRiFE.srt', '__MACOSX/Subtitles_all/B2/._Virgin.River.S01E02.INTERNAL.720p.WEB.x264-STRiFE.srt', 'Subtitles_all/B2/Crazy4TV.com - Suits.S06E16.720p.BluRay.x265.HEVC.Crazy4ad.srt', '__MACOSX/Subtitles_all/B2/._Crazy4TV.com - Suits.S06E16.720p.BluRay.x265.HEVC.Crazy4ad.srt', 'Subtitles_all/B2/Crazy4TV.com - Suits.S06E10.720p.BluRay.x265.HEVC.Crazy4ad.srt', '__MACOSX/Subtitles_all/B2/._Crazy4TV.com - Suits.S06E10.720p.BluRay.x265.HEVC.Crazy4ad.srt', 'Subtitles_all/B2/The.Sound.of.Music.1965.WEBRip.iTunes.srt', '__MACOSX/Subtitles_all/B2/._The.Sound.of.Music.1965.WEBRip.iTunes.srt', 'Subtitles_all/B2/Suits.S02E01.HDTV.x264-AVS.srt', '__MACOSX/Subtitles_all/B2/._Suits.S02E01.HDTV.x264-AVS.srt', 'Subtitles_all/B2/Suits.S01E07.1080p.BluRay.AAC5.1.x265-DTG.02.EN.srt', '__MACOSX/Subtitles_all/B2/._Suits.S01E07.1080p.BluRay.AAC5.1.x265-DTG.02.EN.srt', 'Subtitles_all/B2/Crazy4TV.com - Suits.S06E02.720p.BluRay.x265.HEVC.Crazy4ad.srt', '__MACOSX/Subtitles_all/B2/._Crazy4TV.com - Suits.S06E02.720p.BluRay.x265.HEVC.Crazy4ad.srt', 'Subtitles_all/B2/Frozen.2013.WEB-DL.DSNP.srt', '__MACOSX/Subtitles_all/B2/._Frozen.2013.WEB-DL.DSNP.srt', 'Subtitles_all/B2/The.True.Cost.2015.BluRay.720p.700MB.Ganool.com.srt', '__MACOSX/Subtitles_all/B2/._The.True.Cost.2015.BluRay.720p.700MB.Ganool.com.srt', 'Subtitles_all/B2/Crazy4TV.com - Suits.S06E09.720p.BluRay.x265.HEVC.Crazy4ad.srt', '__MACOSX/Subtitles_all/B2/._Crazy4TV.com - Suits.S06E09.720p.BluRay.x265.HEVC.Crazy4ad.srt', 'Subtitles_all/B2/Crown, The S01E08 - Pride & Joy.en.SDH.srt', '__MACOSX/Subtitles_all/B2/._Crown, The S01E08 - Pride & Joy.en.SDH.srt', 'Subtitles_all/B2/The.Grinch.2018.REMUX.1080p.Blu-ray.AVC.TrueHD.DTS-HD.MA.7.1-LEGi0N.English.srt', '__MACOSX/Subtitles_all/B2/._The.Grinch.2018.REMUX.1080p.Blu-ray.AVC.TrueHD.DTS-HD.MA.7.1-LEGi0N.English.srt', 'Subtitles_all/B2/Suits.S02E10.HDTV.x264-ASAP.srt', '__MACOSX/Subtitles_all/B2/._Suits.S02E10.HDTV.x264-ASAP.srt', 'Subtitles_all/B2/Suits.S01E04.1080p.BluRay.AAC5.1.x265-DTG.02.EN.srt', '__MACOSX/Subtitles_all/B2/._Suits.S01E04.1080p.BluRay.AAC5.1.x265-DTG.02.EN.srt', 'Subtitles_all/B2/The.Notebook.DVDRip.XviD-DiAMOND.srt', '__MACOSX/Subtitles_all/B2/._The.Notebook.DVDRip.XviD-DiAMOND.srt', 'Subtitles_all/B2/Suits.S02E05.iNTERNAL.HDTV.x264-2HD.srt', '__MACOSX/Subtitles_all/B2/._Suits.S02E05.iNTERNAL.HDTV.x264-2HD.srt', 'Subtitles_all/B2/Suits.Episode 7- Hitting Home.srt', '__MACOSX/Subtitles_all/B2/._Suits.Episode 7- Hitting Home.srt', 'Subtitles_all/B2/Suits.Episode 15- Tick Tock.srt', '__MACOSX/Subtitles_all/B2/._Suits.Episode 15- Tick Tock.srt', 'Subtitles_all/B2/Suits.Episode 10- Faith.srt', '__MACOSX/Subtitles_all/B2/._Suits.Episode 10- Faith.srt', 'Subtitles_all/B2/Crown, The S01E06 - Gelignite.en.SDH.srt', '__MACOSX/Subtitles_all/B2/._Crown, The S01E06 - Gelignite.en.SDH.srt', 'Subtitles_all/B2/Suits.S01E08.1080p.BluRay.AAC5.1.x265-DTG.02.EN.srt', '__MACOSX/Subtitles_all/B2/._Suits.S01E08.1080p.BluRay.AAC5.1.x265-DTG.02.EN.srt', 'Subtitles_all/B2/Crazy4TV.com - Suits.S06E05.720p.BluRay.x265.HEVC.Crazy4ad.srt', '__MACOSX/Subtitles_all/B2/._Crazy4TV.com - Suits.S06E05.720p.BluRay.x265.HEVC.Crazy4ad.srt', 'Subtitles_all/B2/Virgin.River.S01E03.INTERNAL.720p.WEB.x264-STRiFE.srt', '__MACOSX/Subtitles_all/B2/._Virgin.River.S01E03.INTERNAL.720p.WEB.x264-STRiFE.srt', 'Subtitles_all/B2/Crazy4TV.com - Suits.S06E11.720p.BluRay.x265.HEVC.Crazy4ad.srt', '__MACOSX/Subtitles_all/B2/._Crazy4TV.com - Suits.S06E11.720p.BluRay.x265.HEVC.Crazy4ad.srt', 'Subtitles_all/B2/SOMM.Into.the.Bottle.2015.1080p.BluRay.x265-RARBG.en.srt.srt', '__MACOSX/Subtitles_all/B2/._SOMM.Into.the.Bottle.2015.1080p.BluRay.x265-RARBG.en.srt.srt', 'Subtitles_all/B2/Virgin.River.S01E10.INTERNAL.720p.WEB.x264-STRiFE.srt', '__MACOSX/Subtitles_all/B2/._Virgin.River.S01E10.INTERNAL.720p.WEB.x264-STRiFE.srt', 'Subtitles_all/B2/Crown, The S01E07 - Scientia Potentia Est.en.FORCED.srt', '__MACOSX/Subtitles_all/B2/._Crown, The S01E07 - Scientia Potentia Est.en.FORCED.srt', 'Subtitles_all/B2/Virgin.River.S01E01.INTERNAL.720p.WEB.x264-STRiFE.srt', '__MACOSX/Subtitles_all/B2/._Virgin.River.S01E01.INTERNAL.720p.WEB.x264-STRiFE.srt', 'Subtitles_all/B2/Crazy4TV.com - Suits.S06E03.720p.BluRay.x265.HEVC.Crazy4ad.srt', '__MACOSX/Subtitles_all/B2/._Crazy4TV.com - Suits.S06E03.720p.BluRay.x265.HEVC.Crazy4ad.srt', 'Subtitles_all/B2/Crown, The S01E06 - Gelignite.en.srt', '__MACOSX/Subtitles_all/B2/._Crown, The S01E06 - Gelignite.en.srt', 'Subtitles_all/B2/Crazy4TV.com - Suits.S06E08.720p.BluRay.x265.HEVC.Crazy4ad.srt', '__MACOSX/Subtitles_all/B2/._Crazy4TV.com - Suits.S06E08.720p.BluRay.x265.HEVC.Crazy4ad.srt', 'Subtitles_all/B2/Crown, The S01E01 - Wolferton Splash.en.SDH.srt', '__MACOSX/Subtitles_all/B2/._Crown, The S01E01 - Wolferton Splash.en.SDH.srt', 'Subtitles_all/B2/Crown, The S01E05 - Smoke and Mirrors.en.FORCED.srt', '__MACOSX/Subtitles_all/B2/._Crown, The S01E05 - Smoke and Mirrors.en.FORCED.srt', 'Subtitles_all/B2/Crown, The S01E03 - Windsor.en.FORCED.srt', '__MACOSX/Subtitles_all/B2/._Crown, The S01E03 - Windsor.en.FORCED.srt', 'Subtitles_all/B2/Suits.Episode 2- Compensation.srt', '__MACOSX/Subtitles_all/B2/._Suits.Episode 2- Compensation.srt', 'Subtitles_all/B2/Suits.S02E15.HDTV.x264-ASAP.srt', '__MACOSX/Subtitles_all/B2/._Suits.S02E15.HDTV.x264-ASAP.srt', 'Subtitles_all/B2/Suits.Episode 9- Uninvited Guests.srt', '__MACOSX/Subtitles_all/B2/._Suits.Episode 9- Uninvited Guests.srt', 'Subtitles_all/B2/Suits.Episode 6- Privilege.srt', '__MACOSX/Subtitles_all/B2/._Suits.Episode 6- Privilege.srt', 'Subtitles_all/B2/Ghosts.of.Girlfriends.Past.2009.BluRay.720p.x264.YIFY.srt', '__MACOSX/Subtitles_all/B2/._Ghosts.of.Girlfriends.Past.2009.BluRay.720p.x264.YIFY.srt', 'Subtitles_all/B2/Crown, The S01E10 - Gloriana.en.SDH.srt', '__MACOSX/Subtitles_all/B2/._Crown, The S01E10 - Gloriana.en.SDH.srt', 'Subtitles_all/B2/Crown, The S01E08 - Pride & Joy.en.srt', '__MACOSX/Subtitles_all/B2/._Crown, The S01E08 - Pride & Joy.en.srt', 'Subtitles_all/A2/The Walking Dead-S01E03-Tell It To The Frogs.English.srt', '__MACOSX/Subtitles_all/A2/._The Walking Dead-S01E03-Tell It To The Frogs.English.srt', 'Subtitles_all/A2/The Walking Dead-S01E05-Wildfire.English.srt', '__MACOSX/Subtitles_all/A2/._The Walking Dead-S01E05-Wildfire.English.srt', 'Subtitles_all/A2/The Walking Dead-S01E02-Guts.English.srt', '__MACOSX/Subtitles_all/A2/._The Walking Dead-S01E02-Guts.English.srt', 'Subtitles_all/A2/The Walking Dead-S01E04-Vatos.English.srt', '__MACOSX/Subtitles_all/A2/._The Walking Dead-S01E04-Vatos.English.srt', 'Subtitles_all/A2/The Walking Dead-S01E06-TS-19.English.srt', '__MACOSX/Subtitles_all/A2/._The Walking Dead-S01E06-TS-19.English.srt', 'Subtitles_all/A2/The Walking Dead-S01E01-Days Gone Bye.English.srt', '__MACOSX/Subtitles_all/A2/._The Walking Dead-S01E01-Days Gone Bye.English.srt', 'Subtitles_all/C1/Suits S04E11 EngSub.srt', '__MACOSX/Subtitles_all/C1/._Suits S04E11 EngSub.srt', 'Subtitles_all/C1/Downton Abbey - S01E01 - Episode 1.eng.SDH.srt', '__MACOSX/Subtitles_all/C1/._Downton Abbey - S01E01 - Episode 1.eng.SDH.srt', 'Subtitles_all/C1/Suits S04E08 EngSub.srt', '__MACOSX/Subtitles_all/C1/._Suits S04E08 EngSub.srt', 'Subtitles_all/C1/Downton Abbey - S01E02 - Episode 2.eng.SDH.srt', '__MACOSX/Subtitles_all/C1/._Downton Abbey - S01E02 - Episode 2.eng.SDH.srt', 'Subtitles_all/C1/Downton Abbey - S01E03 - Episode 3.eng.SDH.srt', '__MACOSX/Subtitles_all/C1/._Downton Abbey - S01E03 - Episode 3.eng.SDH.srt', 'Subtitles_all/C1/Suits S04E14 EngSub.srt', '__MACOSX/Subtitles_all/C1/._Suits S04E14 EngSub.srt', 'Subtitles_all/C1/Suits S04E05 EngSub.srt', '__MACOSX/Subtitles_all/C1/._Suits S04E05 EngSub.srt', 'Subtitles_all/C1/Suits.S03E06.720p.HDTV.x264-mSD.srt', '__MACOSX/Subtitles_all/C1/._Suits.S03E06.720p.HDTV.x264-mSD.srt', 'Subtitles_all/C1/Suits S04E02 EngSub.srt', '__MACOSX/Subtitles_all/C1/._Suits S04E02 EngSub.srt', 'Subtitles_all/C1/Suits S04E13 EngSub.srt', '__MACOSX/Subtitles_all/C1/._Suits S04E13 EngSub.srt', 'Subtitles_all/C1/Suits.S03E04.480pHDTV.x264-mSD.srt', '__MACOSX/Subtitles_all/C1/._Suits.S03E04.480pHDTV.x264-mSD.srt', 'Subtitles_all/C1/Suits S04E16 EngSub.srt', '__MACOSX/Subtitles_all/C1/._Suits S04E16 EngSub.srt', 'Subtitles_all/C1/Suits.S03E10.HDTV.x264-mSD.srt', '__MACOSX/Subtitles_all/C1/._Suits.S03E10.HDTV.x264-mSD.srt', 'Subtitles_all/C1/Suits S04E07 EngSub.srt', '__MACOSX/Subtitles_all/C1/._Suits S04E07 EngSub.srt', 'Subtitles_all/C1/Downton Abbey - S01E05 - Episode 5.eng.SDH.srt', '__MACOSX/Subtitles_all/C1/._Downton Abbey - S01E05 - Episode 5.eng.SDH.srt', 'Subtitles_all/C1/Suits S04E09 EngSub.srt', '__MACOSX/Subtitles_all/C1/._Suits S04E09 EngSub.srt', 'Subtitles_all/C1/Downton Abbey - S01E04 - Episode 4.eng.SDH.srt', '__MACOSX/Subtitles_all/C1/._Downton Abbey - S01E04 - Episode 4.eng.SDH.srt', 'Subtitles_all/C1/Downton Abbey - S01E07 - Episode 7.eng.SDH.srt', '__MACOSX/Subtitles_all/C1/._Downton Abbey - S01E07 - Episode 7.eng.SDH.srt', 'Subtitles_all/C1/Suits S04E15 EngSub.srt', '__MACOSX/Subtitles_all/C1/._Suits S04E15 EngSub.srt', 'Subtitles_all/C1/Downton Abbey - S01E06 - Episode 6.eng.SDH.srt', '__MACOSX/Subtitles_all/C1/._Downton Abbey - S01E06 - Episode 6.eng.SDH.srt', 'Subtitles_all/C1/Suits.S03E01.480pHDTV.x264-mSD.srt', '__MACOSX/Subtitles_all/C1/._Suits.S03E01.480pHDTV.x264-mSD.srt', 'Subtitles_all/C1/Suits S04E04 EngSub.srt', '__MACOSX/Subtitles_all/C1/._Suits S04E04 EngSub.srt', 'Subtitles_all/C1/Suits S04E01 EngSub.srt', '__MACOSX/Subtitles_all/C1/._Suits S04E01 EngSub.srt', 'Subtitles_all/C1/Suits.S03E09.480p.HDTV.x264-mSD.srt', '__MACOSX/Subtitles_all/C1/._Suits.S03E09.480p.HDTV.x264-mSD.srt', 'Subtitles_all/C1/Suits.S03E02.720pHDTV.x264-mSD.srt', '__MACOSX/Subtitles_all/C1/._Suits.S03E02.720pHDTV.x264-mSD.srt', 'Subtitles_all/C1/Suits.S03E03.480pHDTV.x264-mSD.srt', '__MACOSX/Subtitles_all/C1/._Suits.S03E03.480pHDTV.x264-mSD.srt', 'Subtitles_all/C1/Suits S04E10 EngSub.srt', '__MACOSX/Subtitles_all/C1/._Suits S04E10 EngSub.srt', 'Subtitles_all/C1/Suits.S03E05.480p.HDTV.x264-mSD.srt', '__MACOSX/Subtitles_all/C1/._Suits.S03E05.480p.HDTV.x264-mSD.srt', 'Subtitles_all/C1/Suits.S03E08.480p.HDTV.x264-mSD.srt', '__MACOSX/Subtitles_all/C1/._Suits.S03E08.480p.HDTV.x264-mSD.srt', 'Subtitles_all/C1/Suits S04E06 EngSub.srt', '__MACOSX/Subtitles_all/C1/._Suits S04E06 EngSub.srt', 'Subtitles_all/C1/Suits.S03E07.HDTV.x264-mSD.srt', '__MACOSX/Subtitles_all/C1/._Suits.S03E07.HDTV.x264-mSD.srt', 'Subtitles_all/C1/Suits S04E03 EngSub.srt', '__MACOSX/Subtitles_all/C1/._Suits S04E03 EngSub.srt', 'Subtitles_all/C1/Suits S04E12 EngSub.srt', '__MACOSX/Subtitles_all/C1/._Suits S04E12 EngSub.srt', 'Subtitles_all/B1/Seven.Worlds.One.Planet.S01E06.2160p.BluRay.Remux.eng.srt', '__MACOSX/Subtitles_all/B1/._Seven.Worlds.One.Planet.S01E06.2160p.BluRay.Remux.eng.srt', 'Subtitles_all/B1/Spirit.Stallion.of.the.Cimarron.EN.srt', '__MACOSX/Subtitles_all/B1/._Spirit.Stallion.of.the.Cimarron.EN.srt', 'Subtitles_all/B1/AmericanBeauty1999.BRRip.srt', '__MACOSX/Subtitles_all/B1/._AmericanBeauty1999.BRRip.srt', 'Subtitles_all/B1/Seven.Worlds.One.Planet.S01E01.2160p.BluRay.Remux.eng.srt', '__MACOSX/Subtitles_all/B1/._Seven.Worlds.One.Planet.S01E01.2160p.BluRay.Remux.eng.srt', 'Subtitles_all/B1/Seven.Worlds.One.Planet.S01E07.2160p.BluRay.Remux.eng.srt', '__MACOSX/Subtitles_all/B1/._Seven.Worlds.One.Planet.S01E07.2160p.BluRay.Remux.eng.srt', 'Subtitles_all/B1/Men.In.Black.1997.720p.Bluray.x264-SEPTiC.srt', '__MACOSX/Subtitles_all/B1/._Men.In.Black.1997.720p.Bluray.x264-SEPTiC.srt', 'Subtitles_all/B1/Rat.Race.2001.1080p.WEB-DL.DD5.1.H264-FGT.srt', '__MACOSX/Subtitles_all/B1/._Rat.Race.2001.1080p.WEB-DL.DD5.1.H264-FGT.srt', 'Subtitles_all/B1/mechanic-resurrection_.srt', '__MACOSX/Subtitles_all/B1/._mechanic-resurrection_.srt', \"Subtitles_all/B1/Valentine's.Day.2010.Subtitles.YIFY.srt\", \"__MACOSX/Subtitles_all/B1/._Valentine's.Day.2010.Subtitles.YIFY.srt\", 'Subtitles_all/B1/Seven.Worlds.One.Planet.S01E02.2160p.BluRay.Remux.eng.srt', '__MACOSX/Subtitles_all/B1/._Seven.Worlds.One.Planet.S01E02.2160p.BluRay.Remux.eng.srt', 'Subtitles_all/B1/SlingShot (2014) WEB.eng.srt', '__MACOSX/Subtitles_all/B1/._SlingShot (2014) WEB.eng.srt', 'Subtitles_all/B1/Seven.Worlds.One.Planet.S01E05.2160p.BluRay.Remux.eng.srt', '__MACOSX/Subtitles_all/B1/._Seven.Worlds.One.Planet.S01E05.2160p.BluRay.Remux.eng.srt', 'Subtitles_all/B1/Indiana Jones And The Last Crusade DVDRip Xvid -IZON-.srt', '__MACOSX/Subtitles_all/B1/._Indiana Jones And The Last Crusade DVDRip Xvid -IZON-.srt', 'Subtitles_all/B1/Seven.Worlds.One.Planet.S01E04.2160p.BluRay.Remux.eng.srt', '__MACOSX/Subtitles_all/B1/._Seven.Worlds.One.Planet.S01E04.2160p.BluRay.Remux.eng.srt', 'Subtitles_all/B1/Seven.Worlds.One.Planet.S01E03.2160p.BluRay.Remux.eng.srt', '__MACOSX/Subtitles_all/B1/._Seven.Worlds.One.Planet.S01E03.2160p.BluRay.Remux.eng.srt', 'Subtitles_all/B1/Angelas.Christmas.Wish.2020.srt', '__MACOSX/Subtitles_all/B1/._Angelas.Christmas.Wish.2020.srt', 'Subtitles_all/B1/Terminator_2_Judgment_Day_1991_roNy.srt', '__MACOSX/Subtitles_all/B1/._Terminator_2_Judgment_Day_1991_roNy.srt', 'Subtitles_all/Subtitles/Dredd(2012).srt', '__MACOSX/Subtitles_all/Subtitles/._Dredd(2012).srt', 'Subtitles_all/Subtitles/Despicable_Me(2010).srt', '__MACOSX/Subtitles_all/Subtitles/._Despicable_Me(2010).srt', 'Subtitles_all/Subtitles/The_secret_life_of_Walter_Mitty(2013).srt', '__MACOSX/Subtitles_all/Subtitles/._The_secret_life_of_Walter_Mitty(2013).srt', 'Subtitles_all/Subtitles/Shrek(2001).srt', '__MACOSX/Subtitles_all/Subtitles/._Shrek(2001).srt', 'Subtitles_all/Subtitles/Deadpool(2016).srt', '__MACOSX/Subtitles_all/Subtitles/._Deadpool(2016).srt', 'Subtitles_all/Subtitles/We_are_the_Millers(2013).srt', '__MACOSX/Subtitles_all/Subtitles/._We_are_the_Millers(2013).srt', 'Subtitles_all/Subtitles/Pulp_fiction(1994).srt', '__MACOSX/Subtitles_all/Subtitles/._Pulp_fiction(1994).srt', 'Subtitles_all/Subtitles/Babe(1995).srt', '__MACOSX/Subtitles_all/Subtitles/._Babe(1995).srt', 'Subtitles_all/Subtitles/Pirates_of_the_Caribbean(2003).srt', '__MACOSX/Subtitles_all/Subtitles/._Pirates_of_the_Caribbean(2003).srt', 'Subtitles_all/Subtitles/Before_I_go_to_sleep(2014).srt', '__MACOSX/Subtitles_all/Subtitles/._Before_I_go_to_sleep(2014).srt', 'Subtitles_all/Subtitles/Enola_Holmes(2020).srt', '__MACOSX/Subtitles_all/Subtitles/._Enola_Holmes(2020).srt', 'Subtitles_all/Subtitles/Oceans_Twelve(2004).srt', '__MACOSX/Subtitles_all/Subtitles/._Oceans_Twelve(2004).srt', 'Subtitles_all/Subtitles/.DS_Store', '__MACOSX/Subtitles_all/Subtitles/._.DS_Store', 'Subtitles_all/Subtitles/The_fault_in_our_stars(2014).srt', '__MACOSX/Subtitles_all/Subtitles/._The_fault_in_our_stars(2014).srt', 'Subtitles_all/Subtitles/The_jungle_book(2016).srt', '__MACOSX/Subtitles_all/Subtitles/._The_jungle_book(2016).srt', 'Subtitles_all/Subtitles/Gogo_Loves_English.srt', '__MACOSX/Subtitles_all/Subtitles/._Gogo_Loves_English.srt', 'Subtitles_all/Subtitles/Beauty_and_the_beast(2017).srt', '__MACOSX/Subtitles_all/Subtitles/._Beauty_and_the_beast(2017).srt', 'Subtitles_all/Subtitles/Its_a_wonderful_life(1946).srt', '__MACOSX/Subtitles_all/Subtitles/._Its_a_wonderful_life(1946).srt', 'Subtitles_all/Subtitles/The_holiday(2006).srt', '__MACOSX/Subtitles_all/Subtitles/._The_holiday(2006).srt', 'Subtitles_all/Subtitles/Warm_bodies(2013).srt', '__MACOSX/Subtitles_all/Subtitles/._Warm_bodies(2013).srt', 'Subtitles_all/Subtitles/Venom(2018).srt', '__MACOSX/Subtitles_all/Subtitles/._Venom(2018).srt', 'Subtitles_all/Subtitles/10_things_I_hate_about_you(1999).srt', '__MACOSX/Subtitles_all/Subtitles/._10_things_I_hate_about_you(1999).srt', 'Subtitles_all/Subtitles/Pleasantville(1998).srt', '__MACOSX/Subtitles_all/Subtitles/._Pleasantville(1998).srt', 'Subtitles_all/Subtitles/Mrs_Doubtfire(1993).srt', '__MACOSX/Subtitles_all/Subtitles/._Mrs_Doubtfire(1993).srt', 'Subtitles_all/Subtitles/Braveheart(1995).srt', '__MACOSX/Subtitles_all/Subtitles/._Braveheart(1995).srt', 'Subtitles_all/Subtitles/Westworld_scenes_of_Dr_Robert_Ford.srt', '__MACOSX/Subtitles_all/Subtitles/._Westworld_scenes_of_Dr_Robert_Ford.srt', 'Subtitles_all/Subtitles/Powder(1995).srt', '__MACOSX/Subtitles_all/Subtitles/._Powder(1995).srt', 'Subtitles_all/Subtitles/The_cabin_in_the_woods(2012).srt', '__MACOSX/Subtitles_all/Subtitles/._The_cabin_in_the_woods(2012).srt', 'Subtitles_all/Subtitles/Before_sunrise(1995).srt', '__MACOSX/Subtitles_all/Subtitles/._Before_sunrise(1995).srt', 'Subtitles_all/Subtitles/All_dogs_go_to_heaven(1989).srt', '__MACOSX/Subtitles_all/Subtitles/._All_dogs_go_to_heaven(1989).srt', 'Subtitles_all/Subtitles/Ready_or_not(2019).srt', '__MACOSX/Subtitles_all/Subtitles/._Ready_or_not(2019).srt', 'Subtitles_all/Subtitles/The_Devil_Wears_Prad.srt', '__MACOSX/Subtitles_all/Subtitles/._The_Devil_Wears_Prad.srt', 'Subtitles_all/Subtitles/The_man_called_Flintstone(1966).srt', '__MACOSX/Subtitles_all/Subtitles/._The_man_called_Flintstone(1966).srt', 'Subtitles_all/Subtitles/The_graduate(1967).srt', '__MACOSX/Subtitles_all/Subtitles/._The_graduate(1967).srt', 'Subtitles_all/Subtitles/Breaking_Bad_The_Movie(2017).srt', '__MACOSX/Subtitles_all/Subtitles/._Breaking_Bad_The_Movie(2017).srt', 'Subtitles_all/Subtitles/Bridget_Jones_diary(2001).srt', '__MACOSX/Subtitles_all/Subtitles/._Bridget_Jones_diary(2001).srt', 'Subtitles_all/Subtitles/Love_actually(2003).srt', '__MACOSX/Subtitles_all/Subtitles/._Love_actually(2003).srt', 'Subtitles_all/Subtitles/The_terminal(2004).srt', '__MACOSX/Subtitles_all/Subtitles/._The_terminal(2004).srt', 'Subtitles_all/Subtitles/A_star_is_born(2018).srt', '__MACOSX/Subtitles_all/Subtitles/._A_star_is_born(2018).srt', 'Subtitles_all/Subtitles/Mamma_Mia(2008).srt', '__MACOSX/Subtitles_all/Subtitles/._Mamma_Mia(2008).srt', 'Subtitles_all/Subtitles/The_terminator(1984).srt', '__MACOSX/Subtitles_all/Subtitles/._The_terminator(1984).srt', 'Subtitles_all/Subtitles/Fight_club(1999).srt', '__MACOSX/Subtitles_all/Subtitles/._Fight_club(1999).srt', 'Subtitles_all/Subtitles/Oceans_Eleven(2001).srt', '__MACOSX/Subtitles_all/Subtitles/._Oceans_Eleven(2001).srt', 'Subtitles_all/Subtitles/Bridget_Joness_Baby.srt', '__MACOSX/Subtitles_all/Subtitles/._Bridget_Joness_Baby.srt', 'Subtitles_all/Subtitles/Good_Will_Hunting(1997).srt', '__MACOSX/Subtitles_all/Subtitles/._Good_Will_Hunting(1997).srt', 'Subtitles_all/Subtitles/Mary_Poppins_returns(2018).srt', '__MACOSX/Subtitles_all/Subtitles/._Mary_Poppins_returns(2018).srt', 'Subtitles_all/Subtitles/Charlie_and_the_Chocolate_Factory.srt', '__MACOSX/Subtitles_all/Subtitles/._Charlie_and_the_Chocolate_Factory.srt', 'Subtitles_all/Subtitles/The_break-up(2006).srt', '__MACOSX/Subtitles_all/Subtitles/._The_break-up(2006).srt', 'Subtitles_all/Subtitles/10_Cloverfield_lane(2016).srt', '__MACOSX/Subtitles_all/Subtitles/._10_Cloverfield_lane(2016).srt', 'Subtitles_all/Subtitles/Entrapment.srt', '__MACOSX/Subtitles_all/Subtitles/._Entrapment.srt', 'Subtitles_all/Subtitles/Ratatouille(2007).srt', '__MACOSX/Subtitles_all/Subtitles/._Ratatouille(2007).srt', 'Subtitles_all/Subtitles/Liar_liar(1997).srt', '__MACOSX/Subtitles_all/Subtitles/._Liar_liar(1997).srt', 'Subtitles_all/Subtitles/Moulin_Rouge(2001).srt', '__MACOSX/Subtitles_all/Subtitles/._Moulin_Rouge(2001).srt', 'Subtitles_all/Subtitles/Eurovision_song_contest_(2020).srt', '__MACOSX/Subtitles_all/Subtitles/._Eurovision_song_contest_(2020).srt', 'Subtitles_all/Subtitles/The_social_network(2010).srt', '__MACOSX/Subtitles_all/Subtitles/._The_social_network(2010).srt', 'Subtitles_all/Subtitles/Logan(2017).srt', '__MACOSX/Subtitles_all/Subtitles/._Logan(2017).srt', 'Subtitles_all/Subtitles/While_You_Were_Sleeping(1995).srt', '__MACOSX/Subtitles_all/Subtitles/._While_You_Were_Sleeping(1995).srt', 'Subtitles_all/Subtitles/Made_of_Honor(2008).srt', '__MACOSX/Subtitles_all/Subtitles/._Made_of_Honor(2008).srt', 'Subtitles_all/Subtitles/Die_hard(1988).srt', '__MACOSX/Subtitles_all/Subtitles/._Die_hard(1988).srt', 'Subtitles_all/Subtitles/Klaus(2019).srt', '__MACOSX/Subtitles_all/Subtitles/._Klaus(2019).srt', 'Subtitles_all/Subtitles/The_lord_of_the_rings(2001).srt', '__MACOSX/Subtitles_all/Subtitles/._The_lord_of_the_rings(2001).srt', 'Subtitles_all/Subtitles/Cast_away(2000).srt', '__MACOSX/Subtitles_all/Subtitles/._Cast_away(2000).srt', 'Subtitles_all/Subtitles/Milada(2017).srt', '__MACOSX/Subtitles_all/Subtitles/._Milada(2017).srt', 'Subtitles_all/Subtitles/The_Ghost_Writer.srt', '__MACOSX/Subtitles_all/Subtitles/._The_Ghost_Writer.srt', 'Subtitles_all/Subtitles/The_lion_king(1994).srt', '__MACOSX/Subtitles_all/Subtitles/._The_lion_king(1994).srt', 'Subtitles_all/Subtitles/A_knights_tale(2001).srt', '__MACOSX/Subtitles_all/Subtitles/._A_knights_tale(2001).srt', 'Subtitles_all/Subtitles/Sleepless_in_Seattle(1993).srt', '__MACOSX/Subtitles_all/Subtitles/._Sleepless_in_Seattle(1993).srt', 'Subtitles_all/Subtitles/An_American_tail(1986).srt', '__MACOSX/Subtitles_all/Subtitles/._An_American_tail(1986).srt', 'Subtitles_all/Subtitles/Toy_story(1995).srt', '__MACOSX/Subtitles_all/Subtitles/._Toy_story(1995).srt', 'Subtitles_all/Subtitles/Harry_Potter_and_the_philosophers_stone(2001).srt', '__MACOSX/Subtitles_all/Subtitles/._Harry_Potter_and_the_philosophers_stone(2001).srt', 'Subtitles_all/Subtitles/House_of_Gucci(2021).srt', '__MACOSX/Subtitles_all/Subtitles/._House_of_Gucci(2021).srt', 'Subtitles_all/Subtitles/The_invisible_man(2020).srt', '__MACOSX/Subtitles_all/Subtitles/._The_invisible_man(2020).srt', 'Subtitles_all/Subtitles/Ferdinand(2017).srt', '__MACOSX/Subtitles_all/Subtitles/._Ferdinand(2017).srt', 'Subtitles_all/Subtitles/Clueless(1995).srt', '__MACOSX/Subtitles_all/Subtitles/._Clueless(1995).srt', 'Subtitles_all/Subtitles/My_big_fat_Greek_wedding(2002).srt', '__MACOSX/Subtitles_all/Subtitles/._My_big_fat_Greek_wedding(2002).srt', 'Subtitles_all/Subtitles/Zootopia(2016).srt', '__MACOSX/Subtitles_all/Subtitles/._Zootopia(2016).srt', 'Subtitles_all/Subtitles/Titanic(1997).srt', '__MACOSX/Subtitles_all/Subtitles/._Titanic(1997).srt', 'Subtitles_all/Subtitles/Groundhog_day(1993).srt', '__MACOSX/Subtitles_all/Subtitles/._Groundhog_day(1993).srt', 'Subtitles_all/Subtitles/The_Shawshank_redemption(1994).srt', '__MACOSX/Subtitles_all/Subtitles/._The_Shawshank_redemption(1994).srt', 'Subtitles_all/Subtitles/Lion(2016).srt', '__MACOSX/Subtitles_all/Subtitles/._Lion(2016).srt', 'Subtitles_all/Subtitles/Knives_out(2019).srt', '__MACOSX/Subtitles_all/Subtitles/._Knives_out(2019).srt', 'Subtitles_all/Subtitles/Casper.srt', '__MACOSX/Subtitles_all/Subtitles/._Casper.srt', 'Subtitles_all/Subtitles/The_usual_suspects(1995).srt', '__MACOSX/Subtitles_all/Subtitles/._The_usual_suspects(1995).srt', 'Subtitles_all/Subtitles/Banking_On_Bitcoin(2016).srt', '__MACOSX/Subtitles_all/Subtitles/._Banking_On_Bitcoin(2016).srt', 'Subtitles_all/Subtitles/Forrest_Gump(1994).srt', '__MACOSX/Subtitles_all/Subtitles/._Forrest_Gump(1994).srt', 'Subtitles_all/Subtitles/Up(2009).srt', '__MACOSX/Subtitles_all/Subtitles/._Up(2009).srt', 'Subtitles_all/Subtitles/The_Legend_of_Tarzan(2016).srt', '__MACOSX/Subtitles_all/Subtitles/._The_Legend_of_Tarzan(2016).srt', 'Subtitles_all/Subtitles/Pride_and_Prejudice.srt', '__MACOSX/Subtitles_all/Subtitles/._Pride_and_Prejudice.srt', 'Subtitles_all/Subtitles/Cars(2006).srt', '__MACOSX/Subtitles_all/Subtitles/._Cars(2006).srt', 'Subtitles_all/Subtitles/Home_alone(1990).srt', '__MACOSX/Subtitles_all/Subtitles/._Home_alone(1990).srt', 'Subtitles_all/Subtitles/Back_to_the_future(1985).srt', '__MACOSX/Subtitles_all/Subtitles/._Back_to_the_future(1985).srt', 'Subtitles_all/Subtitles/The_theory_of_everything(2014).srt', '__MACOSX/Subtitles_all/Subtitles/._The_theory_of_everything(2014).srt', 'Subtitles_all/Subtitles/Twilight(2008).srt', '__MACOSX/Subtitles_all/Subtitles/._Twilight(2008).srt', 'Subtitles_all/Subtitles/The_hangover(2009).srt', '__MACOSX/Subtitles_all/Subtitles/._The_hangover(2009).srt', 'Subtitles_all/Subtitles/Bren╨Æ.Brown.The.Call.to.Courage.2019.720.NF.720p.DDP.5.1.x264-CafeFlix.srt', '__MACOSX/Subtitles_all/Subtitles/._Bren╨Æ.Brown.The.Call.to.Courage.2019.720.NF.720p.DDP.5.1.x264-CafeFlix.srt', 'Subtitles_all/Subtitles/Before_sunset(2004).srt', '__MACOSX/Subtitles_all/Subtitles/._Before_sunset(2004).srt', 'Subtitles_all/Subtitles/Finding_Nemo(2003).srt', '__MACOSX/Subtitles_all/Subtitles/._Finding_Nemo(2003).srt', 'Subtitles_all/Subtitles/Hook(1991).srt', '__MACOSX/Subtitles_all/Subtitles/._Hook(1991).srt', 'Subtitles_all/Subtitles/The_kings_speech(2010).srt', '__MACOSX/Subtitles_all/Subtitles/._The_kings_speech(2010).srt', 'Subtitles_all/Subtitles/The_blind_side(2009).srt', '__MACOSX/Subtitles_all/Subtitles/._The_blind_side(2009).srt', 'Subtitles_all/Subtitles/Mona_Lisa_Smile(2003).srt', '__MACOSX/Subtitles_all/Subtitles/._Mona_Lisa_Smile(2003).srt', 'Subtitles_all/Subtitles/Inside_out(2015).srt', '__MACOSX/Subtitles_all/Subtitles/._Inside_out(2015).srt', 'Subtitles_all/Subtitles/Dune(2021).srt', '__MACOSX/Subtitles_all/Subtitles/._Dune(2021).srt', 'Subtitles_all/Subtitles/Soul(2020).srt', '__MACOSX/Subtitles_all/Subtitles/._Soul(2020).srt', 'Subtitles_all/Subtitles/Meet_the_parents(2000).srt', '__MACOSX/Subtitles_all/Subtitles/._Meet_the_parents(2000).srt', 'Subtitles_all/Subtitles/Catch_me_if_you_can(2002).srt', '__MACOSX/Subtitles_all/Subtitles/._Catch_me_if_you_can(2002).srt', 'Subtitles_all/Subtitles/Cinderella(1950).srt', '__MACOSX/Subtitles_all/Subtitles/._Cinderella(1950).srt', 'Subtitles_all/Subtitles/Batman_begins(2005).srt', '__MACOSX/Subtitles_all/Subtitles/._Batman_begins(2005).srt', 'Subtitles_all/Subtitles/Notting_Hill(1999).srt', '__MACOSX/Subtitles_all/Subtitles/._Notting_Hill(1999).srt', 'Subtitles_all/Subtitles/The_greatest_showman(2017).srt', '__MACOSX/Subtitles_all/Subtitles/._The_greatest_showman(2017).srt', 'Subtitles_all/Subtitles/Kubo_and_the_two_strings(2016).srt', '__MACOSX/Subtitles_all/Subtitles/._Kubo_and_the_two_strings(2016).srt', 'Subtitles_all/Subtitles/Matilda(1996).srt', '__MACOSX/Subtitles_all/Subtitles/._Matilda(1996).srt', 'Subtitles_all/Subtitles/Her(2013).srt', '__MACOSX/Subtitles_all/Subtitles/._Her(2013).srt', 'Subtitles_all/Subtitles/The_Fundamentals_of_Caring(2016).srt', '__MACOSX/Subtitles_all/Subtitles/._The_Fundamentals_of_Caring(2016).srt', 'Subtitles_all/Subtitles/The_Intern(2015).srt', '__MACOSX/Subtitles_all/Subtitles/._The_Intern(2015).srt', 'Subtitles_all/Subtitles/Aladdin(1992).srt', '__MACOSX/Subtitles_all/Subtitles/._Aladdin(1992).srt', 'movies_labels.xlsx', '__MACOSX/._movies_labels.xlsx']\n"
          ]
        }
      ]
    },
    {
      "cell_type": "code",
      "source": [
        "with ZipFile(path_to_zip_file, 'r') as zObject:\n",
        "  movies_labels = zObject.extract('movies_labels.xlsx')"
      ],
      "metadata": {
        "id": "kW15nSoUzfoZ"
      },
      "execution_count": 7,
      "outputs": []
    },
    {
      "cell_type": "code",
      "source": [
        "#загружаем данные по фильмам\n",
        "df = pd.read_excel(movies_labels, index_col='id')\n",
        "df.head(3)"
      ],
      "metadata": {
        "id": "ixrEVKaeICdT",
        "colab": {
          "base_uri": "https://localhost:8080/",
          "height": 175
        },
        "outputId": "6a6bbbbb-68e5-46d2-8930-a527c101685c"
      },
      "execution_count": 8,
      "outputs": [
        {
          "output_type": "execute_result",
          "data": {
            "text/plain": [
              "                               Movie Level\n",
              "id                                        \n",
              "0          10_Cloverfield_lane(2016)    B1\n",
              "1   10_things_I_hate_about_you(1999)    B1\n",
              "2               A_knights_tale(2001)    B2"
            ],
            "text/html": [
              "\n",
              "  <div id=\"df-15864931-dead-409e-898d-e8e76577f47a\">\n",
              "    <div class=\"colab-df-container\">\n",
              "      <div>\n",
              "<style scoped>\n",
              "    .dataframe tbody tr th:only-of-type {\n",
              "        vertical-align: middle;\n",
              "    }\n",
              "\n",
              "    .dataframe tbody tr th {\n",
              "        vertical-align: top;\n",
              "    }\n",
              "\n",
              "    .dataframe thead th {\n",
              "        text-align: right;\n",
              "    }\n",
              "</style>\n",
              "<table border=\"1\" class=\"dataframe\">\n",
              "  <thead>\n",
              "    <tr style=\"text-align: right;\">\n",
              "      <th></th>\n",
              "      <th>Movie</th>\n",
              "      <th>Level</th>\n",
              "    </tr>\n",
              "    <tr>\n",
              "      <th>id</th>\n",
              "      <th></th>\n",
              "      <th></th>\n",
              "    </tr>\n",
              "  </thead>\n",
              "  <tbody>\n",
              "    <tr>\n",
              "      <th>0</th>\n",
              "      <td>10_Cloverfield_lane(2016)</td>\n",
              "      <td>B1</td>\n",
              "    </tr>\n",
              "    <tr>\n",
              "      <th>1</th>\n",
              "      <td>10_things_I_hate_about_you(1999)</td>\n",
              "      <td>B1</td>\n",
              "    </tr>\n",
              "    <tr>\n",
              "      <th>2</th>\n",
              "      <td>A_knights_tale(2001)</td>\n",
              "      <td>B2</td>\n",
              "    </tr>\n",
              "  </tbody>\n",
              "</table>\n",
              "</div>\n",
              "      <button class=\"colab-df-convert\" onclick=\"convertToInteractive('df-15864931-dead-409e-898d-e8e76577f47a')\"\n",
              "              title=\"Convert this dataframe to an interactive table.\"\n",
              "              style=\"display:none;\">\n",
              "        \n",
              "  <svg xmlns=\"http://www.w3.org/2000/svg\" height=\"24px\"viewBox=\"0 0 24 24\"\n",
              "       width=\"24px\">\n",
              "    <path d=\"M0 0h24v24H0V0z\" fill=\"none\"/>\n",
              "    <path d=\"M18.56 5.44l.94 2.06.94-2.06 2.06-.94-2.06-.94-.94-2.06-.94 2.06-2.06.94zm-11 1L8.5 8.5l.94-2.06 2.06-.94-2.06-.94L8.5 2.5l-.94 2.06-2.06.94zm10 10l.94 2.06.94-2.06 2.06-.94-2.06-.94-.94-2.06-.94 2.06-2.06.94z\"/><path d=\"M17.41 7.96l-1.37-1.37c-.4-.4-.92-.59-1.43-.59-.52 0-1.04.2-1.43.59L10.3 9.45l-7.72 7.72c-.78.78-.78 2.05 0 2.83L4 21.41c.39.39.9.59 1.41.59.51 0 1.02-.2 1.41-.59l7.78-7.78 2.81-2.81c.8-.78.8-2.07 0-2.86zM5.41 20L4 18.59l7.72-7.72 1.47 1.35L5.41 20z\"/>\n",
              "  </svg>\n",
              "      </button>\n",
              "      \n",
              "  <style>\n",
              "    .colab-df-container {\n",
              "      display:flex;\n",
              "      flex-wrap:wrap;\n",
              "      gap: 12px;\n",
              "    }\n",
              "\n",
              "    .colab-df-convert {\n",
              "      background-color: #E8F0FE;\n",
              "      border: none;\n",
              "      border-radius: 50%;\n",
              "      cursor: pointer;\n",
              "      display: none;\n",
              "      fill: #1967D2;\n",
              "      height: 32px;\n",
              "      padding: 0 0 0 0;\n",
              "      width: 32px;\n",
              "    }\n",
              "\n",
              "    .colab-df-convert:hover {\n",
              "      background-color: #E2EBFA;\n",
              "      box-shadow: 0px 1px 2px rgba(60, 64, 67, 0.3), 0px 1px 3px 1px rgba(60, 64, 67, 0.15);\n",
              "      fill: #174EA6;\n",
              "    }\n",
              "\n",
              "    [theme=dark] .colab-df-convert {\n",
              "      background-color: #3B4455;\n",
              "      fill: #D2E3FC;\n",
              "    }\n",
              "\n",
              "    [theme=dark] .colab-df-convert:hover {\n",
              "      background-color: #434B5C;\n",
              "      box-shadow: 0px 1px 3px 1px rgba(0, 0, 0, 0.15);\n",
              "      filter: drop-shadow(0px 1px 2px rgba(0, 0, 0, 0.3));\n",
              "      fill: #FFFFFF;\n",
              "    }\n",
              "  </style>\n",
              "\n",
              "      <script>\n",
              "        const buttonEl =\n",
              "          document.querySelector('#df-15864931-dead-409e-898d-e8e76577f47a button.colab-df-convert');\n",
              "        buttonEl.style.display =\n",
              "          google.colab.kernel.accessAllowed ? 'block' : 'none';\n",
              "\n",
              "        async function convertToInteractive(key) {\n",
              "          const element = document.querySelector('#df-15864931-dead-409e-898d-e8e76577f47a');\n",
              "          const dataTable =\n",
              "            await google.colab.kernel.invokeFunction('convertToInteractive',\n",
              "                                                     [key], {});\n",
              "          if (!dataTable) return;\n",
              "\n",
              "          const docLinkHtml = 'Like what you see? Visit the ' +\n",
              "            '<a target=\"_blank\" href=https://colab.research.google.com/notebooks/data_table.ipynb>data table notebook</a>'\n",
              "            + ' to learn more about interactive tables.';\n",
              "          element.innerHTML = '';\n",
              "          dataTable['output_type'] = 'display_data';\n",
              "          await google.colab.output.renderOutput(dataTable, element);\n",
              "          const docLink = document.createElement('div');\n",
              "          docLink.innerHTML = docLinkHtml;\n",
              "          element.appendChild(docLink);\n",
              "        }\n",
              "      </script>\n",
              "    </div>\n",
              "  </div>\n",
              "  "
            ]
          },
          "metadata": {},
          "execution_count": 8
        }
      ]
    },
    {
      "cell_type": "code",
      "source": [
        "# определим какие целевые метки содержат данные\n",
        "df['Level'].unique()"
      ],
      "metadata": {
        "id": "KKLdf10GyLSx",
        "colab": {
          "base_uri": "https://localhost:8080/"
        },
        "outputId": "76b48f23-9593-4494-edd8-393f717f09e8"
      },
      "execution_count": 9,
      "outputs": [
        {
          "output_type": "execute_result",
          "data": {
            "text/plain": [
              "array(['B1', 'B2', 'A2/A2+', 'C1', 'B1, B2', 'A2/A2+, B1', 'A2'],\n",
              "      dtype=object)"
            ]
          },
          "metadata": {},
          "execution_count": 9
        }
      ]
    },
    {
      "cell_type": "code",
      "source": [
        "# определим словарь меток с кодированием значений\n",
        "label_dict = {'A2': 1,\n",
        "              'A2/A2+': 1,\n",
        "              'B1': 2,\n",
        "              'A2/A2+, B1': 2,\n",
        "              'B2': 3,\n",
        "              'B1, B2': 3,\n",
        "              'C1': 4}\n",
        "# заменим метки числовыми значениями\n",
        "df['Level'] = df['Level'].replace(label_dict)"
      ],
      "metadata": {
        "id": "OcBS-bUdId7H"
      },
      "execution_count": 10,
      "outputs": []
    },
    {
      "cell_type": "code",
      "source": [
        "# удалим дубликаты\n",
        "df = df.drop_duplicates()\n",
        "df.shape"
      ],
      "metadata": {
        "id": "XCL8yqqrIguv",
        "colab": {
          "base_uri": "https://localhost:8080/"
        },
        "outputId": "8e8df5ad-6117-4b6c-aba7-d9590873b375"
      },
      "execution_count": 11,
      "outputs": [
        {
          "output_type": "execute_result",
          "data": {
            "text/plain": [
              "(238, 2)"
            ]
          },
          "metadata": {},
          "execution_count": 11
        }
      ]
    },
    {
      "cell_type": "markdown",
      "source": [
        "###Загрузка субтитров"
      ],
      "metadata": {
        "id": "2dZzlkUDL-qo"
      }
    },
    {
      "cell_type": "code",
      "source": [
        "films_name = {}\n",
        "for srt in znm:\n",
        "  if srt.find('.srt') != -1 and srt.find('__MACOSX') == -1:\n",
        "    films_name[srt.split('/')[-1]] = srt\n",
        "print(len(films_name))"
      ],
      "metadata": {
        "id": "utNQY7MNIjVn",
        "colab": {
          "base_uri": "https://localhost:8080/"
        },
        "outputId": "85b1fd67-02a4-4006-be1f-a25b5cd4c0f6"
      },
      "execution_count": 12,
      "outputs": [
        {
          "output_type": "stream",
          "name": "stdout",
          "text": [
            "278\n"
          ]
        }
      ]
    },
    {
      "cell_type": "code",
      "source": [
        "# проверим для скольких фильмов, имеющих метку из таблицы, предоставлены субтитры\n",
        "films_filtr = set(films_name.keys()) & set(df['Movie'] + '.srt')\n",
        "len(films_filtr)"
      ],
      "metadata": {
        "id": "9pisUGAmMB3w",
        "colab": {
          "base_uri": "https://localhost:8080/"
        },
        "outputId": "1f205aab-eef9-4f63-84d6-4754254d4151"
      },
      "execution_count": 13,
      "outputs": [
        {
          "output_type": "execute_result",
          "data": {
            "text/plain": [
              "229"
            ]
          },
          "metadata": {},
          "execution_count": 13
        }
      ]
    },
    {
      "cell_type": "code",
      "source": [
        "def load_subs(film):\n",
        "  \"\"\"загружет субтитры\"\"\"\n",
        "  fsrt = f'{film}.srt'\n",
        "  if fsrt not in set(films_name.keys()):\n",
        "    return None\n",
        "  with ZipFile(path_to_zip_file, 'r') as zObject:\n",
        "    f = zObject.extract(films_name[fsrt])\n",
        "    try:\n",
        "      subs = pysrt.open(f)\n",
        "    except:\n",
        "      subs = pysrt.open(f,encoding='iso-8859-1')\n",
        "  return subs"
      ],
      "metadata": {
        "id": "r_uC_be_MebK"
      },
      "execution_count": 14,
      "outputs": []
    },
    {
      "cell_type": "code",
      "source": [
        "%%time\n",
        "#загружаем субтитры\n",
        "df['subs'] = df['Movie'].apply(load_subs)"
      ],
      "metadata": {
        "id": "itG8oMQlMFog",
        "colab": {
          "base_uri": "https://localhost:8080/"
        },
        "outputId": "acc1132c-67fb-4128-ef68-bdc9cad4d862"
      },
      "execution_count": 15,
      "outputs": [
        {
          "output_type": "stream",
          "name": "stdout",
          "text": [
            "CPU times: user 11 s, sys: 315 ms, total: 11.3 s\n",
            "Wall time: 18.2 s\n"
          ]
        }
      ]
    },
    {
      "cell_type": "code",
      "source": [
        "df['subs']"
      ],
      "metadata": {
        "id": "EshUSy2yMUDn",
        "colab": {
          "base_uri": "https://localhost:8080/"
        },
        "outputId": "a321c695-bfa3-46a1-f722-136537e062e1"
      },
      "execution_count": 16,
      "outputs": [
        {
          "output_type": "execute_result",
          "data": {
            "text/plain": [
              "id\n",
              "0      [1\\n00:00:55,279 --> 00:01:07,279\\n<font color...\n",
              "1      [1\\n00:01:54,281 --> 00:01:55,698\\nHey!\\n, 2\\n...\n",
              "2      [1\\n00:00:15,089 --> 00:00:21,229\\nResync: Xen...\n",
              "3      [1\\n00:00:17,610 --> 00:00:22,610\\n- <i><font ...\n",
              "4      [1\\n00:00:27,240 --> 00:00:30,879\\n<i>Oh, I co...\n",
              "                             ...                        \n",
              "236                                                 None\n",
              "237                                                 None\n",
              "238                                                 None\n",
              "239                                                 None\n",
              "240                                                 None\n",
              "Name: subs, Length: 238, dtype: object"
            ]
          },
          "metadata": {},
          "execution_count": 16
        }
      ]
    },
    {
      "cell_type": "code",
      "source": [
        "#удаляем пропуски\n",
        "df = df.dropna().reset_index(drop=True)"
      ],
      "metadata": {
        "id": "R7URjKeJNDoN"
      },
      "execution_count": 17,
      "outputs": []
    },
    {
      "cell_type": "code",
      "source": [
        "df"
      ],
      "metadata": {
        "id": "eN9D-Ek2HoCu",
        "colab": {
          "base_uri": "https://localhost:8080/",
          "height": 423
        },
        "outputId": "bc92e2e8-ff6c-4340-c5d7-488d39d2c2d8"
      },
      "execution_count": 18,
      "outputs": [
        {
          "output_type": "execute_result",
          "data": {
            "text/plain": [
              "                                Movie  Level  \\\n",
              "0           10_Cloverfield_lane(2016)      2   \n",
              "1    10_things_I_hate_about_you(1999)      2   \n",
              "2                A_knights_tale(2001)      3   \n",
              "3                A_star_is_born(2018)      3   \n",
              "4                       Aladdin(1992)      1   \n",
              "..                                ...    ...   \n",
              "225   Suits.S03E06.720p.HDTV.x264-mSD      4   \n",
              "226        Suits.S03E07.HDTV.x264-mSD      4   \n",
              "227   Suits.S03E08.480p.HDTV.x264-mSD      4   \n",
              "228   Suits.S03E09.480p.HDTV.x264-mSD      4   \n",
              "229        Suits.S03E10.HDTV.x264-mSD      4   \n",
              "\n",
              "                                                  subs  \n",
              "0    [1\\n00:00:55,279 --> 00:01:07,279\\n<font color...  \n",
              "1    [1\\n00:01:54,281 --> 00:01:55,698\\nHey!\\n, 2\\n...  \n",
              "2    [1\\n00:00:15,089 --> 00:00:21,229\\nResync: Xen...  \n",
              "3    [1\\n00:00:17,610 --> 00:00:22,610\\n- <i><font ...  \n",
              "4    [1\\n00:00:27,240 --> 00:00:30,879\\n<i>Oh, I co...  \n",
              "..                                                 ...  \n",
              "225  [1\\n00:00:01,383 --> 00:00:02,751\\nI lost Ava ...  \n",
              "226  [1\\n00:00:00,052 --> 00:00:01,352\\nPreviously ...  \n",
              "227  [1\\n00:00:01,436 --> 00:00:03,028\\nI get Ava H...  \n",
              "228  [1\\n00:00:00,024 --> 00:00:01,478\\nPreviously ...  \n",
              "229  [1\\n00:00:00,015 --> 00:00:01,196\\nPreviously ...  \n",
              "\n",
              "[230 rows x 3 columns]"
            ],
            "text/html": [
              "\n",
              "  <div id=\"df-90f580cf-eca2-462e-b30f-a3c90cb900b0\">\n",
              "    <div class=\"colab-df-container\">\n",
              "      <div>\n",
              "<style scoped>\n",
              "    .dataframe tbody tr th:only-of-type {\n",
              "        vertical-align: middle;\n",
              "    }\n",
              "\n",
              "    .dataframe tbody tr th {\n",
              "        vertical-align: top;\n",
              "    }\n",
              "\n",
              "    .dataframe thead th {\n",
              "        text-align: right;\n",
              "    }\n",
              "</style>\n",
              "<table border=\"1\" class=\"dataframe\">\n",
              "  <thead>\n",
              "    <tr style=\"text-align: right;\">\n",
              "      <th></th>\n",
              "      <th>Movie</th>\n",
              "      <th>Level</th>\n",
              "      <th>subs</th>\n",
              "    </tr>\n",
              "  </thead>\n",
              "  <tbody>\n",
              "    <tr>\n",
              "      <th>0</th>\n",
              "      <td>10_Cloverfield_lane(2016)</td>\n",
              "      <td>2</td>\n",
              "      <td>[1\\n00:00:55,279 --&gt; 00:01:07,279\\n&lt;font color...</td>\n",
              "    </tr>\n",
              "    <tr>\n",
              "      <th>1</th>\n",
              "      <td>10_things_I_hate_about_you(1999)</td>\n",
              "      <td>2</td>\n",
              "      <td>[1\\n00:01:54,281 --&gt; 00:01:55,698\\nHey!\\n, 2\\n...</td>\n",
              "    </tr>\n",
              "    <tr>\n",
              "      <th>2</th>\n",
              "      <td>A_knights_tale(2001)</td>\n",
              "      <td>3</td>\n",
              "      <td>[1\\n00:00:15,089 --&gt; 00:00:21,229\\nResync: Xen...</td>\n",
              "    </tr>\n",
              "    <tr>\n",
              "      <th>3</th>\n",
              "      <td>A_star_is_born(2018)</td>\n",
              "      <td>3</td>\n",
              "      <td>[1\\n00:00:17,610 --&gt; 00:00:22,610\\n- &lt;i&gt;&lt;font ...</td>\n",
              "    </tr>\n",
              "    <tr>\n",
              "      <th>4</th>\n",
              "      <td>Aladdin(1992)</td>\n",
              "      <td>1</td>\n",
              "      <td>[1\\n00:00:27,240 --&gt; 00:00:30,879\\n&lt;i&gt;Oh, I co...</td>\n",
              "    </tr>\n",
              "    <tr>\n",
              "      <th>...</th>\n",
              "      <td>...</td>\n",
              "      <td>...</td>\n",
              "      <td>...</td>\n",
              "    </tr>\n",
              "    <tr>\n",
              "      <th>225</th>\n",
              "      <td>Suits.S03E06.720p.HDTV.x264-mSD</td>\n",
              "      <td>4</td>\n",
              "      <td>[1\\n00:00:01,383 --&gt; 00:00:02,751\\nI lost Ava ...</td>\n",
              "    </tr>\n",
              "    <tr>\n",
              "      <th>226</th>\n",
              "      <td>Suits.S03E07.HDTV.x264-mSD</td>\n",
              "      <td>4</td>\n",
              "      <td>[1\\n00:00:00,052 --&gt; 00:00:01,352\\nPreviously ...</td>\n",
              "    </tr>\n",
              "    <tr>\n",
              "      <th>227</th>\n",
              "      <td>Suits.S03E08.480p.HDTV.x264-mSD</td>\n",
              "      <td>4</td>\n",
              "      <td>[1\\n00:00:01,436 --&gt; 00:00:03,028\\nI get Ava H...</td>\n",
              "    </tr>\n",
              "    <tr>\n",
              "      <th>228</th>\n",
              "      <td>Suits.S03E09.480p.HDTV.x264-mSD</td>\n",
              "      <td>4</td>\n",
              "      <td>[1\\n00:00:00,024 --&gt; 00:00:01,478\\nPreviously ...</td>\n",
              "    </tr>\n",
              "    <tr>\n",
              "      <th>229</th>\n",
              "      <td>Suits.S03E10.HDTV.x264-mSD</td>\n",
              "      <td>4</td>\n",
              "      <td>[1\\n00:00:00,015 --&gt; 00:00:01,196\\nPreviously ...</td>\n",
              "    </tr>\n",
              "  </tbody>\n",
              "</table>\n",
              "<p>230 rows × 3 columns</p>\n",
              "</div>\n",
              "      <button class=\"colab-df-convert\" onclick=\"convertToInteractive('df-90f580cf-eca2-462e-b30f-a3c90cb900b0')\"\n",
              "              title=\"Convert this dataframe to an interactive table.\"\n",
              "              style=\"display:none;\">\n",
              "        \n",
              "  <svg xmlns=\"http://www.w3.org/2000/svg\" height=\"24px\"viewBox=\"0 0 24 24\"\n",
              "       width=\"24px\">\n",
              "    <path d=\"M0 0h24v24H0V0z\" fill=\"none\"/>\n",
              "    <path d=\"M18.56 5.44l.94 2.06.94-2.06 2.06-.94-2.06-.94-.94-2.06-.94 2.06-2.06.94zm-11 1L8.5 8.5l.94-2.06 2.06-.94-2.06-.94L8.5 2.5l-.94 2.06-2.06.94zm10 10l.94 2.06.94-2.06 2.06-.94-2.06-.94-.94-2.06-.94 2.06-2.06.94z\"/><path d=\"M17.41 7.96l-1.37-1.37c-.4-.4-.92-.59-1.43-.59-.52 0-1.04.2-1.43.59L10.3 9.45l-7.72 7.72c-.78.78-.78 2.05 0 2.83L4 21.41c.39.39.9.59 1.41.59.51 0 1.02-.2 1.41-.59l7.78-7.78 2.81-2.81c.8-.78.8-2.07 0-2.86zM5.41 20L4 18.59l7.72-7.72 1.47 1.35L5.41 20z\"/>\n",
              "  </svg>\n",
              "      </button>\n",
              "      \n",
              "  <style>\n",
              "    .colab-df-container {\n",
              "      display:flex;\n",
              "      flex-wrap:wrap;\n",
              "      gap: 12px;\n",
              "    }\n",
              "\n",
              "    .colab-df-convert {\n",
              "      background-color: #E8F0FE;\n",
              "      border: none;\n",
              "      border-radius: 50%;\n",
              "      cursor: pointer;\n",
              "      display: none;\n",
              "      fill: #1967D2;\n",
              "      height: 32px;\n",
              "      padding: 0 0 0 0;\n",
              "      width: 32px;\n",
              "    }\n",
              "\n",
              "    .colab-df-convert:hover {\n",
              "      background-color: #E2EBFA;\n",
              "      box-shadow: 0px 1px 2px rgba(60, 64, 67, 0.3), 0px 1px 3px 1px rgba(60, 64, 67, 0.15);\n",
              "      fill: #174EA6;\n",
              "    }\n",
              "\n",
              "    [theme=dark] .colab-df-convert {\n",
              "      background-color: #3B4455;\n",
              "      fill: #D2E3FC;\n",
              "    }\n",
              "\n",
              "    [theme=dark] .colab-df-convert:hover {\n",
              "      background-color: #434B5C;\n",
              "      box-shadow: 0px 1px 3px 1px rgba(0, 0, 0, 0.15);\n",
              "      filter: drop-shadow(0px 1px 2px rgba(0, 0, 0, 0.3));\n",
              "      fill: #FFFFFF;\n",
              "    }\n",
              "  </style>\n",
              "\n",
              "      <script>\n",
              "        const buttonEl =\n",
              "          document.querySelector('#df-90f580cf-eca2-462e-b30f-a3c90cb900b0 button.colab-df-convert');\n",
              "        buttonEl.style.display =\n",
              "          google.colab.kernel.accessAllowed ? 'block' : 'none';\n",
              "\n",
              "        async function convertToInteractive(key) {\n",
              "          const element = document.querySelector('#df-90f580cf-eca2-462e-b30f-a3c90cb900b0');\n",
              "          const dataTable =\n",
              "            await google.colab.kernel.invokeFunction('convertToInteractive',\n",
              "                                                     [key], {});\n",
              "          if (!dataTable) return;\n",
              "\n",
              "          const docLinkHtml = 'Like what you see? Visit the ' +\n",
              "            '<a target=\"_blank\" href=https://colab.research.google.com/notebooks/data_table.ipynb>data table notebook</a>'\n",
              "            + ' to learn more about interactive tables.';\n",
              "          element.innerHTML = '';\n",
              "          dataTable['output_type'] = 'display_data';\n",
              "          await google.colab.output.renderOutput(dataTable, element);\n",
              "          const docLink = document.createElement('div');\n",
              "          docLink.innerHTML = docLinkHtml;\n",
              "          element.appendChild(docLink);\n",
              "        }\n",
              "      </script>\n",
              "    </div>\n",
              "  </div>\n",
              "  "
            ]
          },
          "metadata": {},
          "execution_count": 18
        }
      ]
    },
    {
      "cell_type": "markdown",
      "source": [
        "###Оценка дисбаланса классов уровней"
      ],
      "metadata": {
        "id": "1Jpj9-fA4h1K"
      }
    },
    {
      "cell_type": "code",
      "source": [
        "df['Level'].value_counts()"
      ],
      "metadata": {
        "colab": {
          "base_uri": "https://localhost:8080/"
        },
        "id": "cgkQRkDc3d0w",
        "outputId": "778ea6a1-72b2-492b-96c2-d7c4b1f81b39"
      },
      "execution_count": 19,
      "outputs": [
        {
          "output_type": "execute_result",
          "data": {
            "text/plain": [
              "3    105\n",
              "2     55\n",
              "4     39\n",
              "1     31\n",
              "Name: Level, dtype: int64"
            ]
          },
          "metadata": {},
          "execution_count": 19
        }
      ]
    },
    {
      "cell_type": "markdown",
      "source": [
        "###Разделение данных на обучающую и тестовую выборки"
      ],
      "metadata": {
        "id": "NJy8-kV-1ZDt"
      }
    },
    {
      "cell_type": "code",
      "source": [
        "STATE = 0\n",
        "df_train, df_test = train_test_split(df, random_state=STATE,\n",
        "                                    test_size=0.25,\n",
        "                                    stratify=df['Level'])\n",
        "X = df_train.drop(['Level','Movie'], axis=1)\n",
        "y = df_train['Level']\n",
        "X_test = df_test.drop(['Level','Movie'], axis=1)\n",
        "y_test = df_test['Level']\n",
        "print(f'Размер обучающей выборки: {X.shape, y.shape}')\n",
        "print(f'Размер тестовой выборки: {X_test.shape, y_test.shape}')"
      ],
      "metadata": {
        "colab": {
          "base_uri": "https://localhost:8080/"
        },
        "id": "nIaAqXTqjcZ4",
        "outputId": "e6d55e1c-0a21-4d09-ca49-a1eebfdb7ae9"
      },
      "execution_count": 20,
      "outputs": [
        {
          "output_type": "stream",
          "name": "stdout",
          "text": [
            "Размер обучающей выборки: ((172, 1), (172,))\n",
            "Размер тестовой выборки: ((58, 1), (58,))\n"
          ]
        }
      ]
    },
    {
      "cell_type": "markdown",
      "source": [
        "###Очищаем субтитры"
      ],
      "metadata": {
        "id": "F1bs_FYK1NWK"
      }
    },
    {
      "cell_type": "code",
      "source": [
        "# зададим регулярные выражения для очистки текста\n",
        "HTML = r'<.*?>' # html тэги меняем на пробел\n",
        "TAG = r'{.*?}' # тэги меняем на пробел\n",
        "COMMENTS = r'[\\(\\[][A-Za-z ]+[\\)\\]]' # комменты в скобках меняем на пробел\n",
        "LETTERS = r'[^\\w\\s]' # все что не буквы меняем на пробел\n",
        "SPACES = r'([ ])\\1+' # повторяющиеся пробелы меняем на один пробел\n",
        "DOTS = r'[\\.]+' # многоточие меняем на точку\n",
        "SYMB = r\"[^\\w\\d'\\s]\" # знаки препинания кроме апострофа\n",
        "def clean_subs(subs):\n",
        "  \"\"\"очистки субтитров\"\"\"\n",
        "  subs = subs[1:] # удаляем первый рекламный субтитр\n",
        "  txt = re.sub(HTML, ' ', subs.text) # html тэги меняем на пробел\n",
        "  txt = re.sub(COMMENTS, ' ', txt) # комменты в скобках меняем на пробел\n",
        "  txt = re.sub(LETTERS, ' ', txt) # все что не буквы меняем на пробел\n",
        "  txt = re.sub(DOTS, r'.', txt) # многоточие меняем на точку\n",
        "  txt = re.sub(SPACES, r'\\1', txt) # повторяющиеся пробелы меняем на один пробел\n",
        "  txt = re.sub(SYMB, '', txt) # знаки препинания кроме апострофа на пустую строку\n",
        "  txt = re.sub('www', '', txt) # кое-где остаётся www, то же меняем на пустую строку\n",
        "  txt = txt.lstrip().rstrip().replace(\"\\n\",\"\") # обрезка пробелов слева\n",
        "  txt = txt.encode('ascii', 'ignore').decode() # удаляем все что не ascii символы\n",
        "  txt = txt.lower() # текст в нижний регистр\n",
        "  txt = ' '.join(txt.split())\n",
        "  return txt"
      ],
      "metadata": {
        "id": "9cPutFs0MnsF"
      },
      "execution_count": 21,
      "outputs": []
    },
    {
      "cell_type": "code",
      "source": [
        "%%time\n",
        "X['subs'] = X['subs'].apply(clean_subs)\n",
        "X['subs']"
      ],
      "metadata": {
        "id": "lt-po1-2M32x",
        "colab": {
          "base_uri": "https://localhost:8080/"
        },
        "outputId": "8a68a1b7-baa8-429a-cf5f-27b7a35239ba"
      },
      "execution_count": 22,
      "outputs": [
        {
          "output_type": "stream",
          "name": "stdout",
          "text": [
            "CPU times: user 1.19 s, sys: 3.61 ms, total: 1.19 s\n",
            "Wall time: 1.21 s\n"
          ]
        },
        {
          "output_type": "execute_result",
          "data": {
            "text/plain": [
              "20     our first guest he s made a career outof being...\n",
              "163    i ever brought into the firm i have stacked my...\n",
              "28     rhythmic thumping musicplaying my planetarraki...\n",
              "35     my name s forrest forrest gump do you want a c...\n",
              "166    i am placing harvey specteron immediate unpaid...\n",
              "                             ...                        \n",
              "226    it s going upon the wall tomorrow and this is ...\n",
              "26     what gives you that idea you want to know the ...\n",
              "57     thank you so how does it feelbeing back after ...\n",
              "220    you win you get what you want you lose you sta...\n",
              "119    our planet looked very differentfrom what it d...\n",
              "Name: subs, Length: 172, dtype: object"
            ]
          },
          "metadata": {},
          "execution_count": 22
        }
      ]
    },
    {
      "cell_type": "markdown",
      "source": [
        "###Загрузка словарей"
      ],
      "metadata": {
        "id": "Yw3BdvXDiKBS"
      }
    },
    {
      "cell_type": "markdown",
      "source": [
        "c загрузкой pdf возникли проблемы, предварительно через сторонее ПО конвертировал словари в csv  "
      ],
      "metadata": {
        "id": "Vubn6toH03ch"
      }
    },
    {
      "cell_type": "code",
      "source": [
        "def convert_to_dict(df):\n",
        "  \"\"\"конвертирует словари\"\"\"\n",
        "  df.loc[-1] = df.columns.values\n",
        "  df.sort_index(inplace=True)\n",
        "  df.reset_index(drop=True, inplace=True)\n",
        "  df.columns = [0]\n",
        "  df[0]=df[0].str.split(' ').str[0]\n",
        "  df[0] =df[0].str.lower()\n",
        "  df[0].replace(LETTERS,'',regex=True, inplace = True)\n",
        "\n",
        "levels = ['A2','B1','B2','C1']\n",
        "vlev = {}\n",
        "for level in levels:\n",
        "  f = f'{PATH}/Oxford_CEFR_level/{level}.csv'\n",
        "  df = pd.read_csv(f)\n",
        "  convert_to_dict(df)\n",
        "  vlev[level]=set(list(df[0]))"
      ],
      "metadata": {
        "id": "xsqyXB8-h2Fa"
      },
      "execution_count": 23,
      "outputs": []
    },
    {
      "cell_type": "markdown",
      "source": [
        "###Оценка дисбаланса классов словарей"
      ],
      "metadata": {
        "id": "C5CtGwQf18eo"
      }
    },
    {
      "cell_type": "code",
      "source": [
        "for level in levels:\n",
        "  print(level,'=',len(vlev[level]))"
      ],
      "metadata": {
        "colab": {
          "base_uri": "https://localhost:8080/"
        },
        "id": "EayWq6O_h2Mq",
        "outputId": "179f9d52-553d-44a3-b38f-3cc31d8abeae"
      },
      "execution_count": 24,
      "outputs": [
        {
          "output_type": "stream",
          "name": "stdout",
          "text": [
            "A2 = 865\n",
            "B1 = 806\n",
            "B2 = 727\n",
            "C1 = 1314\n"
          ]
        }
      ]
    },
    {
      "cell_type": "markdown",
      "source": [
        "###Добавление признаков"
      ],
      "metadata": {
        "id": "qjpkWK-H2Cew"
      }
    },
    {
      "cell_type": "code",
      "source": [
        "def count_percent_words_dictionar(sub):\n",
        "  \"\"\"считает процент лем в словарях\"\"\"\n",
        "  nlp = spacy.load('en_core_web_sm' )\n",
        "  doc = nlp(sub)\n",
        "  lms = set([token.lemma_ for token in doc])\n",
        "  lem_per = [(len(lms&vlev[level])/len(lms))*100 for level in levels]\n",
        "  return lem_per"
      ],
      "metadata": {
        "id": "NPBh4488i0eY"
      },
      "execution_count": 25,
      "outputs": []
    },
    {
      "cell_type": "code",
      "source": [
        "%%time\n",
        "levpercent = [f'{_}+percent' for _ in levels]\n",
        "X.loc[:,levpercent] = X['subs'].apply(count_percent_words_dictionar).to_list()\n",
        "X"
      ],
      "metadata": {
        "colab": {
          "base_uri": "https://localhost:8080/",
          "height": 460
        },
        "id": "4YeE3MUzjz50",
        "outputId": "21ff60bc-5a72-41af-fdfa-0ea2f76be805"
      },
      "execution_count": 26,
      "outputs": [
        {
          "output_type": "stream",
          "name": "stdout",
          "text": [
            "CPU times: user 6min 3s, sys: 7.37 s, total: 6min 10s\n",
            "Wall time: 6min 25s\n"
          ]
        },
        {
          "output_type": "execute_result",
          "data": {
            "text/plain": [
              "                                                  subs  A2+percent  \\\n",
              "20   our first guest he s made a career outof being...   14.931238   \n",
              "163  i ever brought into the firm i have stacked my...   12.508986   \n",
              "28   rhythmic thumping musicplaying my planetarraki...   14.078550   \n",
              "35   my name s forrest forrest gump do you want a c...   14.957507   \n",
              "166  i am placing harvey specteron immediate unpaid...   10.844200   \n",
              "..                                                 ...         ...   \n",
              "226  it s going upon the wall tomorrow and this is ...   11.638796   \n",
              "26   what gives you that idea you want to know the ...   14.174107   \n",
              "57   thank you so how does it feelbeing back after ...   16.433240   \n",
              "220  you win you get what you want you lose you sta...   11.776719   \n",
              "119  our planet looked very differentfrom what it d...   15.940224   \n",
              "\n",
              "     B1+percent  B2+percent  C1+percent  \n",
              "20     8.840864    5.697446    3.585462  \n",
              "163    7.620417    5.607477    2.300503  \n",
              "28     8.338369    7.129909    3.987915  \n",
              "35     8.498584    4.815864    2.492918  \n",
              "166    6.794784    5.833905    3.019904  \n",
              "..          ...         ...         ...  \n",
              "226    7.491639    5.217391    3.277592  \n",
              "26     8.816964    5.970982    3.683036  \n",
              "57     9.803922    8.590103    4.388422  \n",
              "220    7.079646    5.582029    2.927161  \n",
              "119   10.211706    8.717310    4.234122  \n",
              "\n",
              "[172 rows x 5 columns]"
            ],
            "text/html": [
              "\n",
              "  <div id=\"df-4dfd3c0d-9d37-4bf9-9a3c-c208b2418a68\">\n",
              "    <div class=\"colab-df-container\">\n",
              "      <div>\n",
              "<style scoped>\n",
              "    .dataframe tbody tr th:only-of-type {\n",
              "        vertical-align: middle;\n",
              "    }\n",
              "\n",
              "    .dataframe tbody tr th {\n",
              "        vertical-align: top;\n",
              "    }\n",
              "\n",
              "    .dataframe thead th {\n",
              "        text-align: right;\n",
              "    }\n",
              "</style>\n",
              "<table border=\"1\" class=\"dataframe\">\n",
              "  <thead>\n",
              "    <tr style=\"text-align: right;\">\n",
              "      <th></th>\n",
              "      <th>subs</th>\n",
              "      <th>A2+percent</th>\n",
              "      <th>B1+percent</th>\n",
              "      <th>B2+percent</th>\n",
              "      <th>C1+percent</th>\n",
              "    </tr>\n",
              "  </thead>\n",
              "  <tbody>\n",
              "    <tr>\n",
              "      <th>20</th>\n",
              "      <td>our first guest he s made a career outof being...</td>\n",
              "      <td>14.931238</td>\n",
              "      <td>8.840864</td>\n",
              "      <td>5.697446</td>\n",
              "      <td>3.585462</td>\n",
              "    </tr>\n",
              "    <tr>\n",
              "      <th>163</th>\n",
              "      <td>i ever brought into the firm i have stacked my...</td>\n",
              "      <td>12.508986</td>\n",
              "      <td>7.620417</td>\n",
              "      <td>5.607477</td>\n",
              "      <td>2.300503</td>\n",
              "    </tr>\n",
              "    <tr>\n",
              "      <th>28</th>\n",
              "      <td>rhythmic thumping musicplaying my planetarraki...</td>\n",
              "      <td>14.078550</td>\n",
              "      <td>8.338369</td>\n",
              "      <td>7.129909</td>\n",
              "      <td>3.987915</td>\n",
              "    </tr>\n",
              "    <tr>\n",
              "      <th>35</th>\n",
              "      <td>my name s forrest forrest gump do you want a c...</td>\n",
              "      <td>14.957507</td>\n",
              "      <td>8.498584</td>\n",
              "      <td>4.815864</td>\n",
              "      <td>2.492918</td>\n",
              "    </tr>\n",
              "    <tr>\n",
              "      <th>166</th>\n",
              "      <td>i am placing harvey specteron immediate unpaid...</td>\n",
              "      <td>10.844200</td>\n",
              "      <td>6.794784</td>\n",
              "      <td>5.833905</td>\n",
              "      <td>3.019904</td>\n",
              "    </tr>\n",
              "    <tr>\n",
              "      <th>...</th>\n",
              "      <td>...</td>\n",
              "      <td>...</td>\n",
              "      <td>...</td>\n",
              "      <td>...</td>\n",
              "      <td>...</td>\n",
              "    </tr>\n",
              "    <tr>\n",
              "      <th>226</th>\n",
              "      <td>it s going upon the wall tomorrow and this is ...</td>\n",
              "      <td>11.638796</td>\n",
              "      <td>7.491639</td>\n",
              "      <td>5.217391</td>\n",
              "      <td>3.277592</td>\n",
              "    </tr>\n",
              "    <tr>\n",
              "      <th>26</th>\n",
              "      <td>what gives you that idea you want to know the ...</td>\n",
              "      <td>14.174107</td>\n",
              "      <td>8.816964</td>\n",
              "      <td>5.970982</td>\n",
              "      <td>3.683036</td>\n",
              "    </tr>\n",
              "    <tr>\n",
              "      <th>57</th>\n",
              "      <td>thank you so how does it feelbeing back after ...</td>\n",
              "      <td>16.433240</td>\n",
              "      <td>9.803922</td>\n",
              "      <td>8.590103</td>\n",
              "      <td>4.388422</td>\n",
              "    </tr>\n",
              "    <tr>\n",
              "      <th>220</th>\n",
              "      <td>you win you get what you want you lose you sta...</td>\n",
              "      <td>11.776719</td>\n",
              "      <td>7.079646</td>\n",
              "      <td>5.582029</td>\n",
              "      <td>2.927161</td>\n",
              "    </tr>\n",
              "    <tr>\n",
              "      <th>119</th>\n",
              "      <td>our planet looked very differentfrom what it d...</td>\n",
              "      <td>15.940224</td>\n",
              "      <td>10.211706</td>\n",
              "      <td>8.717310</td>\n",
              "      <td>4.234122</td>\n",
              "    </tr>\n",
              "  </tbody>\n",
              "</table>\n",
              "<p>172 rows × 5 columns</p>\n",
              "</div>\n",
              "      <button class=\"colab-df-convert\" onclick=\"convertToInteractive('df-4dfd3c0d-9d37-4bf9-9a3c-c208b2418a68')\"\n",
              "              title=\"Convert this dataframe to an interactive table.\"\n",
              "              style=\"display:none;\">\n",
              "        \n",
              "  <svg xmlns=\"http://www.w3.org/2000/svg\" height=\"24px\"viewBox=\"0 0 24 24\"\n",
              "       width=\"24px\">\n",
              "    <path d=\"M0 0h24v24H0V0z\" fill=\"none\"/>\n",
              "    <path d=\"M18.56 5.44l.94 2.06.94-2.06 2.06-.94-2.06-.94-.94-2.06-.94 2.06-2.06.94zm-11 1L8.5 8.5l.94-2.06 2.06-.94-2.06-.94L8.5 2.5l-.94 2.06-2.06.94zm10 10l.94 2.06.94-2.06 2.06-.94-2.06-.94-.94-2.06-.94 2.06-2.06.94z\"/><path d=\"M17.41 7.96l-1.37-1.37c-.4-.4-.92-.59-1.43-.59-.52 0-1.04.2-1.43.59L10.3 9.45l-7.72 7.72c-.78.78-.78 2.05 0 2.83L4 21.41c.39.39.9.59 1.41.59.51 0 1.02-.2 1.41-.59l7.78-7.78 2.81-2.81c.8-.78.8-2.07 0-2.86zM5.41 20L4 18.59l7.72-7.72 1.47 1.35L5.41 20z\"/>\n",
              "  </svg>\n",
              "      </button>\n",
              "      \n",
              "  <style>\n",
              "    .colab-df-container {\n",
              "      display:flex;\n",
              "      flex-wrap:wrap;\n",
              "      gap: 12px;\n",
              "    }\n",
              "\n",
              "    .colab-df-convert {\n",
              "      background-color: #E8F0FE;\n",
              "      border: none;\n",
              "      border-radius: 50%;\n",
              "      cursor: pointer;\n",
              "      display: none;\n",
              "      fill: #1967D2;\n",
              "      height: 32px;\n",
              "      padding: 0 0 0 0;\n",
              "      width: 32px;\n",
              "    }\n",
              "\n",
              "    .colab-df-convert:hover {\n",
              "      background-color: #E2EBFA;\n",
              "      box-shadow: 0px 1px 2px rgba(60, 64, 67, 0.3), 0px 1px 3px 1px rgba(60, 64, 67, 0.15);\n",
              "      fill: #174EA6;\n",
              "    }\n",
              "\n",
              "    [theme=dark] .colab-df-convert {\n",
              "      background-color: #3B4455;\n",
              "      fill: #D2E3FC;\n",
              "    }\n",
              "\n",
              "    [theme=dark] .colab-df-convert:hover {\n",
              "      background-color: #434B5C;\n",
              "      box-shadow: 0px 1px 3px 1px rgba(0, 0, 0, 0.15);\n",
              "      filter: drop-shadow(0px 1px 2px rgba(0, 0, 0, 0.3));\n",
              "      fill: #FFFFFF;\n",
              "    }\n",
              "  </style>\n",
              "\n",
              "      <script>\n",
              "        const buttonEl =\n",
              "          document.querySelector('#df-4dfd3c0d-9d37-4bf9-9a3c-c208b2418a68 button.colab-df-convert');\n",
              "        buttonEl.style.display =\n",
              "          google.colab.kernel.accessAllowed ? 'block' : 'none';\n",
              "\n",
              "        async function convertToInteractive(key) {\n",
              "          const element = document.querySelector('#df-4dfd3c0d-9d37-4bf9-9a3c-c208b2418a68');\n",
              "          const dataTable =\n",
              "            await google.colab.kernel.invokeFunction('convertToInteractive',\n",
              "                                                     [key], {});\n",
              "          if (!dataTable) return;\n",
              "\n",
              "          const docLinkHtml = 'Like what you see? Visit the ' +\n",
              "            '<a target=\"_blank\" href=https://colab.research.google.com/notebooks/data_table.ipynb>data table notebook</a>'\n",
              "            + ' to learn more about interactive tables.';\n",
              "          element.innerHTML = '';\n",
              "          dataTable['output_type'] = 'display_data';\n",
              "          await google.colab.output.renderOutput(dataTable, element);\n",
              "          const docLink = document.createElement('div');\n",
              "          docLink.innerHTML = docLinkHtml;\n",
              "          element.appendChild(docLink);\n",
              "        }\n",
              "      </script>\n",
              "    </div>\n",
              "  </div>\n",
              "  "
            ]
          },
          "metadata": {},
          "execution_count": 26
        }
      ]
    },
    {
      "cell_type": "markdown",
      "source": [
        "###Анализ признаков"
      ],
      "metadata": {
        "id": "vETZtH0W2Lmj"
      }
    },
    {
      "cell_type": "code",
      "source": [
        "for lev in range(1,5):\n",
        "  print(f'Level-{lev}')\n",
        "  print(X[y==lev][levpercent].describe().round(2))\n",
        "  print()"
      ],
      "metadata": {
        "colab": {
          "base_uri": "https://localhost:8080/"
        },
        "id": "uPskJSW5p2Z1",
        "outputId": "ac819f6a-324b-49c4-adde-e8cd0fc87e54"
      },
      "execution_count": 27,
      "outputs": [
        {
          "output_type": "stream",
          "name": "stdout",
          "text": [
            "Level-1\n",
            "       A2+percent  B1+percent  B2+percent  C1+percent\n",
            "count       23.00       23.00       23.00       23.00\n",
            "mean        15.52        8.90        6.30        3.42\n",
            "std          2.22        1.38        1.27        1.03\n",
            "min         11.28        6.42        4.01        2.11\n",
            "25%         14.33        7.80        5.41        2.61\n",
            "50%         16.02        8.99        6.12        3.33\n",
            "75%         16.58        9.75        7.44        3.98\n",
            "max         19.50       12.14        8.19        6.33\n",
            "\n",
            "Level-2\n",
            "       A2+percent  B1+percent  B2+percent  C1+percent\n",
            "count       41.00       41.00       41.00       41.00\n",
            "mean        15.37        9.11        6.48        3.33\n",
            "std          1.69        1.13        1.17        0.70\n",
            "min         12.08        6.57        4.75        1.23\n",
            "25%         14.37        8.31        5.65        2.83\n",
            "50%         15.13        9.14        6.34        3.43\n",
            "75%         16.43       10.03        7.15        3.79\n",
            "max         18.72       11.90        8.98        4.57\n",
            "\n",
            "Level-3\n",
            "       A2+percent  B1+percent  B2+percent  C1+percent\n",
            "count       79.00       79.00       79.00       79.00\n",
            "mean        13.62        8.25        6.13        3.16\n",
            "std          2.23        1.54        1.12        0.99\n",
            "min          9.41        6.06        4.18        1.50\n",
            "25%         11.99        7.25        5.43        2.50\n",
            "50%         13.31        7.87        5.98        3.03\n",
            "75%         14.89        8.86        6.79        3.62\n",
            "max         19.92       13.23        9.20        6.62\n",
            "\n",
            "Level-4\n",
            "       A2+percent  B1+percent  B2+percent  C1+percent\n",
            "count       29.00       29.00       29.00       29.00\n",
            "mean        13.24        8.05        5.86        2.84\n",
            "std          2.22        1.49        0.73        0.52\n",
            "min          8.51        5.53        4.84        2.03\n",
            "25%         11.89        7.17        5.30        2.50\n",
            "50%         12.35        7.49        5.71        2.73\n",
            "75%         13.46        8.37        6.51        3.13\n",
            "max         18.34       11.46        7.54        3.99\n",
            "\n"
          ]
        }
      ]
    },
    {
      "cell_type": "code",
      "source": [
        "title='Распределение %слов в зависимости от уровня сложности'\n",
        "ax = X.groupby(y).boxplot(subplots=False,\n",
        "                     fontsize=8,\n",
        "                     vert=False,\n",
        "                     grid =True,\n",
        "                     )\n",
        "ax.set_title(title)\n",
        "plt.show()"
      ],
      "metadata": {
        "id": "Ue5DzyJNVa9h",
        "outputId": "daad60d6-6a69-4f6c-e5bc-1e605e6a1daa",
        "colab": {
          "base_uri": "https://localhost:8080/",
          "height": 448
        }
      },
      "execution_count": 28,
      "outputs": [
        {
          "output_type": "display_data",
          "data": {
            "text/plain": [
              "<Figure size 640x480 with 1 Axes>"
            ],
            "image/png": "[encoded data removed]"
          },
          "metadata": {}
        }
      ]
    },
    {
      "cell_type": "markdown",
      "source": [
        "Распределение уровня сложности слов почти не зависит от уровня сложности субтитров"
      ],
      "metadata": {
        "id": "RKvVng797_UK"
      }
    },
    {
      "cell_type": "markdown",
      "source": [
        "##Выбор модели"
      ],
      "metadata": {
        "id": "KYRd9XIW26Ct"
      }
    },
    {
      "cell_type": "markdown",
      "source": [
        "###Выбор метрики качества\n",
        "В связи с тем, что:в данных обнаружен дисбаланс классов;\n",
        "в текущей задаче является важным как точность ('precision') так и полнота ('recall') предсказания модели;\n",
        "лучшей метрикой для подгонки и оценки модели принимается средне-гармоническое точности и полноты - F1-мера. Для мультиклассификации будет использована взвешенная F1-мера (F1_weighted)."
      ],
      "metadata": {
        "id": "HTPWn1o49bLB"
      }
    },
    {
      "cell_type": "markdown",
      "source": [
        "### Создание пайплана"
      ],
      "metadata": {
        "id": "NwHcxZBw2dN4"
      }
    },
    {
      "cell_type": "code",
      "source": [
        "report = pd.DataFrame(columns = ['model',\n",
        "                                 'classificator',\n",
        "                                 'vectorizer',\n",
        "                                 'hparams',\n",
        "                                 'F1 score'\n",
        "                                 ])"
      ],
      "metadata": {
        "id": "fdnUSb1XRpsi"
      },
      "execution_count": 29,
      "outputs": []
    },
    {
      "cell_type": "code",
      "source": [
        "a2 =  Pipeline([\n",
        "                ('selector', NumberSelector(key='A2+percent')),\n",
        "                ('standard', MinMaxScaler())\n",
        "            ])\n",
        "b1 =  Pipeline([\n",
        "                ('selector', NumberSelector(key='B1+percent')),\n",
        "                ('standard', MinMaxScaler())\n",
        "            ])\n",
        "b2 =  Pipeline([\n",
        "                ('selector', NumberSelector(key='B2+percent')),\n",
        "                ('standard', MinMaxScaler())\n",
        "            ])\n",
        "c1 =  Pipeline([\n",
        "                ('selector', NumberSelector(key='C1+percent')),\n",
        "                ('standard', MinMaxScaler())\n",
        "            ])"
      ],
      "metadata": {
        "id": "AcOFG_8TpCz9"
      },
      "execution_count": 30,
      "outputs": []
    },
    {
      "cell_type": "code",
      "source": [
        "vects = [[('vec', CountVectorizer(stop_words='english')),\n",
        "          {\n",
        "           'features__text__vec__ngram_range': [(1,2),(2,2),(1,3)],\n",
        "           'features__text__vec__min_df': [2,3,4]\n",
        "           }\n",
        "          ],\n",
        "         [('vec', TfidfVectorizer(stop_words='english')),\n",
        "{\n",
        "           'features__text__vec__ngram_range': [(1,2),(2,2),(1,3)],\n",
        "           'features__text__vec__min_df': [2,3,4]\n",
        "           }\n",
        "          ]]\n",
        "\n",
        "clfs = [[SGDClassifier(random_state=STATE),\n",
        "         {'classifier__alpha': [0.001, 0.01, 0.1]}\n",
        "         ],\n",
        "          [MultinomialNB(),\n",
        "           {'classifier__alpha': [0.5, 1]}\n",
        "         ]]"
      ],
      "metadata": {
        "id": "5awwOEYOI4fF"
      },
      "execution_count": 31,
      "outputs": []
    },
    {
      "cell_type": "markdown",
      "source": [
        "###Обучение моделей"
      ],
      "metadata": {
        "id": "3-_GGdSy2yHr"
      }
    },
    {
      "cell_type": "code",
      "source": [
        "%%time\n",
        "stratified_shuffle_split = StratifiedShuffleSplit(n_splits=6,\n",
        "                                                  test_size=0.25,\n",
        "                                                  random_state=STATE)\n",
        "for vec in vects:\n",
        "  vecpipe = Pipeline([('selector', TextSelector(key='subs')),\n",
        "                      vec[0]\n",
        "                      ])\n",
        "  vecpipe.fit_transform(X)\n",
        "  featscountvector = FeatureUnion([('text', vecpipe),\n",
        "                      ('A2+percent', a2),\n",
        "                      ('B1+percent', b1),\n",
        "                      ('B2+percent', b2),\n",
        "                      ('C1+percent', c1),\n",
        "                        ])\n",
        "\n",
        "  feature_processing = Pipeline([('feats', featscountvector)])\n",
        "  feature_processing.fit_transform(X)\n",
        "\n",
        "  for clf in clfs:\n",
        "    clfpipeline = Pipeline([\n",
        "        ('features', featscountvector),\n",
        "        ('classifier', clf[0]),\n",
        "    ])\n",
        "    hyperparameters = vec[1]|clf[1]\n",
        "    clfpipegridcv = GridSearchCV(clfpipeline,\n",
        "                                hyperparameters,\n",
        "                                cv=stratified_shuffle_split,\n",
        "                                scoring='f1_weighted'\n",
        "                                )\n",
        "    clfpipegridcv.fit(X, y)\n",
        "    report.loc[len(report)]=[clfpipegridcv.best_estimator_,\n",
        "                             str(clf[0]),\n",
        "                             str(vec[0]),\n",
        "                             str(clfpipegridcv.best_params_),\n",
        "                             clfpipegridcv.best_score_\n",
        "                             ]\n",
        "report = report.sort_values(by='F1 score',ascending=False)\n",
        "report.reset_index(drop= True , inplace= True )\n",
        "report"
      ],
      "metadata": {
        "colab": {
          "base_uri": "https://localhost:8080/",
          "height": 212
        },
        "id": "o_EVmf3HeOWQ",
        "outputId": "16959afc-db74-4f2d-95a4-41eccf39624f"
      },
      "execution_count": 32,
      "outputs": [
        {
          "output_type": "stream",
          "name": "stdout",
          "text": [
            "CPU times: user 23min 2s, sys: 47.9 s, total: 23min 50s\n",
            "Wall time: 23min 25s\n"
          ]
        },
        {
          "output_type": "execute_result",
          "data": {
            "text/plain": [
              "                                               model  \\\n",
              "0  (FeatureUnion(transformer_list=[('text',\\n    ...   \n",
              "1  (FeatureUnion(transformer_list=[('text',\\n    ...   \n",
              "2  (FeatureUnion(transformer_list=[('text',\\n    ...   \n",
              "3  (FeatureUnion(transformer_list=[('text',\\n    ...   \n",
              "\n",
              "                   classificator  \\\n",
              "0                MultinomialNB()   \n",
              "1  SGDClassifier(random_state=0)   \n",
              "2  SGDClassifier(random_state=0)   \n",
              "3                MultinomialNB()   \n",
              "\n",
              "                                       vectorizer  \\\n",
              "0  ('vec', CountVectorizer(stop_words='english'))   \n",
              "1  ('vec', TfidfVectorizer(stop_words='english'))   \n",
              "2  ('vec', CountVectorizer(stop_words='english'))   \n",
              "3  ('vec', TfidfVectorizer(stop_words='english'))   \n",
              "\n",
              "                                             hparams  F1 score  \n",
              "0  {'classifier__alpha': 1, 'features__text__vec_...  0.698449  \n",
              "1  {'classifier__alpha': 0.001, 'features__text__...  0.657722  \n",
              "2  {'classifier__alpha': 0.1, 'features__text__ve...  0.631287  \n",
              "3  {'classifier__alpha': 0.5, 'features__text__ve...  0.333369  "
            ],
            "text/html": [
              "\n",
              "  <div id=\"df-11098e8b-2ba9-4e30-b952-f77693b783d5\">\n",
              "    <div class=\"colab-df-container\">\n",
              "      <div>\n",
              "<style scoped>\n",
              "    .dataframe tbody tr th:only-of-type {\n",
              "        vertical-align: middle;\n",
              "    }\n",
              "\n",
              "    .dataframe tbody tr th {\n",
              "        vertical-align: top;\n",
              "    }\n",
              "\n",
              "    .dataframe thead th {\n",
              "        text-align: right;\n",
              "    }\n",
              "</style>\n",
              "<table border=\"1\" class=\"dataframe\">\n",
              "  <thead>\n",
              "    <tr style=\"text-align: right;\">\n",
              "      <th></th>\n",
              "      <th>model</th>\n",
              "      <th>classificator</th>\n",
              "      <th>vectorizer</th>\n",
              "      <th>hparams</th>\n",
              "      <th>F1 score</th>\n",
              "    </tr>\n",
              "  </thead>\n",
              "  <tbody>\n",
              "    <tr>\n",
              "      <th>0</th>\n",
              "      <td>(FeatureUnion(transformer_list=[('text',\\n    ...</td>\n",
              "      <td>MultinomialNB()</td>\n",
              "      <td>('vec', CountVectorizer(stop_words='english'))</td>\n",
              "      <td>{'classifier__alpha': 1, 'features__text__vec_...</td>\n",
              "      <td>0.698449</td>\n",
              "    </tr>\n",
              "    <tr>\n",
              "      <th>1</th>\n",
              "      <td>(FeatureUnion(transformer_list=[('text',\\n    ...</td>\n",
              "      <td>SGDClassifier(random_state=0)</td>\n",
              "      <td>('vec', TfidfVectorizer(stop_words='english'))</td>\n",
              "      <td>{'classifier__alpha': 0.001, 'features__text__...</td>\n",
              "      <td>0.657722</td>\n",
              "    </tr>\n",
              "    <tr>\n",
              "      <th>2</th>\n",
              "      <td>(FeatureUnion(transformer_list=[('text',\\n    ...</td>\n",
              "      <td>SGDClassifier(random_state=0)</td>\n",
              "      <td>('vec', CountVectorizer(stop_words='english'))</td>\n",
              "      <td>{'classifier__alpha': 0.1, 'features__text__ve...</td>\n",
              "      <td>0.631287</td>\n",
              "    </tr>\n",
              "    <tr>\n",
              "      <th>3</th>\n",
              "      <td>(FeatureUnion(transformer_list=[('text',\\n    ...</td>\n",
              "      <td>MultinomialNB()</td>\n",
              "      <td>('vec', TfidfVectorizer(stop_words='english'))</td>\n",
              "      <td>{'classifier__alpha': 0.5, 'features__text__ve...</td>\n",
              "      <td>0.333369</td>\n",
              "    </tr>\n",
              "  </tbody>\n",
              "</table>\n",
              "</div>\n",
              "      <button class=\"colab-df-convert\" onclick=\"convertToInteractive('df-11098e8b-2ba9-4e30-b952-f77693b783d5')\"\n",
              "              title=\"Convert this dataframe to an interactive table.\"\n",
              "              style=\"display:none;\">\n",
              "        \n",
              "  <svg xmlns=\"http://www.w3.org/2000/svg\" height=\"24px\"viewBox=\"0 0 24 24\"\n",
              "       width=\"24px\">\n",
              "    <path d=\"M0 0h24v24H0V0z\" fill=\"none\"/>\n",
              "    <path d=\"M18.56 5.44l.94 2.06.94-2.06 2.06-.94-2.06-.94-.94-2.06-.94 2.06-2.06.94zm-11 1L8.5 8.5l.94-2.06 2.06-.94-2.06-.94L8.5 2.5l-.94 2.06-2.06.94zm10 10l.94 2.06.94-2.06 2.06-.94-2.06-.94-.94-2.06-.94 2.06-2.06.94z\"/><path d=\"M17.41 7.96l-1.37-1.37c-.4-.4-.92-.59-1.43-.59-.52 0-1.04.2-1.43.59L10.3 9.45l-7.72 7.72c-.78.78-.78 2.05 0 2.83L4 21.41c.39.39.9.59 1.41.59.51 0 1.02-.2 1.41-.59l7.78-7.78 2.81-2.81c.8-.78.8-2.07 0-2.86zM5.41 20L4 18.59l7.72-7.72 1.47 1.35L5.41 20z\"/>\n",
              "  </svg>\n",
              "      </button>\n",
              "      \n",
              "  <style>\n",
              "    .colab-df-container {\n",
              "      display:flex;\n",
              "      flex-wrap:wrap;\n",
              "      gap: 12px;\n",
              "    }\n",
              "\n",
              "    .colab-df-convert {\n",
              "      background-color: #E8F0FE;\n",
              "      border: none;\n",
              "      border-radius: 50%;\n",
              "      cursor: pointer;\n",
              "      display: none;\n",
              "      fill: #1967D2;\n",
              "      height: 32px;\n",
              "      padding: 0 0 0 0;\n",
              "      width: 32px;\n",
              "    }\n",
              "\n",
              "    .colab-df-convert:hover {\n",
              "      background-color: #E2EBFA;\n",
              "      box-shadow: 0px 1px 2px rgba(60, 64, 67, 0.3), 0px 1px 3px 1px rgba(60, 64, 67, 0.15);\n",
              "      fill: #174EA6;\n",
              "    }\n",
              "\n",
              "    [theme=dark] .colab-df-convert {\n",
              "      background-color: #3B4455;\n",
              "      fill: #D2E3FC;\n",
              "    }\n",
              "\n",
              "    [theme=dark] .colab-df-convert:hover {\n",
              "      background-color: #434B5C;\n",
              "      box-shadow: 0px 1px 3px 1px rgba(0, 0, 0, 0.15);\n",
              "      filter: drop-shadow(0px 1px 2px rgba(0, 0, 0, 0.3));\n",
              "      fill: #FFFFFF;\n",
              "    }\n",
              "  </style>\n",
              "\n",
              "      <script>\n",
              "        const buttonEl =\n",
              "          document.querySelector('#df-11098e8b-2ba9-4e30-b952-f77693b783d5 button.colab-df-convert');\n",
              "        buttonEl.style.display =\n",
              "          google.colab.kernel.accessAllowed ? 'block' : 'none';\n",
              "\n",
              "        async function convertToInteractive(key) {\n",
              "          const element = document.querySelector('#df-11098e8b-2ba9-4e30-b952-f77693b783d5');\n",
              "          const dataTable =\n",
              "            await google.colab.kernel.invokeFunction('convertToInteractive',\n",
              "                                                     [key], {});\n",
              "          if (!dataTable) return;\n",
              "\n",
              "          const docLinkHtml = 'Like what you see? Visit the ' +\n",
              "            '<a target=\"_blank\" href=https://colab.research.google.com/notebooks/data_table.ipynb>data table notebook</a>'\n",
              "            + ' to learn more about interactive tables.';\n",
              "          element.innerHTML = '';\n",
              "          dataTable['output_type'] = 'display_data';\n",
              "          await google.colab.output.renderOutput(dataTable, element);\n",
              "          const docLink = document.createElement('div');\n",
              "          docLink.innerHTML = docLinkHtml;\n",
              "          element.appendChild(docLink);\n",
              "        }\n",
              "      </script>\n",
              "    </div>\n",
              "  </div>\n",
              "  "
            ]
          },
          "metadata": {},
          "execution_count": 32
        }
      ]
    },
    {
      "cell_type": "code",
      "source": [
        "#выбираем и обучаем лучшую модель на всем наборе данных\n",
        "clf = report['model'].loc[0]\n",
        "clf.fit(X, y)"
      ],
      "metadata": {
        "colab": {
          "base_uri": "https://localhost:8080/",
          "height": 221
        },
        "id": "xp17x2CIo1C0",
        "outputId": "c4741fa2-25d1-42ad-99b8-c7ddf73ce484"
      },
      "execution_count": 33,
      "outputs": [
        {
          "output_type": "execute_result",
          "data": {
            "text/plain": [
              "Pipeline(steps=[('features',\n",
              "                 FeatureUnion(transformer_list=[('text',\n",
              "                                                 Pipeline(steps=[('selector',\n",
              "                                                                  TextSelector(key='subs')),\n",
              "                                                                 ('vec',\n",
              "                                                                  CountVectorizer(min_df=3,\n",
              "                                                                                  ngram_range=(1,\n",
              "                                                                                               3),\n",
              "                                                                                  stop_words='english'))])),\n",
              "                                                ('A2+percent',\n",
              "                                                 Pipeline(steps=[('selector',\n",
              "                                                                  NumberSelector(key='A2+percent')),\n",
              "                                                                 ('standard',\n",
              "                                                                  MinMaxScaler())])),\n",
              "                                                ('B1+percent',\n",
              "                                                 Pipeline(steps=[('selector',\n",
              "                                                                  NumberSelector(key='B1+percent')),\n",
              "                                                                 ('standard',\n",
              "                                                                  MinMaxScaler())])),\n",
              "                                                ('B2+percent',\n",
              "                                                 Pipeline(steps=[('selector',\n",
              "                                                                  NumberSelector(key='B2+percent')),\n",
              "                                                                 ('standard',\n",
              "                                                                  MinMaxScaler())])),\n",
              "                                                ('C1+percent',\n",
              "                                                 Pipeline(steps=[('selector',\n",
              "                                                                  NumberSelector(key='C1+percent')),\n",
              "                                                                 ('standard',\n",
              "                                                                  MinMaxScaler())]))])),\n",
              "                ('classifier', MultinomialNB(alpha=1))])"
            ],
            "text/html": [
              "<style>#sk-container-id-1 {color: black;background-color: white;}#sk-container-id-1 pre{padding: 0;}#sk-container-id-1 div.sk-toggleable {background-color: white;}#sk-container-id-1 label.sk-toggleable__label {cursor: pointer;display: block;width: 100%;margin-bottom: 0;padding: 0.3em;box-sizing: border-box;text-align: center;}#sk-container-id-1 label.sk-toggleable__label-arrow:before {content: \"▸\";float: left;margin-right: 0.25em;color: #696969;}#sk-container-id-1 label.sk-toggleable__label-arrow:hover:before {color: black;}#sk-container-id-1 div.sk-estimator:hover label.sk-toggleable__label-arrow:before {color: black;}#sk-container-id-1 div.sk-toggleable__content {max-height: 0;max-width: 0;overflow: hidden;text-align: left;background-color: #f0f8ff;}#sk-container-id-1 div.sk-toggleable__content pre {margin: 0.2em;color: black;border-radius: 0.25em;background-color: #f0f8ff;}#sk-container-id-1 input.sk-toggleable__control:checked~div.sk-toggleable__content {max-height: 200px;max-width: 100%;overflow: auto;}#sk-container-id-1 input.sk-toggleable__control:checked~label.sk-toggleable__label-arrow:before {content: \"▾\";}#sk-container-id-1 div.sk-estimator input.sk-toggleable__control:checked~label.sk-toggleable__label {background-color: #d4ebff;}#sk-container-id-1 div.sk-label input.sk-toggleable__control:checked~label.sk-toggleable__label {background-color: #d4ebff;}#sk-container-id-1 input.sk-hidden--visually {border: 0;clip: rect(1px 1px 1px 1px);clip: rect(1px, 1px, 1px, 1px);height: 1px;margin: -1px;overflow: hidden;padding: 0;position: absolute;width: 1px;}#sk-container-id-1 div.sk-estimator {font-family: monospace;background-color: #f0f8ff;border: 1px dotted black;border-radius: 0.25em;box-sizing: border-box;margin-bottom: 0.5em;}#sk-container-id-1 div.sk-estimator:hover {background-color: #d4ebff;}#sk-container-id-1 div.sk-parallel-item::after {content: \"\";width: 100%;border-bottom: 1px solid gray;flex-grow: 1;}#sk-container-id-1 div.sk-label:hover label.sk-toggleable__label {background-color: #d4ebff;}#sk-container-id-1 div.sk-serial::before {content: \"\";position: absolute;border-left: 1px solid gray;box-sizing: border-box;top: 0;bottom: 0;left: 50%;z-index: 0;}#sk-container-id-1 div.sk-serial {display: flex;flex-direction: column;align-items: center;background-color: white;padding-right: 0.2em;padding-left: 0.2em;position: relative;}#sk-container-id-1 div.sk-item {position: relative;z-index: 1;}#sk-container-id-1 div.sk-parallel {display: flex;align-items: stretch;justify-content: center;background-color: white;position: relative;}#sk-container-id-1 div.sk-item::before, #sk-container-id-1 div.sk-parallel-item::before {content: \"\";position: absolute;border-left: 1px solid gray;box-sizing: border-box;top: 0;bottom: 0;left: 50%;z-index: -1;}#sk-container-id-1 div.sk-parallel-item {display: flex;flex-direction: column;z-index: 1;position: relative;background-color: white;}#sk-container-id-1 div.sk-parallel-item:first-child::after {align-self: flex-end;width: 50%;}#sk-container-id-1 div.sk-parallel-item:last-child::after {align-self: flex-start;width: 50%;}#sk-container-id-1 div.sk-parallel-item:only-child::after {width: 0;}#sk-container-id-1 div.sk-dashed-wrapped {border: 1px dashed gray;margin: 0 0.4em 0.5em 0.4em;box-sizing: border-box;padding-bottom: 0.4em;background-color: white;}#sk-container-id-1 div.sk-label label {font-family: monospace;font-weight: bold;display: inline-block;line-height: 1.2em;}#sk-container-id-1 div.sk-label-container {text-align: center;}#sk-container-id-1 div.sk-container {/* jupyter's `normalize.less` sets `[hidden] { display: none; }` but bootstrap.min.css set `[hidden] { display: none !important; }` so we also need the `!important` here to be able to override the default hidden behavior on the sphinx rendered scikit-learn.org. See: https://github.com/scikit-learn/scikit-learn/issues/21755 */display: inline-block !important;position: relative;}#sk-container-id-1 div.sk-text-repr-fallback {display: none;}</style><div id=\"sk-container-id-1\" class=\"sk-top-container\"><div class=\"sk-text-repr-fallback\"><pre>Pipeline(steps=[(&#x27;features&#x27;,\n",
              "                 FeatureUnion(transformer_list=[(&#x27;text&#x27;,\n",
              "                                                 Pipeline(steps=[(&#x27;selector&#x27;,\n",
              "                                                                  TextSelector(key=&#x27;subs&#x27;)),\n",
              "                                                                 (&#x27;vec&#x27;,\n",
              "                                                                  CountVectorizer(min_df=3,\n",
              "                                                                                  ngram_range=(1,\n",
              "                                                                                               3),\n",
              "                                                                                  stop_words=&#x27;english&#x27;))])),\n",
              "                                                (&#x27;A2+percent&#x27;,\n",
              "                                                 Pipeline(steps=[(&#x27;selector&#x27;,\n",
              "                                                                  NumberSelector(key=&#x27;A2+percent&#x27;)),\n",
              "                                                                 (&#x27;standard&#x27;,\n",
              "                                                                  MinMaxScaler())])),\n",
              "                                                (&#x27;B1+percent&#x27;,\n",
              "                                                 Pipeline(steps=[(&#x27;selector&#x27;,\n",
              "                                                                  NumberSelector(key=&#x27;B1+percent&#x27;)),\n",
              "                                                                 (&#x27;standard&#x27;,\n",
              "                                                                  MinMaxScaler())])),\n",
              "                                                (&#x27;B2+percent&#x27;,\n",
              "                                                 Pipeline(steps=[(&#x27;selector&#x27;,\n",
              "                                                                  NumberSelector(key=&#x27;B2+percent&#x27;)),\n",
              "                                                                 (&#x27;standard&#x27;,\n",
              "                                                                  MinMaxScaler())])),\n",
              "                                                (&#x27;C1+percent&#x27;,\n",
              "                                                 Pipeline(steps=[(&#x27;selector&#x27;,\n",
              "                                                                  NumberSelector(key=&#x27;C1+percent&#x27;)),\n",
              "                                                                 (&#x27;standard&#x27;,\n",
              "                                                                  MinMaxScaler())]))])),\n",
              "                (&#x27;classifier&#x27;, MultinomialNB(alpha=1))])</pre><b>In a Jupyter environment, please rerun this cell to show the HTML representation or trust the notebook. <br />On GitHub, the HTML representation is unable to render, please try loading this page with nbviewer.org.</b></div><div class=\"sk-container\" hidden><div class=\"sk-item sk-dashed-wrapped\"><div class=\"sk-label-container\"><div class=\"sk-label sk-toggleable\"><input class=\"sk-toggleable__control sk-hidden--visually\" id=\"sk-estimator-id-1\" type=\"checkbox\" ><label for=\"sk-estimator-id-1\" class=\"sk-toggleable__label sk-toggleable__label-arrow\">Pipeline</label><div class=\"sk-toggleable__content\"><pre>Pipeline(steps=[(&#x27;features&#x27;,\n",
              "                 FeatureUnion(transformer_list=[(&#x27;text&#x27;,\n",
              "                                                 Pipeline(steps=[(&#x27;selector&#x27;,\n",
              "                                                                  TextSelector(key=&#x27;subs&#x27;)),\n",
              "                                                                 (&#x27;vec&#x27;,\n",
              "                                                                  CountVectorizer(min_df=3,\n",
              "                                                                                  ngram_range=(1,\n",
              "                                                                                               3),\n",
              "                                                                                  stop_words=&#x27;english&#x27;))])),\n",
              "                                                (&#x27;A2+percent&#x27;,\n",
              "                                                 Pipeline(steps=[(&#x27;selector&#x27;,\n",
              "                                                                  NumberSelector(key=&#x27;A2+percent&#x27;)),\n",
              "                                                                 (&#x27;standard&#x27;,\n",
              "                                                                  MinMaxScaler())])),\n",
              "                                                (&#x27;B1+percent&#x27;,\n",
              "                                                 Pipeline(steps=[(&#x27;selector&#x27;,\n",
              "                                                                  NumberSelector(key=&#x27;B1+percent&#x27;)),\n",
              "                                                                 (&#x27;standard&#x27;,\n",
              "                                                                  MinMaxScaler())])),\n",
              "                                                (&#x27;B2+percent&#x27;,\n",
              "                                                 Pipeline(steps=[(&#x27;selector&#x27;,\n",
              "                                                                  NumberSelector(key=&#x27;B2+percent&#x27;)),\n",
              "                                                                 (&#x27;standard&#x27;,\n",
              "                                                                  MinMaxScaler())])),\n",
              "                                                (&#x27;C1+percent&#x27;,\n",
              "                                                 Pipeline(steps=[(&#x27;selector&#x27;,\n",
              "                                                                  NumberSelector(key=&#x27;C1+percent&#x27;)),\n",
              "                                                                 (&#x27;standard&#x27;,\n",
              "                                                                  MinMaxScaler())]))])),\n",
              "                (&#x27;classifier&#x27;, MultinomialNB(alpha=1))])</pre></div></div></div><div class=\"sk-serial\"><div class=\"sk-item sk-dashed-wrapped\"><div class=\"sk-label-container\"><div class=\"sk-label sk-toggleable\"><input class=\"sk-toggleable__control sk-hidden--visually\" id=\"sk-estimator-id-2\" type=\"checkbox\" ><label for=\"sk-estimator-id-2\" class=\"sk-toggleable__label sk-toggleable__label-arrow\">features: FeatureUnion</label><div class=\"sk-toggleable__content\"><pre>FeatureUnion(transformer_list=[(&#x27;text&#x27;,\n",
              "                                Pipeline(steps=[(&#x27;selector&#x27;,\n",
              "                                                 TextSelector(key=&#x27;subs&#x27;)),\n",
              "                                                (&#x27;vec&#x27;,\n",
              "                                                 CountVectorizer(min_df=3,\n",
              "                                                                 ngram_range=(1,\n",
              "                                                                              3),\n",
              "                                                                 stop_words=&#x27;english&#x27;))])),\n",
              "                               (&#x27;A2+percent&#x27;,\n",
              "                                Pipeline(steps=[(&#x27;selector&#x27;,\n",
              "                                                 NumberSelector(key=&#x27;A2+percent&#x27;)),\n",
              "                                                (&#x27;standard&#x27;, MinMaxScaler())])),\n",
              "                               (&#x27;B1+percent&#x27;,\n",
              "                                Pipeline(steps=[(&#x27;selector&#x27;,\n",
              "                                                 NumberSelector(key=&#x27;B1+percent&#x27;)),\n",
              "                                                (&#x27;standard&#x27;, MinMaxScaler())])),\n",
              "                               (&#x27;B2+percent&#x27;,\n",
              "                                Pipeline(steps=[(&#x27;selector&#x27;,\n",
              "                                                 NumberSelector(key=&#x27;B2+percent&#x27;)),\n",
              "                                                (&#x27;standard&#x27;, MinMaxScaler())])),\n",
              "                               (&#x27;C1+percent&#x27;,\n",
              "                                Pipeline(steps=[(&#x27;selector&#x27;,\n",
              "                                                 NumberSelector(key=&#x27;C1+percent&#x27;)),\n",
              "                                                (&#x27;standard&#x27;,\n",
              "                                                 MinMaxScaler())]))])</pre></div></div></div><div class=\"sk-parallel\"><div class=\"sk-parallel-item\"><div class=\"sk-item\"><div class=\"sk-label-container\"><div class=\"sk-label sk-toggleable\"><label>text</label></div></div><div class=\"sk-serial\"><div class=\"sk-item\"><div class=\"sk-serial\"><div class=\"sk-item\"><div class=\"sk-estimator sk-toggleable\"><input class=\"sk-toggleable__control sk-hidden--visually\" id=\"sk-estimator-id-3\" type=\"checkbox\" ><label for=\"sk-estimator-id-3\" class=\"sk-toggleable__label sk-toggleable__label-arrow\">TextSelector</label><div class=\"sk-toggleable__content\"><pre>TextSelector(key=&#x27;subs&#x27;)</pre></div></div></div><div class=\"sk-item\"><div class=\"sk-estimator sk-toggleable\"><input class=\"sk-toggleable__control sk-hidden--visually\" id=\"sk-estimator-id-4\" type=\"checkbox\" ><label for=\"sk-estimator-id-4\" class=\"sk-toggleable__label sk-toggleable__label-arrow\">CountVectorizer</label><div class=\"sk-toggleable__content\"><pre>CountVectorizer(min_df=3, ngram_range=(1, 3), stop_words=&#x27;english&#x27;)</pre></div></div></div></div></div></div></div></div><div class=\"sk-parallel-item\"><div class=\"sk-item\"><div class=\"sk-label-container\"><div class=\"sk-label sk-toggleable\"><label>A2+percent</label></div></div><div class=\"sk-serial\"><div class=\"sk-item\"><div class=\"sk-serial\"><div class=\"sk-item\"><div class=\"sk-estimator sk-toggleable\"><input class=\"sk-toggleable__control sk-hidden--visually\" id=\"sk-estimator-id-5\" type=\"checkbox\" ><label for=\"sk-estimator-id-5\" class=\"sk-toggleable__label sk-toggleable__label-arrow\">NumberSelector</label><div class=\"sk-toggleable__content\"><pre>NumberSelector(key=&#x27;A2+percent&#x27;)</pre></div></div></div><div class=\"sk-item\"><div class=\"sk-estimator sk-toggleable\"><input class=\"sk-toggleable__control sk-hidden--visually\" id=\"sk-estimator-id-6\" type=\"checkbox\" ><label for=\"sk-estimator-id-6\" class=\"sk-toggleable__label sk-toggleable__label-arrow\">MinMaxScaler</label><div class=\"sk-toggleable__content\"><pre>MinMaxScaler()</pre></div></div></div></div></div></div></div></div><div class=\"sk-parallel-item\"><div class=\"sk-item\"><div class=\"sk-label-container\"><div class=\"sk-label sk-toggleable\"><label>B1+percent</label></div></div><div class=\"sk-serial\"><div class=\"sk-item\"><div class=\"sk-serial\"><div class=\"sk-item\"><div class=\"sk-estimator sk-toggleable\"><input class=\"sk-toggleable__control sk-hidden--visually\" id=\"sk-estimator-id-7\" type=\"checkbox\" ><label for=\"sk-estimator-id-7\" class=\"sk-toggleable__label sk-toggleable__label-arrow\">NumberSelector</label><div class=\"sk-toggleable__content\"><pre>NumberSelector(key=&#x27;B1+percent&#x27;)</pre></div></div></div><div class=\"sk-item\"><div class=\"sk-estimator sk-toggleable\"><input class=\"sk-toggleable__control sk-hidden--visually\" id=\"sk-estimator-id-8\" type=\"checkbox\" ><label for=\"sk-estimator-id-8\" class=\"sk-toggleable__label sk-toggleable__label-arrow\">MinMaxScaler</label><div class=\"sk-toggleable__content\"><pre>MinMaxScaler()</pre></div></div></div></div></div></div></div></div><div class=\"sk-parallel-item\"><div class=\"sk-item\"><div class=\"sk-label-container\"><div class=\"sk-label sk-toggleable\"><label>B2+percent</label></div></div><div class=\"sk-serial\"><div class=\"sk-item\"><div class=\"sk-serial\"><div class=\"sk-item\"><div class=\"sk-estimator sk-toggleable\"><input class=\"sk-toggleable__control sk-hidden--visually\" id=\"sk-estimator-id-9\" type=\"checkbox\" ><label for=\"sk-estimator-id-9\" class=\"sk-toggleable__label sk-toggleable__label-arrow\">NumberSelector</label><div class=\"sk-toggleable__content\"><pre>NumberSelector(key=&#x27;B2+percent&#x27;)</pre></div></div></div><div class=\"sk-item\"><div class=\"sk-estimator sk-toggleable\"><input class=\"sk-toggleable__control sk-hidden--visually\" id=\"sk-estimator-id-10\" type=\"checkbox\" ><label for=\"sk-estimator-id-10\" class=\"sk-toggleable__label sk-toggleable__label-arrow\">MinMaxScaler</label><div class=\"sk-toggleable__content\"><pre>MinMaxScaler()</pre></div></div></div></div></div></div></div></div><div class=\"sk-parallel-item\"><div class=\"sk-item\"><div class=\"sk-label-container\"><div class=\"sk-label sk-toggleable\"><label>C1+percent</label></div></div><div class=\"sk-serial\"><div class=\"sk-item\"><div class=\"sk-serial\"><div class=\"sk-item\"><div class=\"sk-estimator sk-toggleable\"><input class=\"sk-toggleable__control sk-hidden--visually\" id=\"sk-estimator-id-11\" type=\"checkbox\" ><label for=\"sk-estimator-id-11\" class=\"sk-toggleable__label sk-toggleable__label-arrow\">NumberSelector</label><div class=\"sk-toggleable__content\"><pre>NumberSelector(key=&#x27;C1+percent&#x27;)</pre></div></div></div><div class=\"sk-item\"><div class=\"sk-estimator sk-toggleable\"><input class=\"sk-toggleable__control sk-hidden--visually\" id=\"sk-estimator-id-12\" type=\"checkbox\" ><label for=\"sk-estimator-id-12\" class=\"sk-toggleable__label sk-toggleable__label-arrow\">MinMaxScaler</label><div class=\"sk-toggleable__content\"><pre>MinMaxScaler()</pre></div></div></div></div></div></div></div></div></div></div><div class=\"sk-item\"><div class=\"sk-estimator sk-toggleable\"><input class=\"sk-toggleable__control sk-hidden--visually\" id=\"sk-estimator-id-13\" type=\"checkbox\" ><label for=\"sk-estimator-id-13\" class=\"sk-toggleable__label sk-toggleable__label-arrow\">MultinomialNB</label><div class=\"sk-toggleable__content\"><pre>MultinomialNB(alpha=1)</pre></div></div></div></div></div></div></div>"
            ]
          },
          "metadata": {},
          "execution_count": 33
        }
      ]
    },
    {
      "cell_type": "markdown",
      "source": [
        "##Оценка модели на тестовой  выборке"
      ],
      "metadata": {
        "id": "OA8KZZI-3I8S"
      }
    },
    {
      "cell_type": "code",
      "source": [
        "X_test['subs'] = X_test['subs'].apply(clean_subs)\n",
        "X_test.loc[:,levpercent] = X_test['subs'].apply(count_percent_words_dictionar).to_list()"
      ],
      "metadata": {
        "id": "uRGtEjyugCyj"
      },
      "execution_count": 34,
      "outputs": []
    },
    {
      "cell_type": "code",
      "source": [
        "def plot_confusion_matrix(y_test, y_preds, model):\n",
        "  \"\"\"строит матрицу ошибок\"\"\"\n",
        "  fig, ax = plt.subplots(figsize=(10,10))\n",
        "  cm = confusion_matrix(y_test, y_preds)\n",
        "  cmp = ConfusionMatrixDisplay(cm, display_labels = model.classes_ )\n",
        "  cmp.plot(ax=ax)\n",
        "  plt.suptitle('Матрица ошибок', y=0.92)\n",
        "  plt.show()\n",
        "predictions =clf.predict(X_test)\n",
        "# выведем классификационную таблицу и матрицу ошибок\n",
        "print(classification_report(y_test, predictions))\n",
        "plot_confusion_matrix(y_test, predictions, clf)"
      ],
      "metadata": {
        "colab": {
          "base_uri": "https://localhost:8080/",
          "height": 1000
        },
        "id": "R7wB9eMznIu-",
        "outputId": "f4d25be2-ec6c-4d28-8f6d-e4a9206fec89"
      },
      "execution_count": 35,
      "outputs": [
        {
          "output_type": "stream",
          "name": "stdout",
          "text": [
            "              precision    recall  f1-score   support\n",
            "\n",
            "           1       1.00      0.12      0.22         8\n",
            "           2       0.46      0.79      0.58        14\n",
            "           3       0.87      0.77      0.82        26\n",
            "           4       1.00      1.00      1.00        10\n",
            "\n",
            "    accuracy                           0.72        58\n",
            "   macro avg       0.83      0.67      0.65        58\n",
            "weighted avg       0.81      0.72      0.71        58\n",
            "\n"
          ]
        },
        {
          "output_type": "display_data",
          "data": {
            "text/plain": [
              "<Figure size 1000x1000 with 2 Axes>"
            ],
            "image/png": "[encoded data removed]"
          },
          "metadata": {}
        }
      ]
    },
    {
      "cell_type": "markdown",
      "source": [
        "###Выводы по результатам работы модели\n",
        "Из оценки классификатора на тестовой выборке можно сделать следующие выводы:\n",
        "\n",
        "Модель MultinomialNB() чаще всего ошибается на граничных метках.\n",
        "Взвешенная метрика F1-weighted на тестовой выборке составила 0.71."
      ],
      "metadata": {
        "id": "zYkZG8V86img"
      }
    },
    {
      "cell_type": "markdown",
      "source": [
        "##Выводы\n",
        "В ходе работы было выполнено:\n",
        "\n",
        "Загрузка необходимых библиотек;\n",
        "загрузка и ознакомление с данными (загружены субтитры, фильмы с метками уровня сложности, классический словарь Oxford с 5000 словами);\n",
        "предобработка данных (очистка от дубликатов, проверка наличия разметки для обучающих данных, определение исходного количества представленных данных, очитска текста субтитров, разбивка на обучающую и тестовую выборки);\n",
        "Выбора метода препроцессинг данных, а именно преобразование текство субтитров с компактную разреженную матрицу с помощью CountVectorizer,  TfidfVectorizer.\n",
        "Добавление дополнительных признаков- количество уникальных лемм (слов основной формы), содержащихся в каждом тексте субтитров согласно уровню сложности по классичесокму словарю Oxford;\n",
        "обоснование использования метрики качества F1-weighted;\n",
        "Выбор модели-классификатора MultinomialNB, SGDClassifier с побором гиперпараметров. Оценка модели на тестовой выборке."
      ],
      "metadata": {
        "id": "XZvMmfJh64JI"
      }
    },
    {
      "cell_type": "code",
      "source": [],
      "metadata": {
        "id": "QYCLhLBpzL_m"
      },
      "execution_count": 35,
      "outputs": []
    }
  ]
}